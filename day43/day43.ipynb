{
 "cells": [
  {
   "cell_type": "code",
   "execution_count": 1,
   "metadata": {},
   "outputs": [
    {
     "name": "stdout",
     "output_type": "stream",
     "text": [
      "True\n"
     ]
    }
   ],
   "source": [
    "a = \"Apple\"\n",
    "b = a\n",
    "is_same_id = id(a) == id(b)\n",
    "print(is_same_id)"
   ]
  },
  {
   "cell_type": "code",
   "execution_count": 2,
   "metadata": {},
   "outputs": [
    {
     "name": "stdout",
     "output_type": "stream",
     "text": [
      "Special characters list ['@', '%', '*', '#']\n",
      "New list : ['@', '%', '*', '#']\n"
     ]
    }
   ],
   "source": [
    "special_characters = [\"@\", \"!\", \"*\", \"#\"]\n",
    "list_new = special_characters\n",
    "list_new[1] = \"%\"\n",
    "\n",
    "print(\"Special characters list \" + str(special_characters))\n",
    "print(\"New list : \"+ str(list_new)) "
   ]
  },
  {
   "cell_type": "code",
   "execution_count": 4,
   "metadata": {},
   "outputs": [
    {
     "name": "stdout",
     "output_type": "stream",
     "text": [
      "['Fire', ['Water', 'Earth'], 'Air']\n",
      "['Water', 'Earth']\n"
     ]
    }
   ],
   "source": [
    "nature = [\"Fire\", [\"Water\"], \"Air\"]\n",
    "new_list = nature[1]\n",
    "new_list += [\"Earth\"]\n",
    "\n",
    "print(nature)\n",
    "print(new_list)"
   ]
  },
  {
   "cell_type": "code",
   "execution_count": 5,
   "metadata": {},
   "outputs": [
    {
     "name": "stdout",
     "output_type": "stream",
     "text": [
      "list a : [1, 2, 6, 7]\n",
      "list b : [1, 2, 6, 7]\n"
     ]
    }
   ],
   "source": [
    "list_a = [1, 2]\n",
    "list_b = list_a\n",
    "list_a += [6, 7]\n",
    "print(\"list a : \" + str(list_a))\n",
    "print(\"list b : \" + str(list_b))"
   ]
  },
  {
   "cell_type": "code",
   "execution_count": 6,
   "metadata": {},
   "outputs": [
    {
     "name": "stdout",
     "output_type": "stream",
     "text": [
      "[1, [10, 3]]\n",
      "[10, [10, 3]]\n"
     ]
    }
   ],
   "source": [
    "a = [1, [2,3]]\n",
    "b = [10, a[1]]\n",
    "c = a[1]\n",
    "c[0] = 10\n",
    "print(a)\n",
    "print(b)"
   ]
  },
  {
   "cell_type": "code",
   "execution_count": 7,
   "metadata": {},
   "outputs": [
    {
     "name": "stdout",
     "output_type": "stream",
     "text": [
      "['Football', 'Badminton', 'basketball', 'Chess']\n",
      "['Football', 'Badminton', 'basketball', 'Chess']\n"
     ]
    }
   ],
   "source": [
    "sport = \"Chess\"\n",
    "sports_list = [\"Football\", \"Badminton\", \"basketball\", sport]\n",
    "print(sports_list)\n",
    "\n",
    "sport = \"Hockey\"\n",
    "print(sports_list)"
   ]
  },
  {
   "cell_type": "code",
   "execution_count": 8,
   "metadata": {},
   "outputs": [
    {
     "name": "stdout",
     "output_type": "stream",
     "text": [
      "#\n"
     ]
    }
   ],
   "source": [
    "characters = [1, 2, 3, [\"!\", \"@\", \"#\"]]\n",
    "print(characters[3][2])"
   ]
  },
  {
   "cell_type": "code",
   "execution_count": 9,
   "metadata": {},
   "outputs": [
    {
     "name": "stdout",
     "output_type": "stream",
     "text": [
      "True\n"
     ]
    }
   ],
   "source": [
    "perfect_squares = [4, 9, 16, 25, 36]\n",
    "new_list = perfect_squares\n",
    "\n",
    "is_same_id = (id(perfect_squares) == id(new_list))\n",
    "print(is_same_id)"
   ]
  },
  {
   "cell_type": "code",
   "execution_count": 10,
   "metadata": {},
   "outputs": [
    {
     "name": "stdout",
     "output_type": "stream",
     "text": [
      "[2, 4, [6, 8]]\n",
      "[12, 14, [6, 8]]\n"
     ]
    }
   ],
   "source": [
    "list_1 = [2, 4, [6, 8]]\n",
    "list_2 = [12, 14, list_1[2]]\n",
    "list_3 = list_1[2]\n",
    "list_3 = [16, 20]\n",
    "\n",
    "print(list_1)\n",
    "print(list_2)"
   ]
  },
  {
   "cell_type": "code",
   "execution_count": 11,
   "metadata": {},
   "outputs": [
    {
     "name": "stdout",
     "output_type": "stream",
     "text": [
      "['a', 4, 'b', 2]\n",
      "[['a', 4, 'b', 2], 3]\n"
     ]
    }
   ],
   "source": [
    "list_1 = [\"a\", 1, \"b\", 2]\n",
    "list_2 = [list_1, 3]\n",
    "list_1[1] = 4\n",
    "\n",
    "print(list_1)\n",
    "print(list_2)"
   ]
  },
  {
   "cell_type": "code",
   "execution_count": 12,
   "metadata": {},
   "outputs": [
    {
     "name": "stdout",
     "output_type": "stream",
     "text": [
      "True\n"
     ]
    }
   ],
   "source": [
    "string_1 = \"Bengal\"\n",
    "string_2 = string_1 + \"Tiger\"\n",
    "\n",
    "is_different_id = (id(string_1) != id(string_2))\n",
    "print(is_different_id)"
   ]
  },
  {
   "cell_type": "code",
   "execution_count": 13,
   "metadata": {},
   "outputs": [
    {
     "name": "stdout",
     "output_type": "stream",
     "text": [
      "False\n"
     ]
    }
   ],
   "source": [
    "a = [1, 5, 3, 4]\n",
    "a_1 = id(a)\n",
    "a[1] = 2\n",
    "a_2 = id(a)\n",
    "is_same_id = a_1 != a_2\n",
    "print(is_same_id)"
   ]
  },
  {
   "cell_type": "code",
   "execution_count": 14,
   "metadata": {},
   "outputs": [
    {
     "name": "stdout",
     "output_type": "stream",
     "text": [
      "list a : [1, 2, 6, 7]\n",
      "list b : [1, 2]\n"
     ]
    }
   ],
   "source": [
    "list_a = [1, 2]\n",
    "list_b = list_a \n",
    "list_a = list_a + [6,7]\n",
    "print(\"list a : \" + str(list_a))\n",
    "print(\"list b : \" + str(list_b))\n"
   ]
  },
  {
   "cell_type": "code",
   "execution_count": 15,
   "metadata": {},
   "outputs": [
    {
     "name": "stdout",
     "output_type": "stream",
     "text": [
      "False\n"
     ]
    }
   ],
   "source": [
    "motto = \"Don't Quit\"\n",
    "list_a = list(motto)\n",
    "\n",
    "is_same_id = (id(motto) == id(list_a))\n",
    "print(is_same_id)"
   ]
  },
  {
   "cell_type": "code",
   "execution_count": 16,
   "metadata": {},
   "outputs": [
    {
     "name": "stdout",
     "output_type": "stream",
     "text": [
      "['a', 'b', ['c', 'd'], 'e']\n",
      "['c', 'd', 'f']\n"
     ]
    }
   ],
   "source": [
    "list_1 = [\"a\", \"b\", [\"c\", \"d\"], \"e\"]\n",
    "\n",
    "list_2 = list_1[2]\n",
    "list_2 = list_2 + [\"f\"]\n",
    "\n",
    "print(list_1)\n",
    "print(list_2)"
   ]
  },
  {
   "cell_type": "code",
   "execution_count": null,
   "metadata": {},
   "outputs": [],
   "source": [
    "n = int(input())\n",
    "list_a = []\n",
    "for i in range(1, n+1):\n",
    "    n_input = input()\n",
    "    list_a += [n_input]\n",
    "print(list_a)"
   ]
  },
  {
   "cell_type": "code",
   "execution_count": null,
   "metadata": {},
   "outputs": [],
   "source": [
    "n = int(input())\n",
    "\n",
    "l = []\n",
    "\n",
    "for i in range(n):\n",
    "    number = int(input())\n",
    "    l += [number]\n",
    "\n",
    "print(l)"
   ]
  },
  {
   "cell_type": "code",
   "execution_count": null,
   "metadata": {},
   "outputs": [],
   "source": [
    "n = int(input())\n",
    "\n",
    "l = []\n",
    "\n",
    "for i in range(n):\n",
    "    number = int(input())\n",
    "    l += [number]\n",
    "\n",
    "print(l)"
   ]
  },
  {
   "cell_type": "code",
   "execution_count": null,
   "metadata": {},
   "outputs": [],
   "source": [
    "m = int(input())\n",
    "n = int(input())\n",
    "\n",
    "list_a = [m] * n  # repeat n times\n",
    "print(list_a)"
   ]
  },
  {
   "cell_type": "code",
   "execution_count": null,
   "metadata": {},
   "outputs": [],
   "source": [
    "word = input()\n",
    "word_list = list(word)\n",
    "print(word_list)"
   ]
  },
  {
   "cell_type": "code",
   "execution_count": null,
   "metadata": {},
   "outputs": [],
   "source": [
    "\n",
    "L = [1, 20, 33, 45, 520, 64, 71, 852, 9999, 101010]\n",
    "\n",
    "index = int(input())\n",
    "number = int(input())\n",
    "\n",
    "L[index] = number\n",
    "\n",
    "print(L)"
   ]
  },
  {
   "cell_type": "code",
   "execution_count": null,
   "metadata": {},
   "outputs": [],
   "source": [
    "num_list = [1, 6, 32, 93, 71, -20, 30, -90, 50]\n",
    "\n",
    "n = int(input())\n",
    "new_list = []\n",
    "for number in num_list:\n",
    "    if number > n:\n",
    "        new_list += [number]\n",
    "\n",
    "print(new_list)"
   ]
  },
  {
   "cell_type": "code",
   "execution_count": 11,
   "metadata": {},
   "outputs": [
    {
     "name": "stdout",
     "output_type": "stream",
     "text": [
      "[]\n"
     ]
    }
   ],
   "source": [
    "l= [1, 2,3,4,5,6,7,8]\n",
    "l = l[:]\n",
    "print(l)"
   ]
  },
  {
   "cell_type": "code",
   "execution_count": null,
   "metadata": {},
   "outputs": [],
   "source": [
    "n = int(input())\n",
    "\n",
    "list_a = []\n",
    "for i in range(n):\n",
    "    value = input()\n",
    "    list_a += [value]\n",
    "\n",
    "new_list = list_a[:3] + list_a[n-3:]\n",
    "print(new_list)"
   ]
  },
  {
   "cell_type": "code",
   "execution_count": null,
   "metadata": {},
   "outputs": [],
   "source": [
    "n = int(input())\n",
    "list_a = []\n",
    "\n",
    "for i in range(n):\n",
    "    value = input()  # Read the list inputs\n",
    "    list_a += [value]\n",
    "\n",
    "for i in range(n):\n",
    "    print(list_a[n-i-1])"
   ]
  }
 ],
 "metadata": {
  "kernelspec": {
   "display_name": "Python 3",
   "language": "python",
   "name": "python3"
  },
  "language_info": {
   "codemirror_mode": {
    "name": "ipython",
    "version": 3
   },
   "file_extension": ".py",
   "mimetype": "text/x-python",
   "name": "python",
   "nbconvert_exporter": "python",
   "pygments_lexer": "ipython3",
   "version": "3.11.5"
  },
  "orig_nbformat": 4
 },
 "nbformat": 4,
 "nbformat_minor": 2
}
