{
 "cells": [
  {
   "cell_type": "code",
   "execution_count": null,
   "metadata": {},
   "outputs": [],
   "source": [
    "#Wap to print first word among the words in the sentence s \n",
    "string = input()\n",
    "\n",
    "first_word = \"\"\n",
    "\n",
    "for char in string:\n",
    "    if char == \" \":\n",
    "        break\n",
    "    else:\n",
    "        first_word = first_word + char\n",
    "        \n",
    "print(first_word)"
   ]
  },
  {
   "cell_type": "code",
   "execution_count": null,
   "metadata": {},
   "outputs": [],
   "source": [
    "#Wap to print the greatest factor of N which is smaller than N itself\n",
    "number = int(input())\n",
    "\n",
    "for each_number in range(1, number):\n",
    "    if number % each_number == 0:\n",
    "        largest_factor = each_number\n",
    "        \n",
    "print(largest_factor)"
   ]
  },
  {
   "cell_type": "code",
   "execution_count": null,
   "metadata": {},
   "outputs": [],
   "source": [
    "number = int(input())\n",
    "k = int(input())\n",
    "\n",
    "for each_number in range(number):\n",
    "    if number % (number - each_number) == 0:\n",
    "        largest_factor = number - each_number\n",
    "        k = k - 1\n",
    "    if k == 0:\n",
    "        break\n",
    "    \n",
    "print(largest_factor)"
   ]
  },
  {
   "cell_type": "code",
   "execution_count": null,
   "metadata": {},
   "outputs": [],
   "source": [
    "#Wap to print the digit 9 in (2*N-1) rows using (*)\n",
    "n = int(input())\n",
    "star = \"* \"\n",
    "\n",
    "for i in range(1, n+1):\n",
    "    if i == 1 :\n",
    "        print(star*n)\n",
    "    elif i == n :\n",
    "        print(star*n)\n",
    "    else :\n",
    "        print(star + (\"  \"*(n-2)) + star )\n",
    "for i in range(1, n):\n",
    "    if i == (n-1) :\n",
    "        print(star*n)\n",
    "    else :\n",
    "        print( (\"  \"*(n-1)) + star  )"
   ]
  },
  {
   "cell_type": "code",
   "execution_count": null,
   "metadata": {},
   "outputs": [],
   "source": [
    "#Wap to print a pyramid inside a rectangle of N rows using (0) to represent pyramid\n",
    "#and (.) to represent empty spaces\n",
    "n = int(input())\n",
    "dots_limit = (n-1)\n",
    "zeroes_limit = 1 \n",
    "for i in range(1, n+1):\n",
    "    left_dots = \". \"*dots_limit\n",
    "    right_dots = \". \"*dots_limit\n",
    "    zeroes = \"0 \"*zeroes_limit\n",
    "    print(left_dots+zeroes+right_dots)\n",
    "    dots_limit -= 1 \n",
    "    zeroes_limit += 2 "
   ]
  },
  {
   "cell_type": "code",
   "execution_count": null,
   "metadata": {},
   "outputs": [],
   "source": [
    "#Wap to print the digit 3 in (2*N-1) rows using (*)\n",
    "n = int(input())\n",
    "star = \"* \"\n",
    "for i in range(1, n+1):\n",
    "    if i == 1 :\n",
    "        print(star*n)\n",
    "    elif i == n :\n",
    "        print(star*n)\n",
    "    else :\n",
    "        print((\"  \"*(n-1))+star)\n",
    "for i in range(1, n):\n",
    "    if i == (n-1):\n",
    "        print(star*n)\n",
    "    else :\n",
    "        print((\"  \"*(n-1))+ star)"
   ]
  },
  {
   "cell_type": "code",
   "execution_count": null,
   "metadata": {},
   "outputs": [],
   "source": [
    "#Wap to print the digit 5 in (2*N-1) rows using (*)\n",
    "n = int(input())\n",
    "star = \"* \"\n",
    "for i in range(1, n+1):\n",
    "    if i == 1 :\n",
    "        print(star*n)\n",
    "    elif i == n:\n",
    "        print(star*n)\n",
    "    else :\n",
    "        print(star + (\"  \"*(n-1)))\n",
    "for i in range(1, n):\n",
    "    if i == (n-1):\n",
    "        print(star*n)\n",
    "    else :\n",
    "        print((\"  \"*(n-1))+star)"
   ]
  },
  {
   "cell_type": "code",
   "execution_count": null,
   "metadata": {},
   "outputs": [],
   "source": [
    "rows = int(input())\n",
    "columns = int(input())\n",
    "\n",
    "spaces = 2 * columns - 3\n",
    "alphabets = \"ABCDEFGHIJKLMNOPQRSTUVWXYZ\"\n",
    "\n",
    "current_index = 0\n",
    "\n",
    "for row in range(rows):\n",
    "    each_row = \"\"\n",
    "\n",
    "    for column in range(columns):\n",
    "        if row == 0 or row == rows - 1:\n",
    "            each_row = each_row + alphabets[current_index] + \" \"\n",
    "        elif column == 0:\n",
    "            each_row = each_row + alphabets[current_index] + \" \" * spaces + alphabets[columns + current_index - 1]\n",
    "\n",
    "        current_index = current_index + 1\n",
    "\n",
    "    print(each_row)"
   ]
  },
  {
   "cell_type": "markdown",
   "metadata": {},
   "source": []
  }
 ],
 "metadata": {
  "language_info": {
   "name": "python"
  },
  "orig_nbformat": 4
 },
 "nbformat": 4,
 "nbformat_minor": 2
}
