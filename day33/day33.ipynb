{
 "cells": [
  {
   "cell_type": "code",
   "execution_count": null,
   "metadata": {},
   "outputs": [],
   "source": [
    "#WAP to print the count of even numbers and odd numbers in the range M TO N\n",
    "m = int(input())\n",
    "n = int(input())\n",
    "even_count = 0\n",
    "odd_count = 0\n",
    "for i in range(m, n+1):\n",
    "    if i%2==0:\n",
    "        even_count += 1 \n",
    "    else:\n",
    "        odd_count += 1 \n",
    "print(odd_count)\n",
    "print(even_count)"
   ]
  },
  {
   "cell_type": "code",
   "execution_count": null,
   "metadata": {},
   "outputs": [],
   "source": [
    "#WAP to print the count of vowels and consonants in a given string\n",
    "s = input()\n",
    "vowels = \"AEIOUaeiou\"\n",
    "length = len(vowels)\n",
    "vowels_count = 0\n",
    "consonant_count = 0\n",
    "for i in s :\n",
    "    count = 0\n",
    "    for j in range(length):\n",
    "        # count = 0\n",
    "        if i == \" \":\n",
    "            count += 1 \n",
    "            break\n",
    "        if i == vowels[j]:\n",
    "            count += 1\n",
    "            vowels_count = vowels_count + 1 \n",
    "            \n",
    "    if count == 0:\n",
    "        consonant_count += 1 \n",
    "print(vowels_count)\n",
    "print(consonant_count)"
   ]
  },
  {
   "cell_type": "code",
   "execution_count": 2,
   "metadata": {},
   "outputs": [
    {
     "name": "stdout",
     "output_type": "stream",
     "text": [
      "0\n"
     ]
    }
   ],
   "source": [
    "#WAP to print the length of N madeup of only uppercase characters\n",
    "#\"R\" and \"G\" find out the minimum number of characters you need to make the whole string same\n",
    "s = input()\n",
    "length = len(s)\n",
    "r_count = 0\n",
    "g_count = 0\n",
    "for i in s :\n",
    "    if i == \"R\":\n",
    "        r_count += 1 \n",
    "    else :\n",
    "        g_count += 1 \n",
    "if r_count>g_count :\n",
    "    output = length - r_count\n",
    "    print(output)\n",
    "else :\n",
    "    output = length - g_count\n",
    "    print(output)"
   ]
  },
  {
   "cell_type": "code",
   "execution_count": null,
   "metadata": {},
   "outputs": [],
   "source": [
    "#WAP to print the right angle triangle of alphabets\n",
    "n = int(input())\n",
    "alpha = \"ABCDEFGHIJKLMNOPQRSTUVWXYZ\"\n",
    "spaces = \"  \"\n",
    "spaces_count = (n-1)\n",
    "row = \"\"\n",
    "for i in range(n):\n",
    "    row = row + alpha[i] + \" \"\n",
    "    print(row + (spaces*spaces_count))\n",
    "    spaces_count -= 1 "
   ]
  },
  {
   "cell_type": "code",
   "execution_count": null,
   "metadata": {},
   "outputs": [],
   "source": [
    "#WAP to print a triangular pattern of N lines with numbers \n",
    "n = int(input())\n",
    "row = \"\"\n",
    "rev_rows = \"\"\n",
    "spaces = \"  \"\n",
    "space_count = (n-1)\n",
    "for i in range(1, n+1):\n",
    "    if i == 1 :\n",
    "        print(\"1\" + (spaces*space_count))\n",
    "    else :\n",
    "        row = row+str(i)\n",
    "        rev_row_count = i-1\n",
    "        rev_rows = str(rev_row_count) + rev_rows\n",
    "        print(\"1\"+row + rev_rows + (spaces*space_count))\n",
    "        # rev_row_count = i-1"
   ]
  },
  {
   "cell_type": "code",
   "execution_count": null,
   "metadata": {},
   "outputs": [],
   "source": [
    "#WAP to convert the given string from camel case to snake case\n",
    "s = input()\n",
    "length = len(s)\n",
    "# new_s = s[0].lower()\n",
    "result = \"\"\n",
    "for i in range(length):\n",
    "    if i == 0:\n",
    "        result = result + s[i].lower()\n",
    "    elif i>0 :\n",
    "        if s[i].isupper():\n",
    "            result = result + \"_\" + s[i].lower()\n",
    "        else:\n",
    "            result = result + s[i].lower()\n",
    "\n",
    "print(result)"
   ]
  },
  {
   "cell_type": "code",
   "execution_count": null,
   "metadata": {},
   "outputs": [],
   "source": [
    "#WAP to print the sum of N non prime numbers \n",
    "n = int(input())\n",
    "sum = 0\n",
    "for i in range(1, n+1):\n",
    "    n_input = int(input())\n",
    "    count = 0\n",
    "    for j in range(2, n_input):\n",
    "        if n_input%j == 0 :\n",
    "            count += 1\n",
    "            break\n",
    "    if count > 0:\n",
    "        sum += n_input\n",
    "print(sum)"
   ]
  },
  {
   "cell_type": "code",
   "execution_count": null,
   "metadata": {},
   "outputs": [],
   "source": [
    "#WAP to print sandglass star pattern\n",
    "n = int(input())\n",
    "# stars = \"* \"\n",
    "upper_half_spaces = 0\n",
    "lower__half_spaces = (n-2)\n",
    "count = (n-1)\n",
    "spaces = \" \"\n",
    "for i in range(1, n+1):\n",
    "    if i == 1 :\n",
    "        print(\"* \"*n)\n",
    "    else :\n",
    "        stars = \"* \"*count\n",
    "        upper_half_spaces += 1 \n",
    "        print((spaces*upper_half_spaces) + stars )\n",
    "        count -= 1 \n",
    "for i in range(1, n):\n",
    "    if i == (n-1):\n",
    "        print(\"* \"*n)\n",
    "    else:\n",
    "        count += 2 \n",
    "        stars = \"* \"*count\n",
    "        # lower__half_spaces += \n",
    "        print((spaces*lower__half_spaces) + stars)\n",
    "        lower__half_spaces -= 1  \n",
    "        count -= 1 "
   ]
  }
 ],
 "metadata": {
  "kernelspec": {
   "display_name": "Python 3",
   "language": "python",
   "name": "python3"
  },
  "language_info": {
   "codemirror_mode": {
    "name": "ipython",
    "version": 3
   },
   "file_extension": ".py",
   "mimetype": "text/x-python",
   "name": "python",
   "nbconvert_exporter": "python",
   "pygments_lexer": "ipython3",
   "version": "3.11.4"
  },
  "orig_nbformat": 4
 },
 "nbformat": 4,
 "nbformat_minor": 2
}
