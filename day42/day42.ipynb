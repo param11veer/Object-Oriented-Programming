{
 "cells": [
  {
   "cell_type": "code",
   "execution_count": 1,
   "metadata": {},
   "outputs": [
    {
     "name": "stdout",
     "output_type": "stream",
     "text": [
      "['cat', 'dog', ['Tiger', 'Fox']]\n"
     ]
    }
   ],
   "source": [
    "animals = ['cat', 'dog']\n",
    "wild_animals = ['Tiger', 'Fox']\n",
    "animals += [wild_animals]\n",
    "print(animals)"
   ]
  },
  {
   "cell_type": "markdown",
   "metadata": {},
   "source": [
    "OBJECT \n",
    "anything assigned to a variable in python is referred to as an object. \n",
    "\n",
    "Whenever, an object is created in python, it will be given a unique ID.\n",
    "The unique ID will be related to the location where the object is stored in the computer memory"
   ]
  },
  {
   "cell_type": "code",
   "execution_count": 4,
   "metadata": {},
   "outputs": [
    {
     "name": "stdout",
     "output_type": "stream",
     "text": [
      "1624858134960\n"
     ]
    }
   ],
   "source": [
    "print(id(\"Hello\"))"
   ]
  },
  {
   "cell_type": "code",
   "execution_count": 6,
   "metadata": {},
   "outputs": [
    {
     "name": "stdout",
     "output_type": "stream",
     "text": [
      "1624858159024\n"
     ]
    }
   ],
   "source": [
    "a = \"Hello\"\n",
    "print(id(a))"
   ]
  },
  {
   "cell_type": "code",
   "execution_count": 7,
   "metadata": {},
   "outputs": [
    {
     "name": "stdout",
     "output_type": "stream",
     "text": [
      "1624858159024\n",
      "1624858275952\n"
     ]
    }
   ],
   "source": [
    "a = \"Hello\"\n",
    "print(id(a))\n",
    "a = a + \"World\"\n",
    "print(id(a))\n"
   ]
  },
  {
   "cell_type": "code",
   "execution_count": null,
   "metadata": {},
   "outputs": [],
   "source": [
    "list_a = [1, 2, 4]\n",
    "print(id(list_a))\n",
    "#* Modifying list"
   ]
  },
  {
   "cell_type": "code",
   "execution_count": 9,
   "metadata": {},
   "outputs": [
    {
     "name": "stdout",
     "output_type": "stream",
     "text": [
      "1624850130496\n",
      "1624850130496\n"
     ]
    }
   ],
   "source": [
    "list_a = [1, 2, 3]\n",
    "print(id(list_a))\n",
    "list_b = list_a\n",
    "print(id(list_b))\n",
    "#* both list refer to the same list "
   ]
  },
  {
   "cell_type": "code",
   "execution_count": 10,
   "metadata": {},
   "outputs": [
    {
     "name": "stdout",
     "output_type": "stream",
     "text": [
      "List a : [1, 2, 3, 4]\n",
      "List b : [1, 2, 3, 4]\n"
     ]
    }
   ],
   "source": [
    "list_a = [1, 2, 3, 5]\n",
    "list_b = list_a \n",
    "list_b[3] = 4\n",
    "print(\"List a : \" + str(list_a))\n",
    "print(\"List b : \" + str(list_b))\n"
   ]
  },
  {
   "cell_type": "code",
   "execution_count": 11,
   "metadata": {},
   "outputs": [
    {
     "name": "stdout",
     "output_type": "stream",
     "text": [
      "List a : [6, 7]\n",
      "List b : [1, 2]\n"
     ]
    }
   ],
   "source": [
    "list_a = [1, 2]\n",
    "list_b = list_a\n",
    "list_a = [6, 7]\n",
    "print(\"List a : \" + str(list_a))\n",
    "print(\"List b : \" + str(list_b))"
   ]
  },
  {
   "cell_type": "code",
   "execution_count": 12,
   "metadata": {},
   "outputs": [
    {
     "name": "stdout",
     "output_type": "stream",
     "text": [
      "List a : [6, 7]\n",
      "List b : [1, 2]\n",
      "List a : [1, 2, 6, 7]\n",
      "List b : [1, 2]\n"
     ]
    }
   ],
   "source": [
    "list_a = [1, 2]\n",
    "list_b = list_a\n",
    "list_a = [6, 7]\n",
    "print(\"List a : \" + str(list_a))\n",
    "print(\"List b : \" + str(list_b))\n",
    "\n",
    "list_a = [1, 2]\n",
    "list_b = list_a\n",
    "list_a = list_a + [6, 7]\n",
    "print(\"List a : \" + str(list_a))\n",
    "print(\"List b : \" + str(list_b))"
   ]
  },
  {
   "cell_type": "code",
   "execution_count": 13,
   "metadata": {},
   "outputs": [
    {
     "name": "stdout",
     "output_type": "stream",
     "text": [
      "List a : [1, 2, 6, 7]\n",
      "List b : [1, 2]\n",
      "List a : [1, 2, 6, 7]\n",
      "List b : [1, 2, 6, 7]\n"
     ]
    }
   ],
   "source": [
    "list_a = [1, 2]\n",
    "list_b = list_a\n",
    "list_a = list_a + [6, 7]\n",
    "print(\"List a : \" + str(list_a))\n",
    "print(\"List b : \" + str(list_b))\n",
    "\n",
    "list_a = [1, 2]\n",
    "list_b = list_a\n",
    "list_a += [6, 7]\n",
    "#* When we use compound operator it makes changes in the same variable rather than creating an another variable\n",
    "print(\"List a : \" + str(list_a))\n",
    "print(\"List b : \" + str(list_b))"
   ]
  },
  {
   "cell_type": "code",
   "execution_count": 14,
   "metadata": {},
   "outputs": [
    {
     "name": "stdout",
     "output_type": "stream",
     "text": [
      "[1, 4]\n",
      "[3, [1, 4]]\n"
     ]
    }
   ],
   "source": [
    "list_a = [1, 2]\n",
    "list_b = [3, list_a]\n",
    "list_a[1] = 4\n",
    "print(list_a)\n",
    "print(list_b)"
   ]
  },
  {
   "cell_type": "code",
   "execution_count": 15,
   "metadata": {},
   "outputs": [
    {
     "name": "stdout",
     "output_type": "stream",
     "text": [
      "[1, 2]\n",
      "[1, 2]\n"
     ]
    }
   ],
   "source": [
    "a = 2\n",
    "list_a = [1, a]\n",
    "print(list_a)\n",
    "a = 3\n",
    "print(list_a)"
   ]
  }
 ],
 "metadata": {
  "kernelspec": {
   "display_name": "Python 3",
   "language": "python",
   "name": "python3"
  },
  "language_info": {
   "codemirror_mode": {
    "name": "ipython",
    "version": 3
   },
   "file_extension": ".py",
   "mimetype": "text/x-python",
   "name": "python",
   "nbconvert_exporter": "python",
   "pygments_lexer": "ipython3",
   "version": "3.11.5"
  },
  "orig_nbformat": 4
 },
 "nbformat": 4,
 "nbformat_minor": 2
}
