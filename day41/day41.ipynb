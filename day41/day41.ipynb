{
 "cells": [
  {
   "cell_type": "code",
   "execution_count": 1,
   "metadata": {},
   "outputs": [
    {
     "name": "stdout",
     "output_type": "stream",
     "text": [
      "['Parrot', 'Crow', 'Swan', 'DOVE']\n"
     ]
    }
   ],
   "source": [
    "birds = [\"Parrot\", \"Crow\", \"Swan\", \"Dove\"]\n",
    "length = len(birds)\n",
    "\n",
    "for i in range(3, length):\n",
    "    birds[i] = birds[i].upper()\n",
    "    \n",
    "print(birds)"
   ]
  },
  {
   "cell_type": "code",
   "execution_count": 6,
   "metadata": {},
   "outputs": [
    {
     "name": "stdout",
     "output_type": "stream",
     "text": [
      "['M', 'y', 'P', 'e', 'n']\n"
     ]
    }
   ],
   "source": [
    "item = \"Pen\"\n",
    "result = \"My\" + item\n",
    "characters = list(result)\n",
    "print(characters)"
   ]
  },
  {
   "cell_type": "code",
   "execution_count": 7,
   "metadata": {},
   "outputs": [
    {
     "name": "stdout",
     "output_type": "stream",
     "text": [
      "[121, 343, 787]\n"
     ]
    }
   ],
   "source": [
    "nums = [121, 343, 656]\n",
    "nums[2] = 787\n",
    "print(nums)"
   ]
  },
  {
   "cell_type": "code",
   "execution_count": 15,
   "metadata": {},
   "outputs": [
    {
     "name": "stdout",
     "output_type": "stream",
     "text": [
      "2\n"
     ]
    }
   ],
   "source": [
    "list_a = [2,4,6,10,13,17]\n",
    "total = 0\n",
    "\n",
    "for i in range(len(list_a)):\n",
    "    if (list_a[i] % 2 == 1):\n",
    "        total = total + 1\n",
    "print(total)"
   ]
  },
  {
   "cell_type": "code",
   "execution_count": 16,
   "metadata": {},
   "outputs": [
    {
     "name": "stdout",
     "output_type": "stream",
     "text": [
      "3\n"
     ]
    }
   ],
   "source": [
    "list_a = [1,2,3,4,5]\n",
    "list_b = [1,3,3,5,5]\n",
    "length = len(list_a)\n",
    "count = 0\n",
    "\n",
    "for i in range(length):\n",
    "    if list_a[i] == list_b[i]:\n",
    "        count += 1\n",
    "print(count)"
   ]
  },
  {
   "cell_type": "code",
   "execution_count": 17,
   "metadata": {},
   "outputs": [
    {
     "name": "stdout",
     "output_type": "stream",
     "text": [
      "[11]\n"
     ]
    }
   ],
   "source": [
    "values = list(range(11, 12))\n",
    "print(values)"
   ]
  },
  {
   "cell_type": "code",
   "execution_count": 18,
   "metadata": {},
   "outputs": [
    {
     "name": "stdout",
     "output_type": "stream",
     "text": [
      "5\n"
     ]
    }
   ],
   "source": [
    "vowels = [\"a\", \"e\", \"i\", \"o\", \"u\"]\n",
    "count = 0\n",
    "\n",
    "for i in vowels :\n",
    "    count += len(i)\n",
    "    \n",
    "print(count)"
   ]
  },
  {
   "cell_type": "code",
   "execution_count": 23,
   "metadata": {},
   "outputs": [
    {
     "name": "stdout",
     "output_type": "stream",
     "text": [
      "[2, 8, 14]\n"
     ]
    }
   ],
   "source": [
    "even = [2,4,6,8,10,12,14]\n",
    "val = int(input())\n",
    "print(even[0:7:val])"
   ]
  },
  {
   "cell_type": "code",
   "execution_count": 19,
   "metadata": {},
   "outputs": [
    {
     "name": "stdout",
     "output_type": "stream",
     "text": [
      "as\n"
     ]
    }
   ],
   "source": [
    "mangoes = [\"Alphanso\", \"Banganapalli\", 'Raspuri']\n",
    "result = \"\"\n",
    "result = mangoes[1][1] + mangoes[2][2]\n",
    "print(result)"
   ]
  },
  {
   "cell_type": "code",
   "execution_count": 24,
   "metadata": {},
   "outputs": [
    {
     "name": "stdout",
     "output_type": "stream",
     "text": [
      "[3]\n"
     ]
    }
   ],
   "source": [
    "list_a = list(range(4))\n",
    "result = []\n",
    "for val in range(len(list_a)):\n",
    "    result = [val]\n",
    "\n",
    "print(result)"
   ]
  },
  {
   "cell_type": "code",
   "execution_count": 25,
   "metadata": {},
   "outputs": [
    {
     "name": "stdout",
     "output_type": "stream",
     "text": [
      "<class 'list'>\n"
     ]
    }
   ],
   "source": [
    "list_a = [chr(57), chr(122), chr(90)]\n",
    "print(type(list_a))"
   ]
  },
  {
   "cell_type": "code",
   "execution_count": 27,
   "metadata": {},
   "outputs": [
    {
     "name": "stdout",
     "output_type": "stream",
     "text": [
      "5\n"
     ]
    }
   ],
   "source": [
    "alphabets = ['a', 'b', 'c', 'd', 'e', 'i', 'o', 'u']\n",
    "length = len(alphabets)\n",
    "vowel_count = 0\n",
    "\n",
    "for i in range(length):\n",
    "    if(alphabets[i] == 'a' or alphabets[i] == 'e' or alphabets[i] == 'i' or alphabets[i]== 'o' or alphabets[i] == 'u'):\n",
    "        vowel_count += 1\n",
    "        \n",
    "print(vowel_count)"
   ]
  },
  {
   "cell_type": "code",
   "execution_count": 30,
   "metadata": {},
   "outputs": [
    {
     "name": "stdout",
     "output_type": "stream",
     "text": [
      "['A', 'b', '1']\n",
      "[99, 50, 68]\n",
      "['9', 'y', 'Y']\n"
     ]
    }
   ],
   "source": [
    "list_a = [chr(65), chr(98), chr(49)]\n",
    "print(list_a)\n",
    "list_b = [ord('c'), ord('2'), ord('D')]\n",
    "print(list_b)\n",
    "list_c =[chr(57), chr(121), chr(89)]\n",
    "print(list_c)"
   ]
  },
  {
   "cell_type": "code",
   "execution_count": 31,
   "metadata": {},
   "outputs": [
    {
     "name": "stdout",
     "output_type": "stream",
     "text": [
      "[['Mango', 'Apple', 'PineApple'], 'Kiwi']\n"
     ]
    }
   ],
   "source": [
    "fruits = [\"Mango\", \"Apple\", \"PineApple\"]\n",
    "result = [fruits]\n",
    "result += [\"Kiwi\"]\n",
    "print(result)"
   ]
  },
  {
   "cell_type": "code",
   "execution_count": 32,
   "metadata": {},
   "outputs": [
    {
     "name": "stdout",
     "output_type": "stream",
     "text": [
      "1\n",
      "4\n",
      "1\n"
     ]
    }
   ],
   "source": [
    "list_a = [\"1\", \"Oh!\", \"2\", \"One\", 3, 3.16]\n",
    "length = len(list_a)\n",
    "count1 = 0\n",
    "count2 = 0\n",
    "count3 = 0\n",
    "\n",
    "for i in range(length):\n",
    "    if(type(list_a[i]) == type(6)):\n",
    "        count1 += 1\n",
    "    elif(type(list_a[i]) == type(\"Happy\")):\n",
    "        count2 += 1\n",
    "    else :\n",
    "        count3 += 1\n",
    "        \n",
    "print(str(count1) + \"\\n\" + str(count2) + \"\\n\" + str(count3))"
   ]
  },
  {
   "cell_type": "code",
   "execution_count": 33,
   "metadata": {},
   "outputs": [
    {
     "name": "stdout",
     "output_type": "stream",
     "text": [
      "9.0\n"
     ]
    }
   ],
   "source": [
    "list_a = [1.2, 1.5, 1.7, 1.8, 1.9]\n",
    "total = 0\n",
    "\n",
    "for num in list_a :\n",
    "    total += round(num, 0)\n",
    "    \n",
    "print(total)"
   ]
  },
  {
   "cell_type": "code",
   "execution_count": 34,
   "metadata": {},
   "outputs": [
    {
     "name": "stdout",
     "output_type": "stream",
     "text": [
      "2\n",
      "5\n"
     ]
    }
   ],
   "source": [
    "numbers = [11, -23, 34, 54, 66, 3, -1]\n",
    "length = len(numbers)\n",
    "count1 = 0\n",
    "count2 = 0\n",
    "\n",
    "for i in range(length):\n",
    "    if numbers[i] < 0:\n",
    "        count1 += 1\n",
    "    else :\n",
    "        count2 += 1 \n",
    "print(str(count1) + '\\n' + str(count2))"
   ]
  },
  {
   "cell_type": "code",
   "execution_count": 35,
   "metadata": {},
   "outputs": [
    {
     "name": "stdout",
     "output_type": "stream",
     "text": [
      "10\n"
     ]
    }
   ],
   "source": [
    "list_a = []\n",
    "\n",
    "for items in range(48, 58):\n",
    "    list_a += [chr(items)]\n",
    "    \n",
    "print(len(list_a))"
   ]
  }
 ],
 "metadata": {
  "kernelspec": {
   "display_name": "Python 3",
   "language": "python",
   "name": "python3"
  },
  "language_info": {
   "codemirror_mode": {
    "name": "ipython",
    "version": 3
   },
   "file_extension": ".py",
   "mimetype": "text/x-python",
   "name": "python",
   "nbconvert_exporter": "python",
   "pygments_lexer": "ipython3",
   "version": "3.11.5"
  },
  "orig_nbformat": 4
 },
 "nbformat": 4,
 "nbformat_minor": 2
}
