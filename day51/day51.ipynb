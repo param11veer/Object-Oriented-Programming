{
 "cells": [
  {
   "cell_type": "code",
   "execution_count": null,
   "metadata": {},
   "outputs": [],
   "source": [
    "n = input().split()\n",
    "new_n = n[::-1]\n",
    "word = \"\"\n",
    "for i in new_n :\n",
    "    i = str(i)\n",
    "    word = word + i + \" \"\n",
    "print(word)"
   ]
  },
  {
   "cell_type": "code",
   "execution_count": 4,
   "metadata": {},
   "outputs": [
    {
     "name": "stdout",
     "output_type": "stream",
     "text": [
      "[4, 5, 6]\n"
     ]
    }
   ],
   "source": [
    "n = input().split()\n",
    "length = len(n)\n",
    "\n",
    "for i in range(length):\n",
    "    n[i] = int(n[i])\n",
    "\n",
    "if length % 2 == 0:\n",
    "    last_half = length // 2\n",
    "else :\n",
    "    last_half = length // 2\n",
    "\n",
    "word_list = n[-last_half:]\n",
    "print(word_list)"
   ]
  },
  {
   "cell_type": "code",
   "execution_count": 8,
   "metadata": {},
   "outputs": [
    {
     "name": "stdout",
     "output_type": "stream",
     "text": [
      "[54, 45]\n"
     ]
    }
   ],
   "source": [
    "n = int(input())\n",
    "list_a = []\n",
    "for i in range(1, n+1):\n",
    "    n_input = int(input())\n",
    "    list_a += [n_input]\n",
    "    \n",
    "length = len(list_a)\n",
    "\n",
    "if length % 2 == 0:\n",
    "    last_half = length // 2\n",
    "else :\n",
    "    last_half = length // 2 \n",
    "\n",
    "word_list = list_a[-last_half:]\n",
    "print(word_list)"
   ]
  },
  {
   "cell_type": "code",
   "execution_count": null,
   "metadata": {},
   "outputs": [],
   "source": [
    "n = int(input())\n",
    "s = input().split()\n",
    "length = len(s)\n",
    "\n",
    "for i in range(length):\n",
    "    s[i] = int(s[i])\n",
    "\n",
    "limit = n // 2\n",
    "word_list = s[-limit:]\n",
    "print(word_list)\n"
   ]
  },
  {
   "cell_type": "code",
   "execution_count": null,
   "metadata": {},
   "outputs": [],
   "source": [
    "n = input().split()\n",
    "length = len(n)\n",
    "\n",
    "product = 1 \n",
    "for i in n :\n",
    "    i = int(i)\n",
    "    product = product*i \n",
    "print(product)"
   ]
  },
  {
   "cell_type": "code",
   "execution_count": null,
   "metadata": {},
   "outputs": [],
   "source": [
    "n = input().split()\n",
    "length = len(n)\n",
    "sum = 0\n",
    "for i in n:\n",
    "    i = int(i)\n",
    "    sum = sum + i \n",
    "avg = float(sum/length)\n",
    "print(round(avg, 2))"
   ]
  },
  {
   "cell_type": "code",
   "execution_count": null,
   "metadata": {},
   "outputs": [],
   "source": [
    "n = input().split()\n",
    "length = len(n)\n",
    "largest_number = -9999999\n",
    "for i in n:\n",
    "    i = int(i)\n",
    "    if largest_number < i :\n",
    "        largest_number = i \n",
    "print(largest_number)"
   ]
  },
  {
   "cell_type": "code",
   "execution_count": null,
   "metadata": {},
   "outputs": [],
   "source": [
    "n = input().split()\n",
    "length = len(n)\n",
    "word = \"\"\n",
    "for i in n:\n",
    "    # first_word = i[0]\n",
    "    first_word = str(i)\n",
    "    first_word = first_word[0]\n",
    "    word = word + first_word + \".\"\n",
    "print(word.strip(\".\"))"
   ]
  }
 ],
 "metadata": {
  "kernelspec": {
   "display_name": "Python 3",
   "language": "python",
   "name": "python3"
  },
  "language_info": {
   "codemirror_mode": {
    "name": "ipython",
    "version": 3
   },
   "file_extension": ".py",
   "mimetype": "text/x-python",
   "name": "python",
   "nbconvert_exporter": "python",
   "pygments_lexer": "ipython3",
   "version": "3.11.5"
  },
  "orig_nbformat": 4
 },
 "nbformat": 4,
 "nbformat_minor": 2
}
