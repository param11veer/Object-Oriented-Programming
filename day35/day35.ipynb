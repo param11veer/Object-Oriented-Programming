{
 "cells": [
  {
   "cell_type": "code",
   "execution_count": null,
   "metadata": {},
   "outputs": [],
   "source": [
    "#WAP to print the unicode values of all the characters in S, each on a new line\n",
    "string  = input()\n",
    "\n",
    "for each_character in string:\n",
    "    print(ord(each_character))"
   ]
  },
  {
   "cell_type": "code",
   "execution_count": null,
   "metadata": {},
   "outputs": [],
   "source": [
    "#WAP to print the count of characters in S whose unicode value is equal to given number N\n",
    "string = input()\n",
    "number = int(input())\n",
    "\n",
    "count = 0\n",
    "\n",
    "for each_character in string:\n",
    "    if ord(each_character) == number:\n",
    "        count = count + 1\n",
    "\n",
    "print(count)"
   ]
  },
  {
   "cell_type": "code",
   "execution_count": null,
   "metadata": {},
   "outputs": [],
   "source": [
    "#WAP to print the character to print the character with the smallest Unicode vale in the string\n",
    "string = input()\n",
    "\n",
    "smallest_character  = string[0]\n",
    "\n",
    "for index in range(1, len(string)):\n",
    "    if ord(string[index]) < ord(smallest_character):\n",
    "        smallest_character = string[index]\n",
    "        \n",
    "print(smallest_character)"
   ]
  },
  {
   "cell_type": "code",
   "execution_count": null,
   "metadata": {},
   "outputs": [],
   "source": [
    "#WAP to print the unicode value of the first uppercase character in the string S\n",
    "string = input()\n",
    "\n",
    "for each_character in string:\n",
    "    if each_character == each_character.upper():\n",
    "        print(ord(each_character))\n",
    "        break"
   ]
  },
  {
   "cell_type": "code",
   "execution_count": null,
   "metadata": {},
   "outputs": [],
   "source": [
    "#WAP to print characters with unicode values from M to N each on a new line\n",
    "m = int(input())\n",
    "n = int(input())\n",
    "\n",
    "for unicode_value in range(m, n + 1):\n",
    "    print(chr(unicode_value))"
   ]
  },
  {
   "cell_type": "code",
   "execution_count": null,
   "metadata": {},
   "outputs": [],
   "source": [
    "#WAP to print a string by joining the characters of given N unicode Values\n",
    "number = int(input())\n",
    "string = \"\"\n",
    "\n",
    "for i in range(number):\n",
    "    unicode_value = int(input())\n",
    "    each_character = chr(unicode_value)\n",
    "    string = string + each_character\n",
    "    \n",
    "print(string)"
   ]
  },
  {
   "cell_type": "code",
   "execution_count": null,
   "metadata": {},
   "outputs": [],
   "source": [
    "n = int(input())\n",
    "for i in range(0, n):\n",
    "    row_out = \" \" * (n-i-1)\n",
    "    row_out = row_out + \"$\" * n\n",
    "    print(row_out)"
   ]
  },
  {
   "cell_type": "code",
   "execution_count": null,
   "metadata": {},
   "outputs": [],
   "source": [
    "#WAP to rhe next characters of all character in S based on the unicode value\n",
    "string = input()\n",
    "\n",
    "for each_character in string:\n",
    "    unicode_value = ord(each_character) + 1\n",
    "    character = chr(unicode_value)\n",
    "    \n",
    "    print(character)"
   ]
  },
  {
   "cell_type": "code",
   "execution_count": null,
   "metadata": {},
   "outputs": [],
   "source": [
    "#WAP to print previous characters of all characters in S based on the unicode value\n",
    "string = input()\n",
    "\n",
    "for each_character in string:\n",
    "    if each_character != \" \":\n",
    "        unicode_value = ord(each_character) - 1\n",
    "        character = chr(unicode_value)\n",
    "    \n",
    "        print(character)"
   ]
  },
  {
   "cell_type": "code",
   "execution_count": null,
   "metadata": {},
   "outputs": [],
   "source": [
    "#WAP to print the word that comes first when the word are in dictionary order\n",
    "s = input()\n",
    "\n",
    "first_word = s\n",
    "word = \"\"\n",
    "\n",
    "for i in range(len(s)):\n",
    "    char = s[i]\n",
    "    word += char\n",
    "    \n",
    "    if char == \" \" or i == len(s)-1:\n",
    "        if word.lower() < first_word.lower():\n",
    "            first_word = word\n",
    "        word = \"\"\n",
    "\n",
    "print(first_word)"
   ]
  }
 ],
 "metadata": {
  "language_info": {
   "name": "python"
  },
  "orig_nbformat": 4
 },
 "nbformat": 4,
 "nbformat_minor": 2
}
