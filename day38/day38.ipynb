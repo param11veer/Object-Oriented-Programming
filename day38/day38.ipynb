{
 "cells": [
  {
   "cell_type": "markdown",
   "metadata": {},
   "source": [
    "FLOOR DIVISION OPERATOR (//)"
   ]
  },
  {
   "cell_type": "markdown",
   "metadata": {},
   "source": [
    "ESCAPE CHARACTERS \n",
    "\\n \n",
    "\\t\n",
    "\\\\ backlash\n",
    "\\' single quote\n",
    "\\\" double quote"
   ]
  },
  {
   "cell_type": "code",
   "execution_count": 4,
   "metadata": {},
   "outputs": [
    {
     "name": "stdout",
     "output_type": "stream",
     "text": [
      "Yes\n"
     ]
    }
   ],
   "source": [
    "full_string = input()\n",
    "subsequence = input()\n",
    "\n",
    "subseq_index = 0\n",
    "subsequence_length = len(subsequence)\n",
    "for char in full_string:\n",
    "    \n",
    "    if char == subsequence[subseq_index]:\n",
    "        subseq_index += 1\n",
    "        if subseq_index == subsequence_length:\n",
    "            break\n",
    "\n",
    "\n",
    "if subseq_index == subsequence_length:\n",
    "    print(\"Yes\")\n",
    "else:\n",
    "    print(\"NO\")"
   ]
  },
  {
   "cell_type": "code",
   "execution_count": null,
   "metadata": {},
   "outputs": [],
   "source": [
    "n = int(input())\n",
    "for i in range(1, n+1):\n",
    "    n_input = int(input())\n",
    "    print(n_input//17)"
   ]
  },
  {
   "cell_type": "code",
   "execution_count": null,
   "metadata": {},
   "outputs": [],
   "source": [
    "word = input()\n",
    "\n",
    "new_word = \"\"\n",
    "for character in word:\n",
    "    new_word = new_word + (character * 2)\n",
    "\n",
    "print(new_word)"
   ]
  },
  {
   "cell_type": "code",
   "execution_count": null,
   "metadata": {},
   "outputs": [],
   "source": [
    "string = input()\n",
    "\n",
    "resultant_string = \"\"\n",
    "\n",
    "for index in range(len(string)-1):\n",
    "    resultant_string += string[index] + \",\"\n",
    "\n",
    "resultant_string += string[len(string) - 1]\n",
    "\n",
    "print(resultant_string)"
   ]
  },
  {
   "cell_type": "code",
   "execution_count": null,
   "metadata": {},
   "outputs": [],
   "source": [
    "n = int(input())\n",
    "\n",
    "total = 0\n",
    "for i in range(n):\n",
    "    number = int(input())\n",
    "    total = total + number\n",
    "    print(total)"
   ]
  },
  {
   "cell_type": "code",
   "execution_count": null,
   "metadata": {},
   "outputs": [],
   "source": [
    "n = int(input())\n",
    "\n",
    "total = 0\n",
    "for i in range(1, n+1):\n",
    "    number = int(input())\n",
    "    total = total + number\n",
    "    average = total / i\n",
    "    print(round(average, 3))"
   ]
  },
  {
   "cell_type": "code",
   "execution_count": null,
   "metadata": {},
   "outputs": [],
   "source": [
    "n = int(input())\n",
    "smallest_number = 999999999\n",
    "for num in range(n):\n",
    "    number = int(input())\n",
    "    if number < smallest_number:\n",
    "        smallest_number = number\n",
    "    print(smallest_number)"
   ]
  },
  {
   "cell_type": "code",
   "execution_count": 2,
   "metadata": {},
   "outputs": [
    {
     "name": "stdout",
     "output_type": "stream",
     "text": [
      "|\n",
      "| \\\n",
      "|  \\\n",
      "|   \\\n",
      "|    \\\n",
      "|     \\\n",
      "|      \\\n",
      "|       \\\n",
      "|        \\\n",
      "|         \\\n",
      "|          \\\n",
      "|           \\\n",
      "|            \\\n",
      "|             \\\n",
      "|              \\\n",
      "|              /\n",
      "|             /\n",
      "|            /\n",
      "|           /\n",
      "|          /\n",
      "|         /\n",
      "|        /\n",
      "|       /\n",
      "|      /\n",
      "|     /\n",
      "|    /\n",
      "|   /\n",
      "|  /\n",
      "| /\n",
      "|\n"
     ]
    }
   ],
   "source": [
    "n = int(input())\n",
    "\n",
    "for row in range(n):\n",
    "    if row == 0:\n",
    "        each_row = \"|\"\n",
    "    else:\n",
    "        spaces = \" \" * row\n",
    "        each_row = \"|\" + spaces + \"\\\\\"\n",
    "    print(each_row)\n",
    "for row in range(n):\n",
    "    if row == n - 1:\n",
    "        each_row = \"|\"\n",
    "    else:\n",
    "        spaces = \" \" * (n - row - 1)\n",
    "        each_row = \"|\" + spaces + \"/\"\n",
    "    print(each_row)"
   ]
  },
  {
   "cell_type": "code",
   "execution_count": null,
   "metadata": {},
   "outputs": [],
   "source": [
    "n = int(input())\n",
    "for i in range(1, n+1):\n",
    "    spaces = \" \"*(n - i)\n",
    "    left_nums = \"\"\n",
    "    right_nums = \"\"\n",
    "    for j in range(1, i+1):\n",
    "        left_nums = str(j) + left_nums\n",
    "        right_nums = right_nums + str(j)\n",
    "    print(spaces + left_nums + right_nums[1:])"
   ]
  },
  {
   "cell_type": "code",
   "execution_count": null,
   "metadata": {},
   "outputs": [],
   "source": [
    "n = int(input())\n",
    "\n",
    "total = 0\n",
    "for i in range(n):\n",
    "    number = int(input())\n",
    "    total = total + number\n",
    "    print(total)"
   ]
  },
  {
   "cell_type": "code",
   "execution_count": 5,
   "metadata": {},
   "outputs": [
    {
     "name": "stdout",
     "output_type": "stream",
     "text": [
      "         /\\\n",
      "        /  \\\n",
      "       /    \\\n",
      "      /      \\\n",
      "     /        \\\n",
      "    /          \\\n",
      "   /            \\\n",
      "  /              \\\n",
      " /                \\\n",
      "/                  \\\n",
      "\\                  /\n",
      " \\                /\n",
      "  \\              /\n",
      "   \\            /\n",
      "    \\          /\n",
      "     \\        /\n",
      "      \\      /\n",
      "       \\    /\n",
      "        \\  /\n",
      "         \\/\n"
     ]
    }
   ],
   "source": [
    "n = int(input())\n",
    "forward_slash = \"/\"\n",
    "backward_slash = \"\\\\\"\n",
    "count = -1\n",
    "counting = n\n",
    "for i in range(1, n+1):\n",
    "    count += 1 \n",
    "    counting -= 1 \n",
    "    hollow_space = \"  \"*count\n",
    "    left_spaces = \" \"*counting\n",
    "    print(left_spaces+forward_slash+hollow_space+backward_slash)\n",
    "\n",
    "for i in range(1, n+1):\n",
    "    hollow_space = \"  \"*count \n",
    "    left_spaces = \" \"*counting\n",
    "    print(left_spaces + backward_slash + hollow_space + forward_slash)\n",
    "    count -= 1 \n",
    "    counting += 1 "
   ]
  }
 ],
 "metadata": {
  "kernelspec": {
   "display_name": "Python 3",
   "language": "python",
   "name": "python3"
  },
  "language_info": {
   "codemirror_mode": {
    "name": "ipython",
    "version": 3
   },
   "file_extension": ".py",
   "mimetype": "text/x-python",
   "name": "python",
   "nbconvert_exporter": "python",
   "pygments_lexer": "ipython3",
   "version": "3.11.5"
  },
  "orig_nbformat": 4
 },
 "nbformat": 4,
 "nbformat_minor": 2
}
