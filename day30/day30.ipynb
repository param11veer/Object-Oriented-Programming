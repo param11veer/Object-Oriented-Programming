{
 "cells": [
  {
   "cell_type": "code",
   "execution_count": 1,
   "metadata": {},
   "outputs": [
    {
     "name": "stdout",
     "output_type": "stream",
     "text": [
      "\n",
      "1\n",
      "21\n",
      "321\n"
     ]
    }
   ],
   "source": [
    "n =  int(input())\n",
    "for row_num in range(0, n+1):\n",
    "    row_output = \"\"\n",
    "    seq_num = row_num\n",
    "    while seq_num > 0 :\n",
    "        row_output = row_output + str(seq_num)\n",
    "        seq_num = seq_num - 1\n",
    "    print(row_output)"
   ]
  },
  {
   "cell_type": "code",
   "execution_count": 3,
   "metadata": {},
   "outputs": [
    {
     "name": "stdout",
     "output_type": "stream",
     "text": [
      "5 4 3 2 1 \n",
      "4 3 2 1 \n",
      "3 2 1 \n",
      "2 1 \n",
      "1 \n"
     ]
    }
   ],
   "source": [
    "n = int(input())\n",
    "for row_num in range(0,n):\n",
    "    row_output = \"\"\n",
    "    seq_num = n - row_num\n",
    "    while seq_num > 0:\n",
    "        row_output = row_output + str(seq_num) + \" \"\n",
    "        seq_num = seq_num - 1 \n",
    "    print(row_output)"
   ]
  },
  {
   "cell_type": "code",
   "execution_count": 4,
   "metadata": {},
   "outputs": [
    {
     "name": "stdout",
     "output_type": "stream",
     "text": [
      "PYTHON is a programmin language\n"
     ]
    }
   ],
   "source": [
    "#wap to print the first word of the given string in uppercase\n",
    "sentence = input()\n",
    "first_space_index = 0\n",
    "for char in sentence :\n",
    "    if char == \" \":\n",
    "        break\n",
    "    else :\n",
    "        first_space_index = first_space_index + 1\n",
    "        \n",
    "first_word = sentence[:first_space_index]\n",
    "uppercase_first_word = first_word.upper()\n",
    "\n",
    "new_sentence = uppercase_first_word + sentence[first_space_index:]\n",
    "print(new_sentence)"
   ]
  },
  {
   "cell_type": "code",
   "execution_count": 10,
   "metadata": {},
   "outputs": [
    {
     "name": "stdout",
     "output_type": "stream",
     "text": [
      "False\n"
     ]
    }
   ],
   "source": [
    "n = int(input())\n",
    "is_prime = True\n",
    "for i in range(2, n+1):\n",
    "    if (i%n) == 0 :\n",
    "        is_prime = False \n",
    "        break \n",
    "print(is_prime)"
   ]
  },
  {
   "cell_type": "code",
   "execution_count": 16,
   "metadata": {},
   "outputs": [
    {
     "name": "stdout",
     "output_type": "stream",
     "text": [
      "17\n"
     ]
    }
   ],
   "source": [
    "total = 20\n",
    "for j in range(5):\n",
    "    total = total - j \n",
    "    if j == 2 :\n",
    "        break \n",
    "print(total)"
   ]
  },
  {
   "cell_type": "code",
   "execution_count": 17,
   "metadata": {},
   "outputs": [
    {
     "name": "stdout",
     "output_type": "stream",
     "text": [
      "6\n"
     ]
    }
   ],
   "source": [
    "count = 1 \n",
    "for j in range(10):\n",
    "    if (j%2) == 0 :\n",
    "        continue  \n",
    "    count = count + 1 \n",
    "print(count)"
   ]
  },
  {
   "cell_type": "code",
   "execution_count": 18,
   "metadata": {},
   "outputs": [
    {
     "name": "stdout",
     "output_type": "stream",
     "text": [
      "3\n"
     ]
    }
   ],
   "source": [
    "total =  0\n",
    "for i in range(5) :\n",
    "    if i == 3 :\n",
    "        break \n",
    "    total = total + i  \n",
    "print(total)"
   ]
  },
  {
   "cell_type": "code",
   "execution_count": 19,
   "metadata": {},
   "outputs": [
    {
     "name": "stdout",
     "output_type": "stream",
     "text": [
      "0\n",
      "1\n",
      "2\n",
      "Hello\n"
     ]
    }
   ],
   "source": [
    "for num in range(5):\n",
    "    if num == 3 :\n",
    "        break \n",
    "    print(num)\n",
    "print(\"Hello\")"
   ]
  },
  {
   "cell_type": "code",
   "execution_count": 21,
   "metadata": {},
   "outputs": [
    {
     "name": "stdout",
     "output_type": "stream",
     "text": [
      "6\n"
     ]
    }
   ],
   "source": [
    "num_1 = 4 \n",
    "num_2 = 0 \n",
    "i = 0 \n",
    "while True :\n",
    "    num_2 = num_2 + i  \n",
    "    i = i + 2 \n",
    "    if i > num_1 :\n",
    "        break;   # break statement is used to exit the loop.\n",
    "print(num_2)"
   ]
  },
  {
   "cell_type": "code",
   "execution_count": 22,
   "metadata": {},
   "outputs": [
    {
     "name": "stdout",
     "output_type": "stream",
     "text": [
      "7\n"
     ]
    }
   ],
   "source": [
    "counter = 1 \n",
    "for i in range(2, 8):\n",
    "    if(i%2) == 0:\n",
    "        pass  \n",
    "    counter = counter + 1 \n",
    "print(counter)"
   ]
  },
  {
   "cell_type": "code",
   "execution_count": 23,
   "metadata": {},
   "outputs": [
    {
     "name": "stdout",
     "output_type": "stream",
     "text": [
      "The Emd\n"
     ]
    }
   ],
   "source": [
    "count = 1 \n",
    "while count <= 2:\n",
    "    count = count * 2\n",
    "    break \n",
    "    print(count)\n",
    "print(\"The Emd\")"
   ]
  },
  {
   "cell_type": "code",
   "execution_count": 24,
   "metadata": {},
   "outputs": [
    {
     "name": "stdout",
     "output_type": "stream",
     "text": [
      "0\n",
      "2\n",
      "End\n"
     ]
    }
   ],
   "source": [
    "for i in range(3):\n",
    "    if i == 1:\n",
    "        continue \n",
    "    print(i)\n",
    "print('End') "
   ]
  },
  {
   "cell_type": "code",
   "execution_count": 25,
   "metadata": {},
   "outputs": [
    {
     "name": "stdout",
     "output_type": "stream",
     "text": [
      "3\n",
      "4\n",
      "5\n",
      "6\n",
      "7\n",
      "End\n"
     ]
    }
   ],
   "source": [
    "for i in range(2, 10):\n",
    "    print(i+1)\n",
    "    if i == 6:\n",
    "        break \n",
    "print(\"End\")"
   ]
  },
  {
   "cell_type": "code",
   "execution_count": 26,
   "metadata": {},
   "outputs": [
    {
     "name": "stdout",
     "output_type": "stream",
     "text": [
      "outer Loop: 0\n",
      "     Inner Loop:2\n",
      "outer Loop: 1\n",
      "     Inner Loop:2\n"
     ]
    }
   ],
   "source": [
    "for i in range(2):\n",
    "    print(\"outer Loop: \" + str(i))\n",
    "    for j in range(2, 4):\n",
    "        if j > 2:\n",
    "            break \n",
    "        print(\"     Inner Loop:\" + str(j))"
   ]
  },
  {
   "cell_type": "code",
   "execution_count": 27,
   "metadata": {},
   "outputs": [
    {
     "name": "stdout",
     "output_type": "stream",
     "text": [
      "1\n"
     ]
    }
   ],
   "source": [
    "n = 4\n",
    "count = 1 \n",
    "for i in range(2,n):\n",
    "    if i==3:\n",
    "        break \n",
    "    if count < 2 :\n",
    "        print(count)"
   ]
  },
  {
   "cell_type": "code",
   "execution_count": 28,
   "metadata": {},
   "outputs": [
    {
     "name": "stdout",
     "output_type": "stream",
     "text": [
      "your age is 12. You are a child now.\n"
     ]
    }
   ],
   "source": [
    "age = 12 \n",
    "output = \"\"\n",
    "if age >=20 :\n",
    "    output = \"Your age is \" + str(age) + \". you are an adult now.\"\n",
    "elif age <= 12 :\n",
    "    output = \"your age is \" + str(age) + \". You are a child now.\"\n",
    "else :\n",
    "    pass \n",
    "print(output) "
   ]
  },
  {
   "cell_type": "code",
   "execution_count": 29,
   "metadata": {},
   "outputs": [
    {
     "name": "stdout",
     "output_type": "stream",
     "text": [
      "The End\n"
     ]
    }
   ],
   "source": [
    "for num in range(3):\n",
    "    continue \n",
    "    print(num)\n",
    "print(\"The End\")    "
   ]
  },
  {
   "cell_type": "code",
   "execution_count": 34,
   "metadata": {},
   "outputs": [
    {
     "name": "stdout",
     "output_type": "stream",
     "text": [
      "6\n"
     ]
    }
   ],
   "source": [
    "num = 4 \n",
    "if num > 5:\n",
    "    print(num+2)\n",
    "elif num < 12 :\n",
    "    print(num + 2)\n",
    "else:\n",
    "    print(num)"
   ]
  },
  {
   "cell_type": "code",
   "execution_count": 35,
   "metadata": {},
   "outputs": [
    {
     "name": "stdout",
     "output_type": "stream",
     "text": [
      "A\n"
     ]
    }
   ],
   "source": [
    "password = \"A1b2c3\"\n",
    "result = \"\"\n",
    "for i in password:\n",
    "    if i.isdigit():\n",
    "        break \n",
    "    result = result + i\n",
    "print(result)"
   ]
  },
  {
   "cell_type": "code",
   "execution_count": 36,
   "metadata": {},
   "outputs": [
    {
     "name": "stdout",
     "output_type": "stream",
     "text": [
      "-1\n"
     ]
    }
   ],
   "source": [
    "m = 14 \n",
    "n = 18 \n",
    "is_divisible_by_7 = False\n",
    "\n",
    "for i in range(m+1, n):\n",
    "    if i%7 == 0:\n",
    "        is_divisible_by_7 = True  \n",
    "        break \n",
    "if is_divisible_by_7:\n",
    "    print(i)\n",
    "else :\n",
    "    print(-1)"
   ]
  },
  {
   "cell_type": "code",
   "execution_count": 37,
   "metadata": {},
   "outputs": [
    {
     "name": "stdout",
     "output_type": "stream",
     "text": [
      "0\n",
      "1\n",
      "2\n",
      "3\n",
      "End\n"
     ]
    }
   ],
   "source": [
    "for i in range(10):\n",
    "    if i == 4:\n",
    "        break \n",
    "    print(i)\n",
    "print(\"End\")"
   ]
  },
  {
   "cell_type": "code",
   "execution_count": 38,
   "metadata": {},
   "outputs": [
    {
     "name": "stdout",
     "output_type": "stream",
     "text": [
      "2\n",
      "3\n",
      "4\n",
      "5\n"
     ]
    }
   ],
   "source": [
    "n = 6\n",
    "for i in range(2, n):\n",
    "    if i < 3:\n",
    "        pass\n",
    "    print(i)"
   ]
  },
  {
   "cell_type": "code",
   "execution_count": 39,
   "metadata": {},
   "outputs": [
    {
     "name": "stdout",
     "output_type": "stream",
     "text": [
      "The End\n"
     ]
    }
   ],
   "source": [
    "count = 0 \n",
    "while count < 4:\n",
    "    break \n",
    "    count = count + 1\n",
    "    print(count)\n",
    "print('The End')"
   ]
  },
  {
   "cell_type": "code",
   "execution_count": 40,
   "metadata": {},
   "outputs": [
    {
     "name": "stdout",
     "output_type": "stream",
     "text": [
      "1\n",
      "End\n"
     ]
    }
   ],
   "source": [
    "a = True \n",
    "while a:\n",
    "    for i in range(1, 4):\n",
    "        if i == 2 :\n",
    "            a = False \n",
    "            break \n",
    "        print(i)\n",
    "print(\"End\")"
   ]
  },
  {
   "cell_type": "code",
   "execution_count": 42,
   "metadata": {},
   "outputs": [
    {
     "name": "stdout",
     "output_type": "stream",
     "text": [
      "3\n",
      "4\n",
      "5\n",
      "6\n",
      "Done!\n"
     ]
    }
   ],
   "source": [
    "i = 2 \n",
    "while i<=9:\n",
    "    if i%5 == 1 :\n",
    "        break \n",
    "    i = i+1\n",
    "    print(i)\n",
    "print(\"Done!\")"
   ]
  },
  {
   "cell_type": "code",
   "execution_count": 46,
   "metadata": {},
   "outputs": [
    {
     "name": "stdout",
     "output_type": "stream",
     "text": [
      "2\n"
     ]
    }
   ],
   "source": [
    "m = 3 \n",
    "n = 9\n",
    "count = 0\n",
    "for i in range(m+1, n):\n",
    "    is_prime = True \n",
    "    for j in range(2, i):\n",
    "        if (i %j) == 0:\n",
    "            is_prime = False\n",
    "            break \n",
    "    if is_prime:\n",
    "        count = count + 1\n",
    "print(count)"
   ]
  },
  {
   "cell_type": "code",
   "execution_count": 5,
   "metadata": {},
   "outputs": [
    {
     "name": "stdout",
     "output_type": "stream",
     "text": [
      "hello Hi\n"
     ]
    }
   ],
   "source": [
    "sentence = input()\n",
    "len_input = len(sentence)\n",
    "\n",
    "for i in range(len_input):\n",
    "    if sentence[i] == \" \":\n",
    "        break\n",
    "\n",
    "first_word = sentence[:i]\n",
    "first_word = first_word.lower()\n",
    "output = first_word + sentence[i:]\n",
    "print(output)\n"
   ]
  },
  {
   "cell_type": "code",
   "execution_count": 6,
   "metadata": {},
   "outputs": [
    {
     "name": "stdout",
     "output_type": "stream",
     "text": [
      "abc@c\n"
     ]
    }
   ],
   "source": [
    "text = \"abc@2c3\"\n",
    "result = \"\"\n",
    "for i in text:\n",
    "    if i.isdigit():\n",
    "        continue\n",
    "    result = result + i\n",
    "print(result)"
   ]
  },
  {
   "cell_type": "code",
   "execution_count": 7,
   "metadata": {},
   "outputs": [
    {
     "name": "stdout",
     "output_type": "stream",
     "text": [
      "12\n"
     ]
    }
   ],
   "source": [
    "x = 6\n",
    "y = 0\n",
    "i = 0\n",
    "\n",
    "while True:\n",
    "    y = y + i\n",
    "    i = i + 2\n",
    "    if i > x :\n",
    "        break\n",
    "print(y)"
   ]
  },
  {
   "cell_type": "code",
   "execution_count": 9,
   "metadata": {},
   "outputs": [
    {
     "name": "stdout",
     "output_type": "stream",
     "text": [
      "-6\n"
     ]
    }
   ],
   "source": [
    "n = int(input())\n",
    "for i in range(n):\n",
    "    number = int(input())\n",
    "    if number < 0:\n",
    "        print(number)\n",
    "        break"
   ]
  },
  {
   "cell_type": "code",
   "execution_count": 10,
   "metadata": {},
   "outputs": [
    {
     "name": "stdout",
     "output_type": "stream",
     "text": [
      "Hey!\n"
     ]
    }
   ],
   "source": [
    "a = 8\n",
    "if a > 4 :\n",
    "    print(\"Hey!\")\n",
    "elif a > 5:\n",
    "    pass\n",
    "    print(\" Rishika\")"
   ]
  },
  {
   "cell_type": "code",
   "execution_count": 11,
   "metadata": {},
   "outputs": [
    {
     "name": "stdout",
     "output_type": "stream",
     "text": [
      "4\n",
      "5\n",
      "Finish!\n"
     ]
    }
   ],
   "source": [
    "for count in range(6):\n",
    "    if count < 4:\n",
    "        continue\n",
    "    print(count)\n",
    "print(\"Finish!\")"
   ]
  }
 ],
 "metadata": {
  "kernelspec": {
   "display_name": "Python 3",
   "language": "python",
   "name": "python3"
  },
  "language_info": {
   "codemirror_mode": {
    "name": "ipython",
    "version": 3
   },
   "file_extension": ".py",
   "mimetype": "text/x-python",
   "name": "python",
   "nbconvert_exporter": "python",
   "pygments_lexer": "ipython3",
   "version": "3.11.4"
  },
  "orig_nbformat": 4
 },
 "nbformat": 4,
 "nbformat_minor": 2
}
