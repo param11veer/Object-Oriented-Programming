{
 "cells": [
  {
   "cell_type": "markdown",
   "metadata": {},
   "source": [
    "ord(character) gives unicode value for this character\n",
    "\n",
    "chr(unicode) gives character with this unicode value"
   ]
  },
  {
   "cell_type": "markdown",
   "metadata": {},
   "source": [
    "ROUND\n",
    "\n",
    "round(number, digits(optional))"
   ]
  },
  {
   "cell_type": "code",
   "execution_count": 1,
   "metadata": {},
   "outputs": [
    {
     "name": "stdout",
     "output_type": "stream",
     "text": [
      "3.1\n"
     ]
    }
   ],
   "source": [
    "a = round(3.14,1)\n",
    "print(a)"
   ]
  },
  {
   "cell_type": "code",
   "execution_count": 2,
   "metadata": {},
   "outputs": [
    {
     "name": "stdout",
     "output_type": "stream",
     "text": [
      "0.34\n"
     ]
    }
   ],
   "source": [
    "a = 0.341\n",
    "print(round(a, 2))"
   ]
  },
  {
   "cell_type": "code",
   "execution_count": 3,
   "metadata": {},
   "outputs": [
    {
     "name": "stdout",
     "output_type": "stream",
     "text": [
      "9.123\n"
     ]
    }
   ],
   "source": [
    "a = 9.1234\n",
    "print(round(a, 3))"
   ]
  },
  {
   "cell_type": "code",
   "execution_count": 4,
   "metadata": {},
   "outputs": [
    {
     "name": "stdout",
     "output_type": "stream",
     "text": [
      "9.05\n"
     ]
    }
   ],
   "source": [
    "a = 9.04635\n",
    "print(round(a, 2))"
   ]
  },
  {
   "cell_type": "code",
   "execution_count": 5,
   "metadata": {},
   "outputs": [
    {
     "name": "stdout",
     "output_type": "stream",
     "text": [
      "True\n"
     ]
    }
   ],
   "source": [
    "r = 3 * 12 / (4 - 2)\n",
    "print(round(r) != 7)"
   ]
  },
  {
   "cell_type": "code",
   "execution_count": 7,
   "metadata": {},
   "outputs": [
    {
     "name": "stdout",
     "output_type": "stream",
     "text": [
      "4.7\n",
      "4.66\n"
     ]
    }
   ],
   "source": [
    "f = 4.6578\n",
    "for i in range(1, 3):\n",
    "    print(round(f, i))"
   ]
  },
  {
   "cell_type": "code",
   "execution_count": 9,
   "metadata": {},
   "outputs": [
    {
     "name": "stdout",
     "output_type": "stream",
     "text": [
      "False\n"
     ]
    }
   ],
   "source": [
    "r = round((0.999 + 0.1),2)\n",
    "print(r == 1.09)"
   ]
  },
  {
   "cell_type": "code",
   "execution_count": 10,
   "metadata": {},
   "outputs": [
    {
     "name": "stdout",
     "output_type": "stream",
     "text": [
      "6.0\n"
     ]
    }
   ],
   "source": [
    "num = \"6.351\"\n",
    "print(round(float(num),0))"
   ]
  },
  {
   "cell_type": "code",
   "execution_count": 11,
   "metadata": {},
   "outputs": [
    {
     "name": "stdout",
     "output_type": "stream",
     "text": [
      "<class 'int'>\n"
     ]
    }
   ],
   "source": [
    "f = 200.54\n",
    "print(type(round(f)))"
   ]
  },
  {
   "cell_type": "code",
   "execution_count": 12,
   "metadata": {},
   "outputs": [
    {
     "name": "stdout",
     "output_type": "stream",
     "text": [
      "9\n"
     ]
    }
   ],
   "source": [
    "print(round(8.546))"
   ]
  },
  {
   "cell_type": "code",
   "execution_count": 14,
   "metadata": {},
   "outputs": [
    {
     "name": "stdout",
     "output_type": "stream",
     "text": [
      "4\n",
      "False\n"
     ]
    }
   ],
   "source": [
    "r1 = \"12.5\"\n",
    "r2 = \"13\"\n",
    "val = (round(float(r1) >= round(float(r2))))\n",
    "print(len(r1))\n",
    "print((r1 >= r2)!=val)"
   ]
  },
  {
   "cell_type": "code",
   "execution_count": 15,
   "metadata": {},
   "outputs": [
    {
     "name": "stdout",
     "output_type": "stream",
     "text": [
      "True\n"
     ]
    }
   ],
   "source": [
    "a = 4.246\n",
    "print(int(a) == round(a))"
   ]
  },
  {
   "cell_type": "code",
   "execution_count": 16,
   "metadata": {},
   "outputs": [
    {
     "name": "stdout",
     "output_type": "stream",
     "text": [
      "0.30000000000000004\n"
     ]
    }
   ],
   "source": [
    "print(0.1 + 0.2)"
   ]
  },
  {
   "cell_type": "code",
   "execution_count": 17,
   "metadata": {},
   "outputs": [
    {
     "name": "stdout",
     "output_type": "stream",
     "text": [
      "48.5\n"
     ]
    }
   ],
   "source": [
    "ch = \"a\"\n",
    "un = ord(ch)\n",
    "result = un / 2 \n",
    "print(round(result, 2))"
   ]
  },
  {
   "cell_type": "code",
   "execution_count": 18,
   "metadata": {},
   "outputs": [
    {
     "name": "stdout",
     "output_type": "stream",
     "text": [
      "False\n"
     ]
    }
   ],
   "source": [
    "print(round(99.99, 1) < round(99.999, 2))"
   ]
  },
  {
   "cell_type": "code",
   "execution_count": 19,
   "metadata": {},
   "outputs": [
    {
     "name": "stdout",
     "output_type": "stream",
     "text": [
      "23.6\n"
     ]
    }
   ],
   "source": [
    "number = \"23.56\"\n",
    "\n",
    "if (number.isdigit()):\n",
    "    number = round(number, 1)\n",
    "else :\n",
    "    number = round(float(number), 1)\n",
    "print(number)"
   ]
  },
  {
   "cell_type": "code",
   "execution_count": 20,
   "metadata": {},
   "outputs": [
    {
     "name": "stdout",
     "output_type": "stream",
     "text": [
      "False\n",
      "False\n"
     ]
    }
   ],
   "source": [
    "result = round((2.546 - 1.34), 3)\n",
    "val = (result == 1.21)\n",
    "\n",
    "print(val)\n",
    "print(val == \"False\")"
   ]
  },
  {
   "cell_type": "code",
   "execution_count": 21,
   "metadata": {},
   "outputs": [
    {
     "name": "stdout",
     "output_type": "stream",
     "text": [
      "3.5\n",
      "3\n",
      "3.0\n",
      "3.6\n"
     ]
    }
   ],
   "source": [
    "print(round(3.45,1))\n",
    "print(round(3.45))\n",
    "print(round(3.45,0))\n",
    "print(round(3.64,1))"
   ]
  },
  {
   "cell_type": "code",
   "execution_count": 23,
   "metadata": {},
   "outputs": [
    {
     "name": "stdout",
     "output_type": "stream",
     "text": [
      "<class 'float'>\n"
     ]
    }
   ],
   "source": [
    "print(type(round(89.45, 0)))"
   ]
  },
  {
   "cell_type": "code",
   "execution_count": 24,
   "metadata": {},
   "outputs": [
    {
     "name": "stdout",
     "output_type": "stream",
     "text": [
      "6\n"
     ]
    }
   ],
   "source": [
    "input_1 = \"5.46\"\n",
    "result = input_1 * 2\n",
    "\n",
    "result = result[7:]\n",
    "result = float(result.strip(\".\"))\n",
    "print(round(result))"
   ]
  },
  {
   "cell_type": "code",
   "execution_count": null,
   "metadata": {},
   "outputs": [],
   "source": [
    "n = int(input())\n",
    "for i in range(1, n+1):\n",
    "    n_input = float(input())\n",
    "    n = round(n_input, 2)\n",
    "    print(n)"
   ]
  },
  {
   "cell_type": "code",
   "execution_count": null,
   "metadata": {},
   "outputs": [],
   "source": [
    "m = int(input())\n",
    "n = int(input())\n",
    "count = 0 \n",
    "sum = 0\n",
    "for i in range(m, n+1):\n",
    "    count += 1 \n",
    "    sum = sum + i \n",
    "    \n",
    "average = sum/count\n",
    "print(sum)\n",
    "print(average)"
   ]
  },
  {
   "cell_type": "code",
   "execution_count": null,
   "metadata": {},
   "outputs": [],
   "source": [
    "n = int(input())\n",
    "s = float(input())\n",
    "sum = 0\n",
    "for i in range(1, n+1):\n",
    "    n_inputs = float(input())\n",
    "    sum = sum + n_inputs\n",
    "    \n",
    "rounded_number = round(sum, 3)\n",
    "if rounded_number == s :\n",
    "    print(\"True\")\n",
    "else :\n",
    "    print(\"False\")"
   ]
  },
  {
   "cell_type": "code",
   "execution_count": null,
   "metadata": {},
   "outputs": [],
   "source": [
    "x = float(input())\n",
    "n = int(input())\n",
    "count = 0 \n",
    "sum = 0 \n",
    "for i in range(1, n+1):\n",
    "    count += 1\n",
    "    sum = sum + (x**count)\n",
    "rounded_number = round(sum,4)\n",
    "print(rounded_number)"
   ]
  },
  {
   "cell_type": "code",
   "execution_count": 29,
   "metadata": {},
   "outputs": [
    {
     "name": "stdout",
     "output_type": "stream",
     "text": [
      "12\n"
     ]
    }
   ],
   "source": [
    "s = \"12h\"\n",
    "q = s[:-1]\n",
    "print(q)"
   ]
  },
  {
   "cell_type": "code",
   "execution_count": null,
   "metadata": {},
   "outputs": [],
   "source": [
    "s = input()\n",
    "if (s[-1] == \"M\"):\n",
    "    string = int(s[:-1])\n",
    "    new_string = string/60\n",
    "    new_string = round(new_string, 2)\n",
    "    old_string = str(new_string) + \"H\"\n",
    "    print(old_string)\n",
    "else:\n",
    "    string = int(s[:-1])\n",
    "    new_string = string/3600\n",
    "    new_string = round(new_string, 2)\n",
    "    old_string = str(new_string) + \"H\"\n",
    "    print(old_string)"
   ]
  },
  {
   "cell_type": "code",
   "execution_count": 30,
   "metadata": {},
   "outputs": [
    {
     "name": "stdout",
     "output_type": "stream",
     "text": [
      "    A\n",
      "   B B\n",
      "  C   C\n",
      " D     D\n",
      "E       E\n",
      " D     D\n",
      "  C   C\n",
      "   B B\n",
      "    A\n"
     ]
    }
   ],
   "source": [
    "n = int(input())\n",
    "alpha = 65\n",
    "for row in range(n):\n",
    "    left_spaces = \" \" * (n - row - 1) \n",
    "    hollow_spaces = \" \" * (2 * row - 1)\n",
    "    if row == 0:\n",
    "        each_row = left_spaces + chr(alpha)\n",
    "        alpha += 1\n",
    "    else:\n",
    "        each_row = left_spaces + chr(alpha) + hollow_spaces + chr(alpha)\n",
    "        alpha += 1\n",
    "    print(each_row)\n",
    "    \n",
    "alpha -= 2\n",
    "\n",
    "for row in range(1, n):\n",
    "    left_spaces = \" \" * row \n",
    "    hollow_spaces = \" \" * (2 * (n - row - 1) - 1)\n",
    "    if row == n - 1:\n",
    "        each_row = left_spaces + chr(alpha)\n",
    "    else:\n",
    "        each_row = left_spaces + chr(alpha) + hollow_spaces + chr(alpha)\n",
    "        alpha -= 1 \n",
    "    print(each_row)"
   ]
  },
  {
   "cell_type": "code",
   "execution_count": null,
   "metadata": {},
   "outputs": [],
   "source": [
    "n = int(input())\n",
    "dots = \". \"\n",
    "zero = \"0 \"\n",
    "count = 1 \n",
    "for i in range(1, n+1):\n",
    "    left_dots = dots * (n-i)\n",
    "    count_of_zeroes = zero * count \n",
    "    print(left_dots + count_of_zeroes + left_dots)\n",
    "    count += 2 \n",
    "counting = 1\n",
    "count -= 2 \n",
    "for i in range(1, n):\n",
    "    count -= 2 \n",
    "    left_dots = dots * counting\n",
    "    count_of_zeroes = zero * count \n",
    "    print(left_dots + count_of_zeroes + left_dots)\n",
    "    counting += 1 "
   ]
  },
  {
   "cell_type": "code",
   "execution_count": 33,
   "metadata": {},
   "outputs": [
    {
     "name": "stdout",
     "output_type": "stream",
     "text": [
      ". . . . . . . . . . . . . . . . . . . 0 . . . . . . . . . . . . . . . . . . . . . . . . . . . . . . . . . . . . . . 0 . . . . . . . . . . . . . . . . . . . \n",
      ". . . . . . . . . . . . . . . . . . 0 0 0 . . . . . . . . . . . . . . . . . . . . . . . . . . . . . . . . . . . . 0 0 0 . . . . . . . . . . . . . . . . . . \n",
      ". . . . . . . . . . . . . . . . . 0 0 0 0 0 . . . . . . . . . . . . . . . . . . . . . . . . . . . . . . . . . . 0 0 0 0 0 . . . . . . . . . . . . . . . . . \n",
      ". . . . . . . . . . . . . . . . 0 0 0 0 0 0 0 . . . . . . . . . . . . . . . . . . . . . . . . . . . . . . . . 0 0 0 0 0 0 0 . . . . . . . . . . . . . . . . \n",
      ". . . . . . . . . . . . . . . 0 0 0 0 0 0 0 0 0 . . . . . . . . . . . . . . . . . . . . . . . . . . . . . . 0 0 0 0 0 0 0 0 0 . . . . . . . . . . . . . . . \n",
      ". . . . . . . . . . . . . . 0 0 0 0 0 0 0 0 0 0 0 . . . . . . . . . . . . . . . . . . . . . . . . . . . . 0 0 0 0 0 0 0 0 0 0 0 . . . . . . . . . . . . . . \n",
      ". . . . . . . . . . . . . 0 0 0 0 0 0 0 0 0 0 0 0 0 . . . . . . . . . . . . . . . . . . . . . . . . . . 0 0 0 0 0 0 0 0 0 0 0 0 0 . . . . . . . . . . . . . \n",
      ". . . . . . . . . . . . 0 0 0 0 0 0 0 0 0 0 0 0 0 0 0 . . . . . . . . . . . . . . . . . . . . . . . . 0 0 0 0 0 0 0 0 0 0 0 0 0 0 0 . . . . . . . . . . . . \n",
      ". . . . . . . . . . . 0 0 0 0 0 0 0 0 0 0 0 0 0 0 0 0 0 . . . . . . . . . . . . . . . . . . . . . . 0 0 0 0 0 0 0 0 0 0 0 0 0 0 0 0 0 . . . . . . . . . . . \n",
      ". . . . . . . . . . 0 0 0 0 0 0 0 0 0 0 0 0 0 0 0 0 0 0 0 . . . . . . . . . . . . . . . . . . . . 0 0 0 0 0 0 0 0 0 0 0 0 0 0 0 0 0 0 0 . . . . . . . . . . \n",
      ". . . . . . . . . 0 0 0 0 0 0 0 0 0 0 0 0 0 0 0 0 0 0 0 0 0 . . . . . . . . . . . . . . . . . . 0 0 0 0 0 0 0 0 0 0 0 0 0 0 0 0 0 0 0 0 0 . . . . . . . . . \n",
      ". . . . . . . . 0 0 0 0 0 0 0 0 0 0 0 0 0 0 0 0 0 0 0 0 0 0 0 . . . . . . . . . . . . . . . . 0 0 0 0 0 0 0 0 0 0 0 0 0 0 0 0 0 0 0 0 0 0 0 . . . . . . . . \n",
      ". . . . . . . 0 0 0 0 0 0 0 0 0 0 0 0 0 0 0 0 0 0 0 0 0 0 0 0 0 . . . . . . . . . . . . . . 0 0 0 0 0 0 0 0 0 0 0 0 0 0 0 0 0 0 0 0 0 0 0 0 0 . . . . . . . \n",
      ". . . . . . 0 0 0 0 0 0 0 0 0 0 0 0 0 0 0 0 0 0 0 0 0 0 0 0 0 0 0 . . . . . . . . . . . . 0 0 0 0 0 0 0 0 0 0 0 0 0 0 0 0 0 0 0 0 0 0 0 0 0 0 0 . . . . . . \n",
      ". . . . . 0 0 0 0 0 0 0 0 0 0 0 0 0 0 0 0 0 0 0 0 0 0 0 0 0 0 0 0 0 . . . . . . . . . . 0 0 0 0 0 0 0 0 0 0 0 0 0 0 0 0 0 0 0 0 0 0 0 0 0 0 0 0 0 . . . . . \n",
      ". . . . 0 0 0 0 0 0 0 0 0 0 0 0 0 0 0 0 0 0 0 0 0 0 0 0 0 0 0 0 0 0 0 . . . . . . . . 0 0 0 0 0 0 0 0 0 0 0 0 0 0 0 0 0 0 0 0 0 0 0 0 0 0 0 0 0 0 0 . . . . \n",
      ". . . 0 0 0 0 0 0 0 0 0 0 0 0 0 0 0 0 0 0 0 0 0 0 0 0 0 0 0 0 0 0 0 0 0 . . . . . . 0 0 0 0 0 0 0 0 0 0 0 0 0 0 0 0 0 0 0 0 0 0 0 0 0 0 0 0 0 0 0 0 0 . . . \n",
      ". . 0 0 0 0 0 0 0 0 0 0 0 0 0 0 0 0 0 0 0 0 0 0 0 0 0 0 0 0 0 0 0 0 0 0 0 . . . . 0 0 0 0 0 0 0 0 0 0 0 0 0 0 0 0 0 0 0 0 0 0 0 0 0 0 0 0 0 0 0 0 0 0 0 . . \n",
      ". 0 0 0 0 0 0 0 0 0 0 0 0 0 0 0 0 0 0 0 0 0 0 0 0 0 0 0 0 0 0 0 0 0 0 0 0 0 . . 0 0 0 0 0 0 0 0 0 0 0 0 0 0 0 0 0 0 0 0 0 0 0 0 0 0 0 0 0 0 0 0 0 0 0 0 0 . \n",
      "0 0 0 0 0 0 0 0 0 0 0 0 0 0 0 0 0 0 0 0 0 0 0 0 0 0 0 0 0 0 0 0 0 0 0 0 0 0 0 0 0 0 0 0 0 0 0 0 0 0 0 0 0 0 0 0 0 0 0 0 0 0 0 0 0 0 0 0 0 0 0 0 0 0 0 0 0 0 \n"
     ]
    }
   ],
   "source": [
    "n = int(input())\n",
    "dots = \". \"\n",
    "zero = \"0 \"\n",
    "count = 1 \n",
    "for i in range(1, n+1):\n",
    "    left_dots = dots * (n-i)\n",
    "    count_of_zeroes = zero * count \n",
    "    print(left_dots + count_of_zeroes + left_dots + left_dots + count_of_zeroes + left_dots)\n",
    "    count += 2 "
   ]
  },
  {
   "cell_type": "code",
   "execution_count": 2,
   "metadata": {},
   "outputs": [
    {
     "name": "stdout",
     "output_type": "stream",
     "text": [
      "         A                   A \n",
      "        B B                 B B \n",
      "       C   C               C   C \n",
      "      D     D             D     D \n",
      "     E       E           E       E \n",
      "    F         F         F         F \n",
      "   G           G       G           G \n",
      "  H             H     H             H \n",
      " I               I   I               I \n",
      "J                 J J                 J \n"
     ]
    }
   ],
   "source": [
    "rows = int(input())\n",
    "\n",
    "for row in range(1, rows + 1):\n",
    "    spaces = \" \" * (rows - row)\n",
    "    \n",
    "    if row == 1:\n",
    "        each_row = spaces + (chr(row + 64 ) + \" \") \n",
    "    else:\n",
    "        hollow_spaces = \"  \" * (row - 2)\n",
    "        each_row = spaces + (chr(row + 64) + \" \") + hollow_spaces + (chr(row + 64) + \" \")\n",
    "\n",
    "    spaces_between_triangles = \" \" * (rows - row)\n",
    "    \n",
    "    print(each_row + spaces_between_triangles + each_row)"
   ]
  },
  {
   "cell_type": "code",
   "execution_count": 3,
   "metadata": {},
   "outputs": [
    {
     "name": "stdout",
     "output_type": "stream",
     "text": [
      "* * * * * * * * * * * * * * * * * * * * \n",
      "* * * * * * * * *     * * * * * * * * * \n",
      "* * * * * * * *         * * * * * * * * \n",
      "* * * * * * *             * * * * * * * \n",
      "* * * * * *                 * * * * * * \n",
      "* * * * *                     * * * * * \n",
      "* * * *                         * * * * \n",
      "* * *                             * * * \n",
      "* *                                 * * \n",
      "*                                     * \n",
      "*                                     * \n",
      "* *                                 * * \n",
      "* * *                             * * * \n",
      "* * * *                         * * * * \n",
      "* * * * *                     * * * * * \n",
      "* * * * * *                 * * * * * * \n",
      "* * * * * * *             * * * * * * * \n",
      "* * * * * * * *         * * * * * * * * \n",
      "* * * * * * * * *     * * * * * * * * * \n",
      "* * * * * * * * * * * * * * * * * * * * \n"
     ]
    }
   ],
   "source": [
    "n = int(input())\n",
    "stars = \"* \"\n",
    "count = (n-1)\n",
    "space_counting = 2\n",
    "for i in range(1, n+1):\n",
    "    if i == 1 :\n",
    "        print(stars*(n*2))\n",
    "    else :\n",
    "        left_stars = stars*(count)\n",
    "        hollow_spaces = \"  \"*(space_counting)\n",
    "        print(left_stars + hollow_spaces + left_stars)\n",
    "        count -= 1 \n",
    "        space_counting += 2 \n",
    "\n",
    "for i in range(1, n+1):\n",
    "    if i == n :\n",
    "        print(stars*(n*2))\n",
    "    else :\n",
    "        count += 1 \n",
    "        space_counting -= 2 \n",
    "        left_stars = stars*(count)\n",
    "        hollow_spaces = \"  \"*(space_counting)\n",
    "        print(left_stars + hollow_spaces + left_stars)"
   ]
  },
  {
   "cell_type": "code",
   "execution_count": 6,
   "metadata": {},
   "outputs": [
    {
     "name": "stdout",
     "output_type": "stream",
     "text": [
      "         A\n",
      "        B C\n",
      "       D   E\n",
      "      F     G\n",
      "     H       I\n",
      "    J         K\n",
      "   L           M\n",
      "  N             O\n",
      " P               Q\n",
      "R                 S\n",
      " P               Q\n",
      "  N             O\n",
      "   L           M\n",
      "    J         K\n",
      "     H       I\n",
      "      F     G\n",
      "       D   E\n",
      "        B C\n",
      "         A\n"
     ]
    }
   ],
   "source": [
    "n = int(input())\n",
    "alpha = 65\n",
    "space = \" \"\n",
    "count = n-1\n",
    "counting = 0 \n",
    "for i in range(1, n+1):\n",
    "    if i == 1 :\n",
    "        left_spaces = space * (count)\n",
    "        row = left_spaces + chr(alpha)\n",
    "        print(row)\n",
    "        alpha += 1 \n",
    "        count -= 1 \n",
    "    else :\n",
    "        left_spaces = space * (count)\n",
    "        hollow_space = space * (counting)\n",
    "        row = left_spaces + chr(alpha) +  \" \" + hollow_space + (chr(alpha+1))\n",
    "        print(row)\n",
    "        count -= 1 \n",
    "        counting += 2 \n",
    "        alpha += 2 \n",
    "count += 1\n",
    "counting -= 2 \n",
    "alpha -= 2 \n",
    "for i in range(1, n):\n",
    "    if i == (n-1):\n",
    "        print(space*(n-1) + chr(65))\n",
    "    else :\n",
    "        count += 1 \n",
    "        counting -= 2 \n",
    "        alpha -= 2 \n",
    "        left_spaces = space*(count)\n",
    "        hollow_space = space*(counting)\n",
    "        row = left_spaces + chr(alpha) + \" \" + hollow_space + (chr(alpha+1))\n",
    "        print(row)"
   ]
  },
  {
   "cell_type": "code",
   "execution_count": 23,
   "metadata": {},
   "outputs": [
    {
     "name": "stdout",
     "output_type": "stream",
     "text": [
      "3.06C\n",
      "37.5F\n",
      "276.06K\n"
     ]
    }
   ],
   "source": [
    "#WAP to print temperature in all scales vix Celsius, Fahrenheit and Kelvin\n",
    "n = input()\n",
    "degree = n[-1]\n",
    "value = float(n[:-1])\n",
    "if degree == \"C\":\n",
    "    celsius = float((value))\n",
    "    fahrenheit = (celsius * (9/5) + 32)\n",
    "    kelvin = celsius + 273\n",
    "    celsius_to_print = str(float(value)) + \"C\"\n",
    "    fahrenheit_to_print = str(fahrenheit) + \"F\"\n",
    "    kelvin_to_print = str(kelvin) + \"K\"\n",
    "    print(celsius_to_print)\n",
    "    print(fahrenheit_to_print)\n",
    "    print(kelvin_to_print)\n",
    "    \n",
    "\n",
    "elif degree == \"F\":\n",
    "    celsius = (value-32)*(5/9)\n",
    "    fahrenheit = float((value))\n",
    "    kelvin = ((value-32) * 5/9 + 273)\n",
    "    celsius_to_print = str(round(celsius, 2)) + \"C\"\n",
    "    fahrenheit_to_print = str(float(value)) + \"F\"\n",
    "    kelvin_to_print = str(round(kelvin, 2)) + \"K\"\n",
    "    print(celsius_to_print)\n",
    "    print(fahrenheit_to_print)\n",
    "    print(kelvin_to_print)\n",
    "    \n",
    "else :\n",
    "    celsius = (value - 273)\n",
    "    fahrenheit = (value - 273) * (9/5) + (32)\n",
    "    kelvin = float(value)\n",
    "    celsius_to_print = str(round(celsius, 2)) + \"C\"\n",
    "    fahrenheit_to_print = str(round(fahrenheit, 2)) + \"F\"\n",
    "    kelvin_to_print = str(kelvin) + \"K\"\n",
    "    print(celsius_to_print)\n",
    "    print(fahrenheit_to_print)\n",
    "    print(kelvin_to_print)\n"
   ]
  },
  {
   "cell_type": "code",
   "execution_count": 15,
   "metadata": {},
   "outputs": [
    {
     "name": "stdout",
     "output_type": "stream",
     "text": [
      "37.5\n"
     ]
    }
   ],
   "source": [
    "#WAP to print the sum of the first N terms in Harmonic series\n",
    "n = int(input())\n",
    "sum = 1 \n",
    "for i in range(2, n+1):\n",
    "    sum += (1/i)\n",
    "print(float(round(sum, 2)))"
   ]
  },
  {
   "cell_type": "code",
   "execution_count": null,
   "metadata": {},
   "outputs": [],
   "source": [
    "#WAP to print the roots of the quadratic equation\n",
    "a = int(input())\n",
    "b = int(input())\n",
    "c = int(input())\n",
    "r1 = (((b*-1) +((b**2) - (4*a*c))**0.5)/(2*a))\n",
    "r2 = (((b*-1) - ((b**2) - (4*a*c))**0.5)/(2*a))\n",
    "print(float(round(r1, 2)))\n",
    "print(float(round(r2, 2)))"
   ]
  }
 ],
 "metadata": {
  "kernelspec": {
   "display_name": "Python 3",
   "language": "python",
   "name": "python3"
  },
  "language_info": {
   "codemirror_mode": {
    "name": "ipython",
    "version": 3
   },
   "file_extension": ".py",
   "mimetype": "text/x-python",
   "name": "python",
   "nbconvert_exporter": "python",
   "pygments_lexer": "ipython3",
   "version": "3.11.5"
  },
  "orig_nbformat": 4
 },
 "nbformat": 4,
 "nbformat_minor": 2
}
