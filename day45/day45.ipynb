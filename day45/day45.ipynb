{
 "cells": [
  {
   "cell_type": "code",
   "execution_count": null,
   "metadata": {},
   "outputs": [],
   "source": [
    "list_a = ['Rose', 183, 148, 123.64, False]\n",
    "print(list_a)"
   ]
  },
  {
   "cell_type": "code",
   "execution_count": null,
   "metadata": {},
   "outputs": [],
   "source": [
    "color_list = [\"Red\", \"Orange\", \"Yellow\", \"Pink\", \"Green\", \"Blue\", \"Purple\", \"Black\", \"White\"]\n",
    "\n",
    "index = int(input())\n",
    "print(color_list[index])"
   ]
  },
  {
   "cell_type": "code",
   "execution_count": null,
   "metadata": {},
   "outputs": [],
   "source": [
    "programming_languages_list = [\"Python\", \"Java\", \"Ruby\", \"C\", \"C++\", \"Go\", \"R\", \"JavaScript\", \"Swift\", \"PHP\", \"Kotlin\", \"Perl\"]\n",
    "\n",
    "m = int(input())\n",
    "for i in range(m):\n",
    "    index = int(input())  # Read the list indexes\n",
    "    print(programming_languages_list[index])  # Print the elements at given index"
   ]
  },
  {
   "cell_type": "code",
   "execution_count": null,
   "metadata": {},
   "outputs": [],
   "source": [
    "L = [\"5\", \"eat\", \"9.80\", \"Water\", \"python\", \"-678\", \"7685.26\", \"-2.5\", \"sing\"]\n",
    "\n",
    "string = input()\n",
    "\n",
    "is_present = False\n",
    "\n",
    "for each_item in L:\n",
    "    if each_item == string:\n",
    "        is_present = True\n",
    "        break\n",
    "\n",
    "print(is_present)"
   ]
  },
  {
   "cell_type": "code",
   "execution_count": null,
   "metadata": {},
   "outputs": [],
   "source": [
    "num_list =  [10, 20, 40, 100]\n",
    "n = int(input())\n",
    "first_list = [n] + num_list\n",
    "second_list = num_list + [n]\n",
    "\n",
    "print(first_list)\n",
    "print(second_list)\n"
   ]
  },
  {
   "cell_type": "code",
   "execution_count": null,
   "metadata": {},
   "outputs": [],
   "source": [
    "L = [\"apple\", \"78\", \"970.03\"]\n",
    "\n",
    "number_of_inputs = int(input())\n",
    "\n",
    "for i in range(number_of_inputs):\n",
    "    new_item = input()\n",
    "    L += [new_item]\n",
    "    \n",
    "print(L)"
   ]
  },
  {
   "cell_type": "code",
   "execution_count": null,
   "metadata": {},
   "outputs": [],
   "source": []
  }
 ],
 "metadata": {
  "language_info": {
   "name": "python"
  },
  "orig_nbformat": 4
 },
 "nbformat": 4,
 "nbformat_minor": 2
}
