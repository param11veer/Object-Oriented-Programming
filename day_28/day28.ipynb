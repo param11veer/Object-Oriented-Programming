{
 "cells": [
  {
   "cell_type": "code",
   "execution_count": null,
   "metadata": {},
   "outputs": [],
   "source": [
    "#Wap to print the solid half diamond pattern in (2*N-1) rows and N columns\n",
    "n = int(input())\n",
    "count = 1\n",
    "for i in range(1, n+1):\n",
    "        print(\"* \"*count)\n",
    "        count += 1 \n",
    "for j in range(1, n):\n",
    "    count -= 2 \n",
    "    print(\"* \"*count)\n",
    "    count += 1 "
   ]
  },
  {
   "cell_type": "code",
   "execution_count": null,
   "metadata": {},
   "outputs": [],
   "source": [
    "#Wap to print a butterfly of 2*N rows using a star\n",
    "n = int(input())\n",
    "print_limit = 2*n\n",
    "star = \"* \"\n",
    "space = \"  \"\n",
    "count = (print_limit-2)\n",
    "counting = n \n",
    "for rows in range(1, n+1):\n",
    "    hollow_spaces = space*count\n",
    "    print( (star*rows) + hollow_spaces + (star*rows)  )\n",
    "    count -= 2 \n",
    "for rows in range(1, n+1):\n",
    "    count += 2 \n",
    "    hollow_spaces = space*count\n",
    "    print( (star*counting) + hollow_spaces + (star*counting)  )\n",
    "    counting -= 1 "
   ]
  },
  {
   "cell_type": "code",
   "execution_count": null,
   "metadata": {},
   "outputs": [],
   "source": [
    "#Wap to print a pyramid inside a rectangle of N rows using (1) to represent pyramid and (0) int the remaining places\n",
    "n = int(input())\n",
    "count_zero = (2*n//2)-1\n",
    "zero = \"0 \"\n",
    "number = \"1 \"\n",
    "count_number = 1 \n",
    "for i in range(1, n+1):\n",
    "    print( (zero*count_zero) + (number*count_number) + (zero*count_zero) )\n",
    "    count_zero -= 1 \n",
    "    count_number += 2 "
   ]
  },
  {
   "cell_type": "code",
   "execution_count": null,
   "metadata": {},
   "outputs": [],
   "source": [
    "#Wap to print a pyramid of even numbers of stars on n rows\n",
    "n = int(input())\n",
    "count_space = ((2*n)-2)//2\n",
    "hollow_space = \"  \"\n",
    "star = \"* \"\n",
    "count_star = 2 \n",
    "for i in range(1, n+1):\n",
    "    print( (hollow_space*count_space) + (star*count_star) + (hollow_space*count_space) )\n",
    "    count_space -= 1 \n",
    "    count_star += 2 "
   ]
  },
  {
   "cell_type": "code",
   "execution_count": null,
   "metadata": {},
   "outputs": [],
   "source": [
    "#Wap to print the digit 6 in (2*N-1) rows using stars (*)\n",
    "n = int(input())\n",
    "star = \"* \"\n",
    "count_upper_space = (n-1)\n",
    "count_lower_space = (n-2)\n",
    "for i in range(1, n+1):\n",
    "    if i == 1 :\n",
    "        print(star*n)\n",
    "    elif i == n :\n",
    "        print(star*n)\n",
    "    else :\n",
    "        print(star + (\"  \"*count_upper_space))\n",
    "for i in range(1, n):\n",
    "    if i == (n-1):\n",
    "        print(star*n)\n",
    "    else :\n",
    "        print(star + (\"  \"*count_lower_space) + star)"
   ]
  },
  {
   "cell_type": "code",
   "execution_count": null,
   "metadata": {},
   "outputs": [],
   "source": [
    "#Wap to print the digit 2 in (2*N-1) rows using star\n",
    "n = int(input())\n",
    "star = \"* \"\n",
    "count_upper_space = (n-1)\n",
    "count_lower_space = (n-1)\n",
    "for i in range(1, n+1):\n",
    "    if i == 1 :\n",
    "        print(star*n)\n",
    "    elif i == n :\n",
    "        print(star*n)\n",
    "    else:\n",
    "        print( (\"  \"*count_upper_space) + star )\n",
    "for i in range(1, n):\n",
    "    if i == (n-1):\n",
    "        print(star*n)\n",
    "    else :\n",
    "        print(star + (\"  \"*count_lower_space))"
   ]
  },
  {
   "cell_type": "code",
   "execution_count": null,
   "metadata": {},
   "outputs": [],
   "source": [
    "#Wap to print a Square of N rows using letters\n",
    "n = int(input())\n",
    "string = \"ABCDEFGHIJKLMNOPQRSTUVWXYZ\"\n",
    "\n",
    "for i in range(1, n+1):\n",
    "    new_str = \"\"\n",
    "    for j in range(0, n):\n",
    "        new_str = new_str + string[j] + \" \"\n",
    "    print(new_str)"
   ]
  },
  {
   "cell_type": "code",
   "execution_count": null,
   "metadata": {},
   "outputs": [],
   "source": [
    "#Wap to print an Inverted Right angled triangle of N rows\n",
    "n = int(input())\n",
    "string = \"ABCDEFGHIJKLMNOPQRSTUVWXYZ\"\n",
    "count = n\n",
    "for i in range(1, n+1):\n",
    "    new_str = \"\"\n",
    "    for j in range(0, count):\n",
    "        new_str = new_str + string[j] + \" \"\n",
    "    print(new_str)\n",
    "    count -= 1 "
   ]
  },
  {
   "cell_type": "code",
   "execution_count": null,
   "metadata": {},
   "outputs": [],
   "source": [
    "#Wap to print the digit 8 of 2*N+1 rows using (*)\n",
    "n = int(input())\n",
    "star = \"* \"\n",
    "count_space = (n-2)\n",
    "for i in range(1, n+2):\n",
    "    if i == 1 :\n",
    "        print(star*n)\n",
    "    elif i == n+1 :\n",
    "        print(star*n)\n",
    "    else :\n",
    "        print(star + (\"  \"*count_space) + star)\n",
    "for i in range(1, n+1):\n",
    "    if i == (n):\n",
    "        print(star*n)\n",
    "    else :\n",
    "        print(star + (\"  \"*count_space) + star)"
   ]
  }
 ],
 "metadata": {
  "language_info": {
   "name": "python"
  },
  "orig_nbformat": 4
 },
 "nbformat": 4,
 "nbformat_minor": 2
}
