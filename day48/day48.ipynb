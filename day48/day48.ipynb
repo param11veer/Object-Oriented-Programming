{
 "cells": [
  {
   "cell_type": "code",
   "execution_count": 1,
   "metadata": {},
   "outputs": [
    {
     "name": "stdout",
     "output_type": "stream",
     "text": [
      "<class 'list'>\n",
      "<class 'str'>\n"
     ]
    }
   ],
   "source": [
    "date = \"25/11/1999\"\n",
    "new_list = date.split(\"/\")\n",
    "new_string = '/'.join(new_list)\n",
    "\n",
    "print(type(new_list))\n",
    "print(type(new_string))"
   ]
  },
  {
   "cell_type": "code",
   "execution_count": 3,
   "metadata": {},
   "outputs": [
    {
     "name": "stdout",
     "output_type": "stream",
     "text": [
      "['apple']\n",
      "['a', '', 'le']\n",
      "elppa\n",
      "elppa\n"
     ]
    }
   ],
   "source": [
    "print(\"apple\".split())\n",
    "print(\"apple\".split(\"p\"))\n",
    "print(\"apple\"[::-1])\n",
    "print(\"apple\"[::-1])"
   ]
  },
  {
   "cell_type": "code",
   "execution_count": 4,
   "metadata": {},
   "outputs": [
    {
     "name": "stdout",
     "output_type": "stream",
     "text": [
      "['1', '2', '1', '2', '1', '2', '1', '2']\n"
     ]
    }
   ],
   "source": [
    "num = \"1 2 \"\n",
    "nums_list = num.split()\n",
    "list_a = nums_list * 4\n",
    "print(list_a)"
   ]
  },
  {
   "cell_type": "code",
   "execution_count": 7,
   "metadata": {},
   "outputs": [
    {
     "name": "stdout",
     "output_type": "stream",
     "text": [
      "['10,,', '', ',,,23']\n"
     ]
    }
   ],
   "source": [
    "numbers = \"10,,--,,,23\"\n",
    "nums_list = numbers.split('-')\n",
    "print(nums_list)"
   ]
  },
  {
   "cell_type": "code",
   "execution_count": 8,
   "metadata": {},
   "outputs": [
    {
     "name": "stdout",
     "output_type": "stream",
     "text": [
      "['yellow', 'Green', 'Red', 'blue']\n"
     ]
    }
   ],
   "source": [
    "colors = \"blue Red Green yellow\"\n",
    "colors_list = colors.split()\n",
    "\n",
    "print(colors_list[::-1])"
   ]
  },
  {
   "cell_type": "code",
   "execution_count": 9,
   "metadata": {},
   "outputs": [
    {
     "name": "stdout",
     "output_type": "stream",
     "text": [
      "Vishal\n"
     ]
    }
   ],
   "source": [
    "name = \"Vishal\"\n",
    "new_list = name.split(\"h\")\n",
    "join_a = \"h\".join(new_list)\n",
    "\n",
    "print(join_a)"
   ]
  },
  {
   "cell_type": "code",
   "execution_count": 10,
   "metadata": {},
   "outputs": [
    {
     "name": "stdout",
     "output_type": "stream",
     "text": [
      "['Learning']\n"
     ]
    }
   ],
   "source": [
    "word = \"Learning\"\n",
    "new_word = word.split()\n",
    "join_a = \"d\".join(new_word)\n",
    "\n",
    "print(new_word)"
   ]
  },
  {
   "cell_type": "code",
   "execution_count": 11,
   "metadata": {},
   "outputs": [
    {
     "name": "stdout",
     "output_type": "stream",
     "text": [
      "['Crow']\n"
     ]
    }
   ],
   "source": [
    "birds = ['Parrot', 'Crow', 'Dove']\n",
    "print(birds[-2:-3:-1])\n"
   ]
  },
  {
   "cell_type": "code",
   "execution_count": 12,
   "metadata": {},
   "outputs": [
    {
     "name": "stdout",
     "output_type": "stream",
     "text": [
      "['A', 'B', 'x', 'A', 'B', 'x']\n",
      "8\n"
     ]
    }
   ],
   "source": [
    "list_x = ['A', 'B', 'x', '1', '3']\n",
    "list_x = list_x * 2\n",
    "word = \"\"\n",
    "digits_sum = 0\n",
    "for char in list_x:\n",
    "    if(ord(char) >= 65):\n",
    "        word += char\n",
    "    elif (char.isdigit()):\n",
    "        digits_sum += int(char)\n",
    "print(list(word))\n",
    "print(digits_sum)"
   ]
  },
  {
   "cell_type": "code",
   "execution_count": 13,
   "metadata": {},
   "outputs": [
    {
     "ename": "TypeError",
     "evalue": "can only concatenate list (not \"str\") to list",
     "output_type": "error",
     "traceback": [
      "\u001b[1;31m---------------------------------------------------------------------------\u001b[0m",
      "\u001b[1;31mTypeError\u001b[0m                                 Traceback (most recent call last)",
      "\u001b[1;32mc:\\d\\11\\75-days-of-code\\day48\\day48.ipynb Cell 10\u001b[0m line \u001b[0;36m3\n\u001b[0;32m      <a href='vscode-notebook-cell:/c%3A/d/11/75-days-of-code/day48/day48.ipynb#X12sZmlsZQ%3D%3D?line=0'>1</a>\u001b[0m numbers \u001b[39m=\u001b[39m \u001b[39m\"\u001b[39m\u001b[39m2.0 3.0 4.0\u001b[39m\u001b[39m\"\u001b[39m\n\u001b[0;32m      <a href='vscode-notebook-cell:/c%3A/d/11/75-days-of-code/day48/day48.ipynb#X12sZmlsZQ%3D%3D?line=1'>2</a>\u001b[0m nums_list \u001b[39m=\u001b[39m numbers\u001b[39m.\u001b[39msplit()\n\u001b[1;32m----> <a href='vscode-notebook-cell:/c%3A/d/11/75-days-of-code/day48/day48.ipynb#X12sZmlsZQ%3D%3D?line=2'>3</a>\u001b[0m new_list \u001b[39m=\u001b[39m nums_list \u001b[39m+\u001b[39;49m \u001b[39m'\u001b[39;49m\u001b[39m5.0\u001b[39;49m\u001b[39m'\u001b[39;49m\n\u001b[0;32m      <a href='vscode-notebook-cell:/c%3A/d/11/75-days-of-code/day48/day48.ipynb#X12sZmlsZQ%3D%3D?line=4'>5</a>\u001b[0m \u001b[39mprint\u001b[39m(new_list)\n",
      "\u001b[1;31mTypeError\u001b[0m: can only concatenate list (not \"str\") to list"
     ]
    }
   ],
   "source": [
    "numbers = \"2.0 3.0 4.0\"\n",
    "nums_list = numbers.split()\n",
    "new_list = nums_list + '5.0'\n",
    "\n",
    "print(new_list)"
   ]
  },
  {
   "cell_type": "code",
   "execution_count": 15,
   "metadata": {},
   "outputs": [
    {
     "name": "stdout",
     "output_type": "stream",
     "text": [
      "RobertHooke\n"
     ]
    }
   ],
   "source": [
    "name1 = \"Robert\"\n",
    "name2 = \"Hooke\"\n",
    "new_word = name1 + name2\n",
    "word_list = new_word.split(\"a\")\n",
    "new_word = \"i\".join(word_list)\n",
    "\n",
    "print(new_word)"
   ]
  },
  {
   "cell_type": "code",
   "execution_count": 17,
   "metadata": {},
   "outputs": [
    {
     "name": "stdout",
     "output_type": "stream",
     "text": [
      "[4, 3, 2]\n"
     ]
    }
   ],
   "source": [
    "numbers = [1, 2, 3, 4, 5]\n",
    "print(numbers[-2:-5:-1])"
   ]
  },
  {
   "cell_type": "code",
   "execution_count": 18,
   "metadata": {},
   "outputs": [
    {
     "name": "stdout",
     "output_type": "stream",
     "text": [
      "['sofaset']\n"
     ]
    }
   ],
   "source": [
    "furniture = \"sofa\"\n",
    "list_a = furniture + \"set\"\n",
    "list_a = list_a.split(\" \")\n",
    "\n",
    "print(list_a)"
   ]
  },
  {
   "cell_type": "code",
   "execution_count": 19,
   "metadata": {},
   "outputs": [
    {
     "name": "stdout",
     "output_type": "stream",
     "text": [
      "[]\n"
     ]
    }
   ],
   "source": [
    "float_nums = [1.0, 2.0, 3.0, 4.0, 5.0, 6.0]\n",
    "list_a = float_nums[-7:-1:-2]\n",
    "\n",
    "print(list_a)"
   ]
  },
  {
   "cell_type": "code",
   "execution_count": 20,
   "metadata": {},
   "outputs": [
    {
     "name": "stdout",
     "output_type": "stream",
     "text": [
      "[]\n"
     ]
    }
   ],
   "source": [
    "numbers = [1, 2, 3, 4, 5]\n",
    "nums_list = numbers[-8:-2:-1]\n",
    "print(nums_list)"
   ]
  },
  {
   "cell_type": "code",
   "execution_count": 21,
   "metadata": {},
   "outputs": [
    {
     "name": "stdout",
     "output_type": "stream",
     "text": [
      "True\n"
     ]
    }
   ],
   "source": [
    "numbers = \"1, 2, 3, 4, 5\"\n",
    "list_a = numbers.split()\n",
    "list_b = numbers.split(\" \")\n",
    "print(list_a == list_b)"
   ]
  },
  {
   "cell_type": "code",
   "execution_count": 22,
   "metadata": {},
   "outputs": [
    {
     "name": "stdout",
     "output_type": "stream",
     "text": [
      "True\n"
     ]
    }
   ],
   "source": [
    "phrase = \"It's a piece of cake\"\n",
    "updated_phrase_1 = phrase[::-1]\n",
    "updated_phrase_2 = phrase[::1]\n",
    "print((phrase == updated_phrase_1) or (updated_phrase_1 != updated_phrase_2))"
   ]
  },
  {
   "cell_type": "code",
   "execution_count": 23,
   "metadata": {},
   "outputs": [
    {
     "name": "stdout",
     "output_type": "stream",
     "text": [
      "1004\n"
     ]
    }
   ],
   "source": [
    "numbers = input()\n",
    "nums_list = numbers.split(',')\n",
    "result = 0\n",
    "\n",
    "for i in nums_list:\n",
    "    result += int(i)\n",
    "print(result)"
   ]
  },
  {
   "cell_type": "code",
   "execution_count": 26,
   "metadata": {},
   "outputs": [
    {
     "name": "stdout",
     "output_type": "stream",
     "text": [
      "['e', 'd', 'c', 'b', 'a']\n"
     ]
    }
   ],
   "source": [
    "alphabets = ['a', 'b', 'c', 'd', 'e']\n",
    "alphabets_lists = alphabets[::-1]\n",
    "print(alphabets_lists)"
   ]
  },
  {
   "cell_type": "code",
   "execution_count": 27,
   "metadata": {},
   "outputs": [
    {
     "name": "stdout",
     "output_type": "stream",
     "text": [
      "erehW s'ereht a ,lliw s'ereht a .yaw \n"
     ]
    }
   ],
   "source": [
    "proverb = input()\n",
    "word_list = proverb.split()\n",
    "new_proverb = \"\"\n",
    "\n",
    "for each_word in word_list :\n",
    "    new_proverb = new_proverb + each_word[::-1] + \" \"\n",
    "print(new_proverb)"
   ]
  },
  {
   "cell_type": "code",
   "execution_count": 28,
   "metadata": {},
   "outputs": [
    {
     "name": "stdout",
     "output_type": "stream",
     "text": [
      "Yu are never t ld t set anther gal r t dream a new dream.\n"
     ]
    }
   ],
   "source": [
    "list_a = \"You are never too old to set another goal or to dream a new dream.\"\n",
    "list_b = list_a.split('o')\n",
    "join_a = \"\".join(list_b)\n",
    "\n",
    "print(join_a)"
   ]
  },
  {
   "cell_type": "code",
   "execution_count": 29,
   "metadata": {},
   "outputs": [
    {
     "name": "stdout",
     "output_type": "stream",
     "text": [
      "Jeys\n"
     ]
    }
   ],
   "source": [
    "noun = \"Jessy\"\n",
    "string_1 = noun.split(\"s\")\n",
    "join_a = \"\".join(string_1) + 's'\n",
    "\n",
    "print(join_a)"
   ]
  }
 ],
 "metadata": {
  "kernelspec": {
   "display_name": "Python 3",
   "language": "python",
   "name": "python3"
  },
  "language_info": {
   "codemirror_mode": {
    "name": "ipython",
    "version": 3
   },
   "file_extension": ".py",
   "mimetype": "text/x-python",
   "name": "python",
   "nbconvert_exporter": "python",
   "pygments_lexer": "ipython3",
   "version": "3.11.5"
  },
  "orig_nbformat": 4
 },
 "nbformat": 4,
 "nbformat_minor": 2
}
