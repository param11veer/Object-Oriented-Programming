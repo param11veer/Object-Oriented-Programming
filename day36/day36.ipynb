{
 "cells": [
  {
   "cell_type": "code",
   "execution_count": null,
   "metadata": {},
   "outputs": [],
   "source": [
    "#WAP to print first and last words of the given sentence\n",
    "s = input()\n",
    "\n",
    "first_word = \"z\"\n",
    "last_word = \"a\"\n",
    "word = \"\"\n",
    "for i in range(len(s)):\n",
    "    char = s[i]\n",
    "    if char != \" \":\n",
    "        word += char\n",
    "    \n",
    "    if char == \" \" or i == len(s)-1:\n",
    "        if word.lower() < first_word.lower():\n",
    "            first_word = word\n",
    "        if word.lower() > last_word.lower():\n",
    "            last_word = word\n",
    "        word = \"\"\n",
    "\n",
    "first_and_last_word = first_word + \" \" + last_word\n",
    "print(first_and_last_word)"
   ]
  },
  {
   "cell_type": "code",
   "execution_count": 1,
   "metadata": {},
   "outputs": [
    {
     "name": "stdout",
     "output_type": "stream",
     "text": [
      "32\n"
     ]
    }
   ],
   "source": [
    "p = \" \"\n",
    "char = ord(p)\n",
    "print(char)"
   ]
  },
  {
   "cell_type": "code",
   "execution_count": null,
   "metadata": {},
   "outputs": [],
   "source": [
    "#WAP to print the valid character, a valid character is when it only\n",
    "#contains uppercase, lowercase and numeric value\n",
    "variable_name = input()\n",
    "\n",
    "is_valid = True \n",
    "\n",
    "for each_character in variable_name:\n",
    "    unicode_value = ord(each_character)\n",
    "    valid_character = (65<=unicode_value and 90>=unicode_value) or (97<=unicode_value and 122>=unicode_value) or (48<=unicode_value and 57>=unicode_value)\n",
    "    \n",
    "    if not valid_character:\n",
    "        is_valid = False\n",
    "        break \n",
    "    \n",
    "print(is_valid)"
   ]
  },
  {
   "cell_type": "code",
   "execution_count": 3,
   "metadata": {},
   "outputs": [
    {
     "name": "stdout",
     "output_type": "stream",
     "text": [
      "65\n"
     ]
    }
   ],
   "source": [
    "variable_name = input()\n",
    "\n",
    "first_character = variable_name[0]\n",
    "unicode_value = ord(first_character)\n",
    "\n",
    "is_upper = (unicode_value >= 65) and (unicode_value <= 90)\n",
    "is_lower = (unicode_value >= 97) and (unicode_value <= 122)\n",
    "is_underscore = (first_character == \"_\")\n",
    "\n",
    "is_valid = is_upper or is_lower or is_underscore\n",
    "\n",
    "print(is_valid)"
   ]
  },
  {
   "cell_type": "code",
   "execution_count": null,
   "metadata": {},
   "outputs": [],
   "source": [
    "#Wap to print characters of s that have Unicode values from m to n\n",
    "s = input()\n",
    "m = int(input())\n",
    "n = int(input())\n",
    "word = \"\"\n",
    "for i in s :\n",
    "    char = ord(i)\n",
    "    if (m<=char and n>=char):\n",
    "        word = word + (chr(char) + \" \")\n",
    "        \n",
    "print(word)"
   ]
  },
  {
   "cell_type": "code",
   "execution_count": null,
   "metadata": {},
   "outputs": [],
   "source": [
    "#WAP to print the unicode value of the first digit in the given string\n",
    "s = (input())\n",
    "for i in s :\n",
    "    char = ord(i)\n",
    "    if (48<=char and 57>=char):\n",
    "        print(char)\n",
    "        break"
   ]
  },
  {
   "cell_type": "code",
   "execution_count": null,
   "metadata": {},
   "outputs": [],
   "source": [
    "#WAP to replace each letter of the string with the next letter that comes in the english\n",
    "#alphabet. \n",
    "s = (input())\n",
    "word = \"\"\n",
    "for i in s :\n",
    "    if i.isupper():\n",
    "        char = ord(i) + 1 \n",
    "        word = word + (chr(char))\n",
    "    elif i.islower():\n",
    "        char = ord(i) + 1 \n",
    "        word = word + chr(char)\n",
    "    elif i == \" \":\n",
    "        word = word + \" \"\n",
    "print(word)"
   ]
  },
  {
   "cell_type": "code",
   "execution_count": 5,
   "metadata": {},
   "outputs": [
    {
     "name": "stdout",
     "output_type": "stream",
     "text": [
      "Fast Bnd Xest\n"
     ]
    }
   ],
   "source": [
    "def replace_first_letter(sentence):\n",
    "    result = []\n",
    "    \n",
    "    for word in sentence.split():\n",
    "        if word[0].isalpha():\n",
    "            first_letter = word[0]\n",
    "            next_letter = chr(ord(first_letter) + 1)\n",
    "            replaced_word = next_letter + word[1:]\n",
    "            result.append(replaced_word)\n",
    "        else:\n",
    "            result.append(word)\n",
    "    \n",
    "    return ' '.join(result)\n",
    "\n",
    "# Input sentence\n",
    "input_sentence = \"East And West\"\n",
    "\n",
    "# Call the function to replace first letters\n",
    "output_sentence = replace_first_letter(input_sentence)\n",
    "\n",
    "# Print the modified sentence\n",
    "print(output_sentence)\n"
   ]
  },
  {
   "cell_type": "code",
   "execution_count": 7,
   "metadata": {},
   "outputs": [
    {
     "name": "stdout",
     "output_type": "stream",
     "text": [
      "OEver Jn b Nillion ZeArs \n"
     ]
    }
   ],
   "source": [
    "#WAP to replace first letter of every sentence by replacing the first letter\n",
    "s = input()\n",
    "result = \"\"\n",
    "for word in s.split():\n",
    "    if word[0].isalpha():\n",
    "        first_letter = word[0]\n",
    "        next_letter = chr(ord(first_letter)+1)\n",
    "        replaced_word = next_letter + word[1:]\n",
    "        result += replaced_word + \" \"\n",
    "print(result)"
   ]
  },
  {
   "cell_type": "code",
   "execution_count": null,
   "metadata": {},
   "outputs": [],
   "source": [
    "#WAP to print the character with the least unicode value and the character with the highest unicode value separated by space\n",
    "s = input()\n",
    "least_u_v = ord('z')\n",
    "highest_u_v = ord('A')\n",
    "\n",
    "for i in s:\n",
    "    char = ord(i)\n",
    "    \n",
    "    if char < least_u_v:\n",
    "        least_u_v = char\n",
    "    \n",
    "    if char > highest_u_v:\n",
    "        highest_u_v = char \n",
    "\n",
    "print(chr(least_u_v) + \" \" + chr(highest_u_v))"
   ]
  }
 ],
 "metadata": {
  "kernelspec": {
   "display_name": "Python 3",
   "language": "python",
   "name": "python3"
  },
  "language_info": {
   "codemirror_mode": {
    "name": "ipython",
    "version": 3
   },
   "file_extension": ".py",
   "mimetype": "text/x-python",
   "name": "python",
   "nbconvert_exporter": "python",
   "pygments_lexer": "ipython3",
   "version": "3.11.5"
  },
  "orig_nbformat": 4
 },
 "nbformat": 4,
 "nbformat_minor": 2
}
