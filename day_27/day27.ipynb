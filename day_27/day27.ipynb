{
 "cells": [
  {
   "cell_type": "code",
   "execution_count": 7,
   "metadata": {},
   "outputs": [
    {
     "name": "stdout",
     "output_type": "stream",
     "text": [
      "20\n"
     ]
    }
   ],
   "source": [
    "#Wap to print an inverted Hollow triangle with n rows and where s is the starting number\n",
    "s = int(input())\n",
    "n = int(input())\n",
    "limit = s \n",
    "left_space = 1\n",
    "middle_space = n-3\n",
    "for i in range(2, n+1):\n",
    "    limit = limit + i \n",
    "for i in range(1, n+1):\n",
    "    if i == 1 :\n",
    "        for i in range(1, n+1):\n",
    "            print(limit, end=\" \")\n",
    "            limit -= 1 \n",
    "        print()\n",
    "    elif i == n :\n",
    "        print(\"  \"*(n-1) + str(s))\n",
    "    else:\n",
    "        left_hollow_spaces = \"  \"*(left_space)\n",
    "        middle_hollow_spaces = \"  \"*(middle_space)\n",
    "        count = limit-(middle_space+1)\n",
    "        print(left_hollow_spaces + (str(limit)+\" \") + middle_hollow_spaces + (str(count)+\" \"))\n",
    "        left_space += 1 \n",
    "        limit = count - 1 \n",
    "        middle_space -= 1 \n"
   ]
  },
  {
   "cell_type": "code",
   "execution_count": 9,
   "metadata": {},
   "outputs": [
    {
     "name": "stdout",
     "output_type": "stream",
     "text": [
      "2\n"
     ]
    }
   ],
   "source": [
    "#Wap to print a hollow diamond of n rows where numbers start from 1 to n\n",
    "n = int(input())\n",
    "left_space = (n-2)\n",
    "middle_space = 0 \n",
    "count = 1 \n",
    "for i in range(1, n+1):\n",
    "    if i == 1 :\n",
    "        print(\" \"*(n-1) +  (str(i)+\" \"))\n",
    "        # print()\n",
    "    elif i == n :\n",
    "        print(\"1 \" + (\" \"*(middle_space)) + str(i) )\n",
    "    else :\n",
    "        left_hollow_space = \" \"*left_space\n",
    "        middle_hollow_space = \" \"*middle_space\n",
    "        count = count + 1\n",
    "        print(left_hollow_space + (str(1)+\" \") + middle_hollow_space + (str(count)+\" \"))\n",
    "        left_space -= 1 \n",
    "        middle_space += 2 \n",
    "for i in range(1, n):\n",
    "    if i == n-1 :\n",
    "        print(\" \"*(n-1) +  (str(1)+\" \"))\n",
    "    else :\n",
    "        left_space += 1 \n",
    "        left_hollow_space = \" \"*left_space\n",
    "        middle_space -= 2 \n",
    "        middle_hollow_space = \" \"*middle_space\n",
    "        # count = count - 1 \n",
    "        print(left_hollow_space + \"1 \" + middle_hollow_space + (str(count)+\" \") )\n",
    "        count = count - 1 "
   ]
  },
  {
   "cell_type": "code",
   "execution_count": null,
   "metadata": {},
   "outputs": [],
   "source": []
  }
 ],
 "metadata": {
  "kernelspec": {
   "display_name": "Python 3",
   "language": "python",
   "name": "python3"
  },
  "language_info": {
   "codemirror_mode": {
    "name": "ipython",
    "version": 3
   },
   "file_extension": ".py",
   "mimetype": "text/x-python",
   "name": "python",
   "nbconvert_exporter": "python",
   "pygments_lexer": "ipython3",
   "version": "3.11.4"
  },
  "orig_nbformat": 4
 },
 "nbformat": 4,
 "nbformat_minor": 2
}
