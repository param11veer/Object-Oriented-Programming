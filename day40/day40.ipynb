{
 "cells": [
  {
   "cell_type": "code",
   "execution_count": 1,
   "metadata": {},
   "outputs": [
    {
     "name": "stdout",
     "output_type": "stream",
     "text": [
      "['I', 'A']\n"
     ]
    }
   ],
   "source": [
    "country = [\"I\", \"N\", \"D\", \"I\", \"A\"]\n",
    "characters = country[3:5]\n",
    "print(characters)"
   ]
  },
  {
   "cell_type": "code",
   "execution_count": 2,
   "metadata": {},
   "outputs": [
    {
     "name": "stdout",
     "output_type": "stream",
     "text": [
      "[6]\n"
     ]
    }
   ],
   "source": [
    "digits = []\n",
    "for num in range(2, 7):\n",
    "    digits = [num]\n",
    "\n",
    "print(digits)"
   ]
  },
  {
   "cell_type": "code",
   "execution_count": 3,
   "metadata": {},
   "outputs": [
    {
     "name": "stdout",
     "output_type": "stream",
     "text": [
      "<class 'int'>\n"
     ]
    }
   ],
   "source": [
    "even_numbers = [2, 4, 6, 8, 10]\n",
    "number = even_numbers[4]\n",
    "print(type(number))"
   ]
  },
  {
   "cell_type": "code",
   "execution_count": 4,
   "metadata": {},
   "outputs": [
    {
     "name": "stdout",
     "output_type": "stream",
     "text": [
      "a\n"
     ]
    }
   ],
   "source": [
    "fruits = ['Apple', 'Mango', 'Strawberry', 'Orange']\n",
    "print(fruits[1][1])"
   ]
  },
  {
   "cell_type": "code",
   "execution_count": 5,
   "metadata": {},
   "outputs": [
    {
     "name": "stdout",
     "output_type": "stream",
     "text": [
      "[3, 5, 7]\n"
     ]
    }
   ],
   "source": [
    "odd_numbers = [1,3,5,7,9]\n",
    "print(odd_numbers[1:4:1]) "
   ]
  },
  {
   "cell_type": "code",
   "execution_count": 6,
   "metadata": {},
   "outputs": [
    {
     "name": "stdout",
     "output_type": "stream",
     "text": [
      "3\n"
     ]
    }
   ],
   "source": [
    "flavors = [\"Chocolate\", \"Vanilla\", \"Butterscotch\"]\n",
    "print(len(flavors))"
   ]
  },
  {
   "cell_type": "code",
   "execution_count": 7,
   "metadata": {},
   "outputs": [
    {
     "name": "stdout",
     "output_type": "stream",
     "text": [
      "['H', 'e', 'l', 'l', 'o']\n"
     ]
    }
   ],
   "source": [
    "list_a = list(\"Hello\")\n",
    "print(list_a)"
   ]
  },
  {
   "cell_type": "code",
   "execution_count": 9,
   "metadata": {},
   "outputs": [
    {
     "name": "stdout",
     "output_type": "stream",
     "text": [
      "<class 'list'>\n"
     ]
    }
   ],
   "source": [
    "numbers = [2, 3.14,4,[5.67,1],6]\n",
    "items = numbers[3]\n",
    "print(type(items))"
   ]
  },
  {
   "cell_type": "code",
   "execution_count": 10,
   "metadata": {},
   "outputs": [
    {
     "name": "stdout",
     "output_type": "stream",
     "text": [
      "[121, 343, 'cap', 3.14, 'T', 'a', 'p']\n"
     ]
    }
   ],
   "source": [
    "list_a = [121, 343, \"cap\", 3.14]\n",
    "list_a += list(\"Tap\")\n",
    "print(list_a)"
   ]
  },
  {
   "cell_type": "code",
   "execution_count": 11,
   "metadata": {},
   "outputs": [
    {
     "name": "stdout",
     "output_type": "stream",
     "text": [
      "['Mango', 'Watermelon', 'Kiwi', 'Potato', 'Spinach']\n"
     ]
    }
   ],
   "source": [
    "fruits = [\"Mango\", \"Watermelon\", \"Kiwi\"]\n",
    "vegetables = [\"Potato\", \"Spinach\"]\n",
    "result = fruits + vegetables\n",
    "print(result)"
   ]
  },
  {
   "cell_type": "code",
   "execution_count": 12,
   "metadata": {},
   "outputs": [
    {
     "name": "stdout",
     "output_type": "stream",
     "text": [
      "['M', 'A']\n"
     ]
    }
   ],
   "source": [
    "characters = [\"M\", \"A\"]\n",
    "print(characters*1)"
   ]
  },
  {
   "cell_type": "code",
   "execution_count": 13,
   "metadata": {},
   "outputs": [
    {
     "name": "stdout",
     "output_type": "stream",
     "text": [
      "[['Newton', 'Einstein', 'Edison'], [2, 4, 6]]\n"
     ]
    }
   ],
   "source": [
    "scientists = [\"Newton\", \"Einstein\", \"Edison\"]\n",
    "numbers = [2,4,6]\n",
    "result_list = [scientists, numbers]\n",
    "print(result_list)"
   ]
  },
  {
   "cell_type": "code",
   "execution_count": 16,
   "metadata": {},
   "outputs": [
    {
     "name": "stdout",
     "output_type": "stream",
     "text": [
      "SEVENTY\n"
     ]
    }
   ],
   "source": [
    "number = [\"S\", \"E\", \"V\", \"E\", \"N\", \"T\", \"Y\"]\n",
    "word = \"\"\n",
    "\n",
    "for item in number:\n",
    "    word += item\n",
    "    \n",
    "print(word)"
   ]
  },
  {
   "cell_type": "code",
   "execution_count": 17,
   "metadata": {},
   "outputs": [
    {
     "name": "stdout",
     "output_type": "stream",
     "text": [
      "[[1], [100]]\n"
     ]
    }
   ],
   "source": [
    "list_a = [[1], [5], [\"a\", \"b\"], [100]]\n",
    "print(list_a[0:4:3])"
   ]
  }
 ],
 "metadata": {
  "kernelspec": {
   "display_name": "Python 3",
   "language": "python",
   "name": "python3"
  },
  "language_info": {
   "codemirror_mode": {
    "name": "ipython",
    "version": 3
   },
   "file_extension": ".py",
   "mimetype": "text/x-python",
   "name": "python",
   "nbconvert_exporter": "python",
   "pygments_lexer": "ipython3",
   "version": "3.11.5"
  },
  "orig_nbformat": 4
 },
 "nbformat": 4,
 "nbformat_minor": 2
}
