{
 "cells": [
  {
   "cell_type": "code",
   "execution_count": null,
   "metadata": {},
   "outputs": [],
   "source": [
    "words = input().split()\n",
    "\n",
    "for each_word in words:\n",
    "    each_word = each_word.lower()\n",
    "\n",
    "    first_letter = each_word[0]\n",
    "    last_letter = each_word[-1]\n",
    "\n",
    "    if first_letter == last_letter:\n",
    "        print(\"True\")\n",
    "    else:\n",
    "        print(\"False\")"
   ]
  },
  {
   "cell_type": "code",
   "execution_count": null,
   "metadata": {},
   "outputs": [],
   "source": [
    "sentence = input()\n",
    "\n",
    "reversed_sentence = sentence[::-1]\n",
    "\n",
    "print(reversed_sentence)"
   ]
  },
  {
   "cell_type": "code",
   "execution_count": 2,
   "metadata": {},
   "outputs": [
    {
     "name": "stdout",
     "output_type": "stream",
     "text": [
      "['hello']\n"
     ]
    }
   ],
   "source": [
    "sentence = input()\n",
    "words_list = sentence.split()\n",
    "\n",
    "reverse_words_list = words_list[::-1]\n",
    "print(reverse_words_list)"
   ]
  },
  {
   "cell_type": "code",
   "execution_count": null,
   "metadata": {},
   "outputs": [],
   "source": [
    "sentence = input()\n",
    "words_list = sentence.split()\n",
    "\n",
    "modified_sentence = []\n",
    "for word in words_list:\n",
    "    modified_sentence += [word[::-1]]\n",
    "\n",
    "reversed_letters_sentence = \" \".join(modified_sentence)\n",
    "print(reversed_letters_sentence)"
   ]
  },
  {
   "cell_type": "code",
   "execution_count": 1,
   "metadata": {},
   "outputs": [
    {
     "name": "stdout",
     "output_type": "stream",
     "text": [
      "['hello', 'hello', 'hello']\n"
     ]
    }
   ],
   "source": [
    "words = input().split()\n",
    "\n",
    "words_length = len(words)\n",
    "\n",
    "if words_length % 2 == 0:\n",
    "    half_list_length = words_length // 2\n",
    "else:\n",
    "    half_list_length = (words_length // 2) + 1\n",
    "\n",
    "new_list = words[:half_list_length]\n",
    "\n",
    "print(new_list)"
   ]
  },
  {
   "cell_type": "code",
   "execution_count": null,
   "metadata": {},
   "outputs": [],
   "source": [
    "numbers = input().split()\n",
    "\n",
    "length = len(numbers)\n",
    "\n",
    "for each_num_index in range(length):\n",
    "    numbers[each_num_index]=int(numbers[each_num_index])\n",
    "\n",
    "if length % 2 == 0:\n",
    "    half_list_length = length // 2\n",
    "else:\n",
    "    half_list_length = (length // 2) + 1\n",
    "\n",
    "first_half_list = numbers[:half_list_length]\n",
    "\n",
    "print(first_half_list)"
   ]
  },
  {
   "cell_type": "code",
   "execution_count": 3,
   "metadata": {},
   "outputs": [
    {
     "name": "stdout",
     "output_type": "stream",
     "text": [
      "['hello', 'hello', 'hello']\n"
     ]
    }
   ],
   "source": [
    "s = input().split()\n",
    "n = int(input())\n",
    "length = len(s)\n",
    "word_lenth = length - n\n",
    "new_list = s[word_lenth:]\n",
    "print(new_list[::-1])"
   ]
  },
  {
   "cell_type": "code",
   "execution_count": null,
   "metadata": {},
   "outputs": [],
   "source": [
    "list_a = input().split(\",\")\n",
    "list_b = input().split(\",\")\n",
    "\n",
    "len_of_list_a = len(list_a)\n",
    "n = len_of_list_a - 1\n",
    "\n",
    "for i in range(len_of_list_a):\n",
    "    num_1 = list_a[i]\n",
    "    num_2 = list_b[n]\n",
    "    result = str(num_1) + \" \" + str(num_2)\n",
    "    print(result)\n",
    "    n -= 1"
   ]
  }
 ],
 "metadata": {
  "kernelspec": {
   "display_name": "Python 3",
   "language": "python",
   "name": "python3"
  },
  "language_info": {
   "codemirror_mode": {
    "name": "ipython",
    "version": 3
   },
   "file_extension": ".py",
   "mimetype": "text/x-python",
   "name": "python",
   "nbconvert_exporter": "python",
   "pygments_lexer": "ipython3",
   "version": "3.11.5"
  },
  "orig_nbformat": 4
 },
 "nbformat": 4,
 "nbformat_minor": 2
}
