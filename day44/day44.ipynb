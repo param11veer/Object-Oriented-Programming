{
 "cells": [
  {
   "cell_type": "code",
   "execution_count": 1,
   "metadata": {},
   "outputs": [
    {
     "name": "stdout",
     "output_type": "stream",
     "text": [
      "['Dog', 'Cat', 'Goat']\n",
      "[['Dog', 'Cat', 'Goat'], 'Tiger']\n"
     ]
    }
   ],
   "source": [
    "animals_1 = [[\"Dog\", \"Cat\"], \"Tiger\"]\n",
    "animals_2 = animals_1[0]\n",
    "animals_2 += [\"Goat\"]\n",
    "\n",
    "nanimals_2 = animals_2 + [\"Sheep\"]\n",
    "\n",
    "print(animals_2)\n",
    "print(animals_1)"
   ]
  },
  {
   "cell_type": "code",
   "execution_count": 2,
   "metadata": {},
   "outputs": [
    {
     "name": "stdout",
     "output_type": "stream",
     "text": [
      "True\n"
     ]
    }
   ],
   "source": [
    "food_items_1 = [\"Sandwich\", \"burger\", \"Fries\"]\n",
    "food_items_2 = [\"Sandwich\", \"Burger\", \"Fries\"]\n",
    "\n",
    "is_different = (id(food_items_2) != id(food_items_1))\n",
    "print(is_different)"
   ]
  },
  {
   "cell_type": "code",
   "execution_count": 5,
   "metadata": {},
   "outputs": [
    {
     "name": "stdout",
     "output_type": "stream",
     "text": [
      "['Jaguar', 'Ambassador']\n",
      "['Ferrari', ['Jaguar']]\n"
     ]
    }
   ],
   "source": [
    "cars_1 = [\"Jaguar\"]\n",
    "cars_2 = [\"Ferrari\", cars_1]\n",
    "\n",
    "cars_1 = cars_1+[\"Ambassador\"]\n",
    "print(cars_1)\n",
    "print(cars_2)"
   ]
  },
  {
   "cell_type": "code",
   "execution_count": 6,
   "metadata": {},
   "outputs": [
    {
     "name": "stdout",
     "output_type": "stream",
     "text": [
      "['bike', 'car']\n",
      "['bike', 'car']\n"
     ]
    }
   ],
   "source": [
    "word = \"car\"\n",
    "transport = [\"bike\", word]\n",
    "print(transport)\n",
    "\n",
    "word = word.replace(\"c\",\"k\")\n",
    "print(transport)"
   ]
  },
  {
   "cell_type": "code",
   "execution_count": 7,
   "metadata": {},
   "outputs": [
    {
     "name": "stdout",
     "output_type": "stream",
     "text": [
      "140725722538792\n",
      "140725722538856\n",
      "140725722538952\n",
      "140725722539080\n"
     ]
    }
   ],
   "source": [
    "total = 0\n",
    "\n",
    "for i in range(1, 5):\n",
    "    total += i\n",
    "    print(id(total))"
   ]
  },
  {
   "cell_type": "code",
   "execution_count": 8,
   "metadata": {},
   "outputs": [
    {
     "name": "stdout",
     "output_type": "stream",
     "text": [
      "False\n",
      "[1, 2, 3]\n"
     ]
    }
   ],
   "source": [
    "a = 3 \n",
    "list_a = [1, 2]\n",
    "\n",
    "list_b = list_a + [a]\n",
    "print(id(list_a) == id(list_b))\n",
    "\n",
    "list_a += [4]\n",
    "print(list_b)"
   ]
  },
  {
   "cell_type": "code",
   "execution_count": 10,
   "metadata": {},
   "outputs": [
    {
     "name": "stdout",
     "output_type": "stream",
     "text": [
      "Continents list 1 : ['Asia', 'Europe', 'Africa']\n",
      "Continents list 2 : ['Asia', 'Europe', 'Africa']\n"
     ]
    }
   ],
   "source": [
    "continents_1 = [\"Asia\", \"Europe\"]\n",
    "continents_2 = continents_1\n",
    "continents_1 += [\"Africa\"]\n",
    "\n",
    "print(\"Continents list 1 : \" + str(continents_1))\n",
    "print(\"Continents list 2 : \" + str(continents_2))"
   ]
  },
  {
   "cell_type": "code",
   "execution_count": 11,
   "metadata": {},
   "outputs": [
    {
     "name": "stdout",
     "output_type": "stream",
     "text": [
      "[['Autumn'], 'Summer', 4]\n"
     ]
    }
   ],
   "source": [
    "number = 4\n",
    "seasons = [\"Rainy\", \"Summer\", number]\n",
    "\n",
    "number += 2 \n",
    "seasons[0] = [\"Autumn\"]\n",
    "print(seasons)"
   ]
  },
  {
   "cell_type": "code",
   "execution_count": 12,
   "metadata": {},
   "outputs": [
    {
     "name": "stdout",
     "output_type": "stream",
     "text": [
      "[0, [3, 2, 3, 4]]\n"
     ]
    }
   ],
   "source": [
    "a = [1, 2, 3]\n",
    "numbers = [0, a]\n",
    "\n",
    "a += [4]\n",
    "x = numbers[1]\n",
    "x[0] = 3 \n",
    "print(numbers)"
   ]
  },
  {
   "cell_type": "code",
   "execution_count": 13,
   "metadata": {},
   "outputs": [
    {
     "name": "stdout",
     "output_type": "stream",
     "text": [
      "['India', 'italy', 'Canada', 'Iceland']\n",
      "['Australia', ['India', 'italy', 'Canada', 'Iceland']]\n"
     ]
    }
   ],
   "source": [
    "list_a = [\"India\", \"italy\", \"Canada\"]\n",
    "list_b = [\"Australia\", list_a]\n",
    "\n",
    "list_a += [\"Iceland\"]\n",
    "\n",
    "print(list_a)\n",
    "print(list_b)"
   ]
  },
  {
   "cell_type": "code",
   "execution_count": 14,
   "metadata": {},
   "outputs": [
    {
     "name": "stdout",
     "output_type": "stream",
     "text": [
      "[5, 7, 11, 13]\n",
      "[17, 5, 7, 11, 13]\n",
      "False\n"
     ]
    }
   ],
   "source": [
    "a = 13\n",
    "b = 17\n",
    "list_a = [5, 7, 11]\n",
    "list_b = list_a \n",
    "\n",
    "list_a = list_a + [a]\n",
    "print(list_a)\n",
    "\n",
    "list_a = [b] + list_a \n",
    "print(list_a)\n",
    "print(id(list_a) == id(list_b))"
   ]
  },
  {
   "cell_type": "code",
   "execution_count": 15,
   "metadata": {},
   "outputs": [
    {
     "name": "stdout",
     "output_type": "stream",
     "text": [
      "[4, 5, 100, 44]\n",
      "[99, 11, 22, [4, 5, 100]]\n",
      "False\n"
     ]
    }
   ],
   "source": [
    "list_1 = [99, 11, 22, [4,5]]\n",
    "list_2 = list_1[3]\n",
    "list_2 += [100]\n",
    "\n",
    "list_2 = list_2 + [44]\n",
    "\n",
    "print(list_2)\n",
    "print(list_1)\n",
    "print(id(list_1[1]) == id(list_2))"
   ]
  },
  {
   "cell_type": "code",
   "execution_count": 16,
   "metadata": {},
   "outputs": [
    {
     "name": "stdout",
     "output_type": "stream",
     "text": [
      "[['Charminar', 'Taj Mahal']]\n",
      "['Amritsar', ['Charminar', 'Taj Mahal']]\n"
     ]
    }
   ],
   "source": [
    "tourist_places_1 = [\"Charminar\", \"Golconda Fort\"]\n",
    "tourist_places_2 = [tourist_places_1]\n",
    "tourists_places_3 = [\"Amritsar\"] + [tourist_places_1]\n",
    "\n",
    "tourist_places_1[1] = \"Taj Mahal\"\n",
    "\n",
    "print(tourist_places_2)\n",
    "print(tourists_places_3)"
   ]
  }
 ],
 "metadata": {
  "kernelspec": {
   "display_name": "Python 3",
   "language": "python",
   "name": "python3"
  },
  "language_info": {
   "codemirror_mode": {
    "name": "ipython",
    "version": 3
   },
   "file_extension": ".py",
   "mimetype": "text/x-python",
   "name": "python",
   "nbconvert_exporter": "python",
   "pygments_lexer": "ipython3",
   "version": "3.11.5"
  },
  "orig_nbformat": 4
 },
 "nbformat": 4,
 "nbformat_minor": 2
}
