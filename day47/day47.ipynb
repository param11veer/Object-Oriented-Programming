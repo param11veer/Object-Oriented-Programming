{
 "cells": [
  {
   "cell_type": "markdown",
   "metadata": {},
   "source": [
    "Splitting a String\n",
    "The `split` method is used to split the string into an array of substrings. The first argument passed in should be the character or characters\n",
    "....str_var.split(separator)"
   ]
  },
  {
   "cell_type": "code",
   "execution_count": 1,
   "metadata": {},
   "outputs": [
    {
     "name": "stdout",
     "output_type": "stream",
     "text": [
      "['1', '2', '3', '4']\n"
     ]
    }
   ],
   "source": [
    "nums = \"1 2 3 4\"\n",
    "num_list = nums.split()\n",
    "print(num_list)"
   ]
  },
  {
   "cell_type": "markdown",
   "metadata": {},
   "source": [
    "\\n and \\t are also considered as white-spaces "
   ]
  },
  {
   "cell_type": "code",
   "execution_count": 2,
   "metadata": {},
   "outputs": [
    {
     "name": "stdout",
     "output_type": "stream",
     "text": [
      "['1', '2', '3', '4']\n"
     ]
    }
   ],
   "source": [
    "nums = \"1\\n2   3\\t4\"\n",
    "num_list = nums.split()\n",
    "print(num_list)"
   ]
  },
  {
   "cell_type": "code",
   "execution_count": 3,
   "metadata": {},
   "outputs": [
    {
     "name": "stdout",
     "output_type": "stream",
     "text": [
      "['1', ' 2', ' 3', ' 4']\n"
     ]
    }
   ],
   "source": [
    "nums = \"1, 2, 3, 4\"\n",
    "num_list = nums.split(',')\n",
    "print(num_list)"
   ]
  },
  {
   "cell_type": "markdown",
   "metadata": {},
   "source": [
    "if you give no value after a separator like , , it will consider it am empty string"
   ]
  },
  {
   "cell_type": "code",
   "execution_count": 4,
   "metadata": {},
   "outputs": [
    {
     "name": "stdout",
     "output_type": "stream",
     "text": [
      "['1', ' 2', ' ', '', ' 3', ' 4']\n"
     ]
    }
   ],
   "source": [
    "nums = \"1, 2, ,, 3, 4\"\n",
    "num_list = nums.split(',')\n",
    "print(num_list)"
   ]
  },
  {
   "cell_type": "code",
   "execution_count": 6,
   "metadata": {},
   "outputs": [
    {
     "name": "stdout",
     "output_type": "stream",
     "text": [
      "['1', '', '2', '', '3', '', '4']\n"
     ]
    }
   ],
   "source": [
    "nums = \"1  2  3  4\"\n",
    "num_list = nums.split(\" \")\n",
    "print(num_list)"
   ]
  },
  {
   "cell_type": "code",
   "execution_count": 7,
   "metadata": {},
   "outputs": [
    {
     "name": "stdout",
     "output_type": "stream",
     "text": [
      "['Python is ', ' progr', 'mming l', 'ngu', 'ge']\n"
     ]
    }
   ],
   "source": [
    "string_a = \"Python is a programming language\"\n",
    "list_a = string_a.split('a')\n",
    "print(list_a)"
   ]
  },
  {
   "cell_type": "code",
   "execution_count": 8,
   "metadata": {},
   "outputs": [
    {
     "name": "stdout",
     "output_type": "stream",
     "text": [
      "['', '-by-', ' execution of code']\n"
     ]
    }
   ],
   "source": [
    "string_a = \"step-by-step execution of code\"\n",
    "list_a = string_a.split('step')\n",
    "print(list_a)"
   ]
  },
  {
   "cell_type": "markdown",
   "metadata": {},
   "source": [
    "JOINING STRINGS\n",
    ".....str.join(sequence)\n",
    "\n",
    "sequence should only be a string\n",
    "This takes all items in the given string and joins them"
   ]
  },
  {
   "cell_type": "code",
   "execution_count": 11,
   "metadata": {},
   "outputs": [
    {
     "name": "stdout",
     "output_type": "stream",
     "text": [
      "Python is a programming language\n"
     ]
    }
   ],
   "source": [
    "list_a = ['Python is ', ' progr', 'mming l', 'ngu', 'ge']\n",
    "string_a = \"a\".join(list_a)\n",
    "print(string_a)"
   ]
  },
  {
   "cell_type": "code",
   "execution_count": 12,
   "metadata": {},
   "outputs": [
    {
     "ename": "TypeError",
     "evalue": "sequence item 0: expected str instance, int found",
     "output_type": "error",
     "traceback": [
      "\u001b[1;31m---------------------------------------------------------------------------\u001b[0m",
      "\u001b[1;31mTypeError\u001b[0m                                 Traceback (most recent call last)",
      "\u001b[1;32mc:\\d\\11\\75-days-of-code\\day47\\day47.ipynb Cell 13\u001b[0m line \u001b[0;36m2\n\u001b[0;32m      <a href='vscode-notebook-cell:/c%3A/d/11/75-days-of-code/day47/day47.ipynb#X15sZmlsZQ%3D%3D?line=0'>1</a>\u001b[0m list_a \u001b[39m=\u001b[39m \u001b[39mlist\u001b[39m(\u001b[39mrange\u001b[39m(\u001b[39m4\u001b[39m))\n\u001b[1;32m----> <a href='vscode-notebook-cell:/c%3A/d/11/75-days-of-code/day47/day47.ipynb#X15sZmlsZQ%3D%3D?line=1'>2</a>\u001b[0m string_a \u001b[39m=\u001b[39m \u001b[39m\"\u001b[39;49m\u001b[39m,\u001b[39;49m\u001b[39m\"\u001b[39;49m\u001b[39m.\u001b[39;49mjoin(list_a)\n\u001b[0;32m      <a href='vscode-notebook-cell:/c%3A/d/11/75-days-of-code/day47/day47.ipynb#X15sZmlsZQ%3D%3D?line=2'>3</a>\u001b[0m \u001b[39mprint\u001b[39m(string_a)\n",
      "\u001b[1;31mTypeError\u001b[0m: sequence item 0: expected str instance, int found"
     ]
    }
   ],
   "source": [
    "list_a = list(range(4))\n",
    "string_a = \",\".join(list_a)\n",
    "print(string_a) "
   ]
  },
  {
   "cell_type": "code",
   "execution_count": 15,
   "metadata": {},
   "outputs": [
    {
     "name": "stdout",
     "output_type": "stream",
     "text": [
      "1 6\n",
      "2 5\n",
      "3 4\n"
     ]
    }
   ],
   "source": [
    "list_a = input().split(\",\")\n",
    "list_b = input().split(\",\")\n",
    "len_of_lits_a = len(list_a)\n",
    "n = len_of_lits_a - 1\n",
    "for i in range(len_of_lits_a):\n",
    "    num_1 = list_a[i]\n",
    "    num_2 = list_b[n]\n",
    "    result = str(num_1) + \" \" + str(num_2)\n",
    "    print(result)\n",
    "    n-=1"
   ]
  },
  {
   "cell_type": "code",
   "execution_count": null,
   "metadata": {},
   "outputs": [],
   "source": [
    "string_1 = \"Program\"\n",
    "string_2 = string_1[6:0:-2]\n",
    "print(string_2)"
   ]
  },
  {
   "cell_type": "code",
   "execution_count": null,
   "metadata": {},
   "outputs": [],
   "source": [
    "string_1 = \"Program\"\n",
    "string_2 = string_1[::-1]\n",
    "print(string_2)"
   ]
  },
  {
   "cell_type": "code",
   "execution_count": 16,
   "metadata": {},
   "outputs": [
    {
     "name": "stdout",
     "output_type": "stream",
     "text": [
      "['1', '2', '3', '4']\n"
     ]
    }
   ],
   "source": [
    "nums = \"1 2 3 4\"\n",
    "num_list = nums.split()\n",
    "print(num_list)"
   ]
  },
  {
   "cell_type": "code",
   "execution_count": 17,
   "metadata": {},
   "outputs": [
    {
     "name": "stdout",
     "output_type": "stream",
     "text": [
      "True\n"
     ]
    }
   ],
   "source": [
    "word = \"Leader\"\n",
    "modified_word = word[1:5:-2]\n",
    "\n",
    "list_a = list(word)\n",
    "list_a = list_a[1:5:-2]\n",
    "list_a = \"\".join(list_a)\n",
    "\n",
    "is_same = modified_word == list_a\n",
    "print(is_same)"
   ]
  },
  {
   "cell_type": "code",
   "execution_count": 22,
   "metadata": {},
   "outputs": [
    {
     "name": "stdout",
     "output_type": "stream",
     "text": [
      "['L', 'e', 'a', 'd', 'e', 'r']\n",
      "[]\n",
      "\n",
      "True\n"
     ]
    }
   ],
   "source": [
    "word = \"Leader\"\n",
    "modified_word = word[1:5:-2]\n",
    "\n",
    "list_a = list(word)\n",
    "print(list_a)\n",
    "list_a = list_a[1:5:-2]\n",
    "print(list_a)\n",
    "list_a = \"\".join(list_a)\n",
    "print(list_a)\n",
    "\n",
    "is_same = modified_word == list_a\n",
    "print(is_same)"
   ]
  },
  {
   "cell_type": "code",
   "execution_count": 20,
   "metadata": {},
   "outputs": [
    {
     "name": "stdout",
     "output_type": "stream",
     "text": [
      "['T', 'e', 'n', 'n', 'i', 's']\n",
      "['Tennis']\n",
      "False\n"
     ]
    }
   ],
   "source": [
    "sport = \"Tennis\"\n",
    "list_a = list(sport)\n",
    "print(list_a)\n",
    "list_b = sport.split()\n",
    "print(list_b)\n",
    "is_same = list_a == list_b\n",
    "print(is_same)"
   ]
  },
  {
   "cell_type": "code",
   "execution_count": 24,
   "metadata": {},
   "outputs": [
    {
     "name": "stdout",
     "output_type": "stream",
     "text": [
      "['3', '12', '2020']\n",
      "3/12/2020\n"
     ]
    }
   ],
   "source": [
    "date = \"3-12-2020\"\n",
    "list_a = date.split(\"-\")\n",
    "print(list_a)\n",
    "list_a = \"/\".join(list_a)\n",
    "print(list_a)"
   ]
  },
  {
   "cell_type": "code",
   "execution_count": 25,
   "metadata": {},
   "outputs": [
    {
     "name": "stdout",
     "output_type": "stream",
     "text": [
      "['1', '2', '3', '4']\n"
     ]
    }
   ],
   "source": [
    "nums = \"1  2 3 4\"\n",
    "num_list = nums.split()\n",
    "print(num_list)"
   ]
  },
  {
   "cell_type": "code",
   "execution_count": 26,
   "metadata": {},
   "outputs": [
    {
     "name": "stdout",
     "output_type": "stream",
     "text": [
      "[5, 4]\n"
     ]
    }
   ],
   "source": [
    "list_a = [1, 2, 3, 4, 5]\n",
    "list_b = list_a[4:2:-1]\n",
    "print(list_b)"
   ]
  },
  {
   "cell_type": "code",
   "execution_count": 27,
   "metadata": {},
   "outputs": [
    {
     "name": "stdout",
     "output_type": "stream",
     "text": [
      "Python is a programming language\n"
     ]
    }
   ],
   "source": [
    "list_a = ['Python is ', ' progr', 'mming l', 'ngu', 'ge']\n",
    "string_a = \"a\".join(list_a)\n",
    "print(string_a)"
   ]
  },
  {
   "cell_type": "code",
   "execution_count": 28,
   "metadata": {},
   "outputs": [
    {
     "name": "stdout",
     "output_type": "stream",
     "text": [
      "['1', '2', '', '3', '4', '']\n"
     ]
    }
   ],
   "source": [
    "nums = \"1,2,,3,4,\"\n",
    "num_list = nums.split(',')\n",
    "print(num_list)"
   ]
  },
  {
   "cell_type": "code",
   "execution_count": 29,
   "metadata": {},
   "outputs": [
    {
     "name": "stdout",
     "output_type": "stream",
     "text": [
      "50\n"
     ]
    }
   ],
   "source": [
    "list_a = [10, 20, 30, 40, 50]\n",
    "item = list_a[-1]\n",
    "print(item)"
   ]
  },
  {
   "cell_type": "code",
   "execution_count": 30,
   "metadata": {},
   "outputs": [
    {
     "name": "stdout",
     "output_type": "stream",
     "text": [
      "['B', 'C', 'D', 'a', 'b']\n"
     ]
    }
   ],
   "source": [
    "list_a = ['A', 'B', 'C', 'D', 'a', 'b', 'c', 'd']\n",
    "list_b = list_a[-7:-2]\n",
    "print(list_b)"
   ]
  },
  {
   "cell_type": "code",
   "execution_count": 31,
   "metadata": {},
   "outputs": [
    {
     "name": "stdout",
     "output_type": "stream",
     "text": [
      "['Python is ', ' progr', 'mming l', 'ngu', 'ge']\n"
     ]
    }
   ],
   "source": [
    "string_a = \"Python is a programming language\"\n",
    "list_a = string_a.split('a')\n",
    "print(list_a)"
   ]
  },
  {
   "cell_type": "code",
   "execution_count": 32,
   "metadata": {},
   "outputs": [
    {
     "name": "stdout",
     "output_type": "stream",
     "text": [
      "nohtyP\n"
     ]
    }
   ],
   "source": [
    "string_1 = \"Python\"\n",
    "string_2 = string_1[::-1]\n",
    "print(string_2)"
   ]
  },
  {
   "cell_type": "code",
   "execution_count": 33,
   "metadata": {},
   "outputs": [
    {
     "name": "stdout",
     "output_type": "stream",
     "text": [
      "[30, 40, 50]\n"
     ]
    }
   ],
   "source": [
    "list_a = [10, 20, 30, 40, 50, 60]\n",
    "list_b = list_a[-4:-1]\n",
    "print(list_b)"
   ]
  },
  {
   "cell_type": "code",
   "execution_count": 36,
   "metadata": {},
   "outputs": [
    {
     "name": "stdout",
     "output_type": "stream",
     "text": [
      "['1', '', '', '2', '', '3', '4', '']\n"
     ]
    }
   ],
   "source": [
    "nums = \"1   2  3 4 \"\n",
    "num_list = nums.split(\" \")\n",
    "print(num_list)"
   ]
  },
  {
   "cell_type": "code",
   "execution_count": 37,
   "metadata": {},
   "outputs": [
    {
     "name": "stdout",
     "output_type": "stream",
     "text": [
      "['1', '2', '3', '4']\n"
     ]
    }
   ],
   "source": [
    "nums = \"1\\n2\\t3 4\"\n",
    "num_list = nums.split()\n",
    "print(num_list)"
   ]
  },
  {
   "cell_type": "code",
   "execution_count": 38,
   "metadata": {},
   "outputs": [
    {
     "name": "stdout",
     "output_type": "stream",
     "text": [
      "m\n"
     ]
    }
   ],
   "source": [
    "string_1 = \"Program\"\n",
    "string_2 = string_1[-1]\n",
    "print(string_2)"
   ]
  },
  {
   "cell_type": "code",
   "execution_count": 39,
   "metadata": {},
   "outputs": [
    {
     "name": "stdout",
     "output_type": "stream",
     "text": [
      "2\n"
     ]
    }
   ],
   "source": [
    "list_a = [2, 'P', 5, 9.2]\n",
    "item = list_a[-4]\n",
    "print(item)"
   ]
  },
  {
   "cell_type": "code",
   "execution_count": 40,
   "metadata": {},
   "outputs": [
    {
     "name": "stdout",
     "output_type": "stream",
     "text": [
      "[5, 4, 3, 2, 1]\n"
     ]
    }
   ],
   "source": [
    "list_a = [1,2,3,4,5]\n",
    "list_b = list_a[::-1]\n",
    "print(list_b)"
   ]
  },
  {
   "cell_type": "code",
   "execution_count": 41,
   "metadata": {},
   "outputs": [
    {
     "name": "stdout",
     "output_type": "stream",
     "text": [
      "['', '-by-', ' execution of code']\n"
     ]
    }
   ],
   "source": [
    "string_a = \"step-by-step execution of code\"\n",
    "list_a = string_a.split('step')\n",
    "print(list_a)"
   ]
  },
  {
   "cell_type": "code",
   "execution_count": 42,
   "metadata": {},
   "outputs": [
    {
     "name": "stdout",
     "output_type": "stream",
     "text": [
      "mro\n"
     ]
    }
   ],
   "source": [
    "string_1 = \"Program\"\n",
    "string_2 = string_1[6:0:-2]\n",
    "print(string_2)"
   ]
  },
  {
   "cell_type": "code",
   "execution_count": 43,
   "metadata": {},
   "outputs": [
    {
     "name": "stdout",
     "output_type": "stream",
     "text": [
      "[]\n"
     ]
    }
   ],
   "source": [
    "list_a = [1, 2, 3, 4, 5]\n",
    "list_b = list_a[2:4:-1]\n",
    "print(list_b)"
   ]
  },
  {
   "cell_type": "code",
   "execution_count": 44,
   "metadata": {},
   "outputs": [
    {
     "name": "stdout",
     "output_type": "stream",
     "text": [
      "[1, 2]\n"
     ]
    }
   ],
   "source": [
    "list_a = [1, 2, 3, 4]\n",
    "list_b = list_a[-5:-2]\n",
    "print(list_b)"
   ]
  }
 ],
 "metadata": {
  "kernelspec": {
   "display_name": "Python 3",
   "language": "python",
   "name": "python3"
  },
  "language_info": {
   "codemirror_mode": {
    "name": "ipython",
    "version": 3
   },
   "file_extension": ".py",
   "mimetype": "text/x-python",
   "name": "python",
   "nbconvert_exporter": "python",
   "pygments_lexer": "ipython3",
   "version": "3.11.5"
  },
  "orig_nbformat": 4
 },
 "nbformat": 4,
 "nbformat_minor": 2
}
