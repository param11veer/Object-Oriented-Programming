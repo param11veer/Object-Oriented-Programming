{
 "cells": [
  {
   "cell_type": "markdown",
   "metadata": {},
   "source": [
    "Creating a list\n",
    "a = 2\n",
    "list_a = [5, \"SIX\", a, 8.2]"
   ]
  },
  {
   "cell_type": "code",
   "execution_count": 1,
   "metadata": {},
   "outputs": [
    {
     "name": "stdout",
     "output_type": "stream",
     "text": [
      "<class 'list'>\n",
      "[5, 'SIX', 2, 8.2]\n"
     ]
    }
   ],
   "source": [
    "a = 2\n",
    "list_a = [5, \"SIX\", a, 8.2 ]\n",
    "print(type(list_a))\n",
    "print(list_a)"
   ]
  },
  {
   "cell_type": "code",
   "execution_count": 2,
   "metadata": {},
   "outputs": [
    {
     "name": "stdout",
     "output_type": "stream",
     "text": [
      "[1, [5, 'SIX', 2, 8.2]]\n"
     ]
    }
   ],
   "source": [
    "#CREATING A LIST OF LIST\n",
    "a = 2\n",
    "list_a = [5, \"SIX\", a, 8.2]\n",
    "list_b = [1, list_a]\n",
    "print(list_b)"
   ]
  },
  {
   "cell_type": "code",
   "execution_count": 1,
   "metadata": {},
   "outputs": [
    {
     "name": "stdout",
     "output_type": "stream",
     "text": [
      "4\n"
     ]
    }
   ],
   "source": [
    "#LENGTH OF LIST\n",
    "a = 2\n",
    "list_a = [5, \"SIX\", a, 8.2]\n",
    "print(len(list_a))"
   ]
  },
  {
   "cell_type": "code",
   "execution_count": 2,
   "metadata": {},
   "outputs": [
    {
     "name": "stdout",
     "output_type": "stream",
     "text": [
      "SIX\n"
     ]
    }
   ],
   "source": [
    "#ACCESSING LIST ELEMENTS\n",
    "a = 2\n",
    "list_a = [5, \"SIX\", a, 8.2]\n",
    "print(list_a[1])"
   ]
  },
  {
   "cell_type": "code",
   "execution_count": 3,
   "metadata": {},
   "outputs": [
    {
     "name": "stdout",
     "output_type": "stream",
     "text": [
      "5\n",
      "SIX\n",
      "2\n",
      "8.2\n"
     ]
    }
   ],
   "source": [
    "#ITERATING OVER A LIST\n",
    "a = 2\n",
    "list_a = [5, \"SIX\", a, 8.2]\n",
    "for items in list_a:\n",
    "    print(items)"
   ]
  },
  {
   "cell_type": "code",
   "execution_count": 4,
   "metadata": {},
   "outputs": [
    {
     "name": "stdout",
     "output_type": "stream",
     "text": [
      "[1, 2, 3, 'a', 'b', 'c']\n"
     ]
    }
   ],
   "source": [
    "#LIST CONCATENATION\n",
    "list_a = [1, 2, 3]\n",
    "list_b = [\"a\", \"b\", \"c\"]\n",
    "list_c = list_a + list_b\n",
    "print(list_c)"
   ]
  },
  {
   "cell_type": "code",
   "execution_count": 5,
   "metadata": {},
   "outputs": [
    {
     "name": "stdout",
     "output_type": "stream",
     "text": [
      "[]\n",
      "[1, 2, 3]\n"
     ]
    }
   ],
   "source": [
    "#ADDING ITEMS TO THE LIST\n",
    "list_a = []\n",
    "print(list_a)\n",
    "for i in range(1, 4):\n",
    "    list_a += [i]\n",
    "print(list_a)"
   ]
  },
  {
   "cell_type": "code",
   "execution_count": 6,
   "metadata": {},
   "outputs": [
    {
     "name": "stdout",
     "output_type": "stream",
     "text": [
      "[1, 2, 1, 2, 1, 2]\n"
     ]
    }
   ],
   "source": [
    "#STRING REPETITION\n",
    "list_a = [1, 2]\n",
    "list_b = list_a*3\n",
    "print(list_b)"
   ]
  },
  {
   "cell_type": "code",
   "execution_count": 7,
   "metadata": {},
   "outputs": [
    {
     "name": "stdout",
     "output_type": "stream",
     "text": [
      "[5, 'SIX']\n"
     ]
    }
   ],
   "source": [
    "#LIST SLICING\n",
    "list_a = [5, \"SIX\", 2, 82]\n",
    "list_b = list_a[:2]\n",
    "print(list_b)"
   ]
  },
  {
   "cell_type": "code",
   "execution_count": 8,
   "metadata": {},
   "outputs": [
    {
     "name": "stdout",
     "output_type": "stream",
     "text": [
      "['r', 'o']\n"
     ]
    }
   ],
   "source": [
    "#LIST EXTENDED SLICING\n",
    "list_a = [\"r\", \"b\", \"g\", \"o\", \"w\"]\n",
    "list_b = list_a[0:5:3]\n",
    "print(list_b)"
   ]
  },
  {
   "cell_type": "code",
   "execution_count": 9,
   "metadata": {},
   "outputs": [
    {
     "name": "stdout",
     "output_type": "stream",
     "text": [
      "['R', 'E', 'D']\n"
     ]
    }
   ],
   "source": [
    "#CONVERTING TO LIST\n",
    "color = \"RED\"\n",
    "list_a = list(color)\n",
    "print(list_a)"
   ]
  },
  {
   "cell_type": "code",
   "execution_count": 10,
   "metadata": {},
   "outputs": [
    {
     "name": "stdout",
     "output_type": "stream",
     "text": [
      "[0, 1, 2, 3]\n"
     ]
    }
   ],
   "source": [
    "color = \"RED\"\n",
    "list_a = list(range(4))\n",
    "print(list_a)"
   ]
  },
  {
   "cell_type": "code",
   "execution_count": 11,
   "metadata": {},
   "outputs": [
    {
     "name": "stdout",
     "output_type": "stream",
     "text": [
      "[1, 2, 3, 5, 4, 6]\n",
      "[1, 2, 3, 4, 5, 6]\n"
     ]
    }
   ],
   "source": [
    "#LISTS MUTABILITY\n",
    "list_a = [1,2,3,5,4,6]\n",
    "print(list_a)\n",
    "list_a[3] = 4\n",
    "list_a[4] = 5\n",
    "print(list_a)"
   ]
  },
  {
   "cell_type": "code",
   "execution_count": 12,
   "metadata": {},
   "outputs": [
    {
     "ename": "TypeError",
     "evalue": "'str' object does not support item assignment",
     "output_type": "error",
     "traceback": [
      "\u001b[1;31m---------------------------------------------------------------------------\u001b[0m",
      "\u001b[1;31mTypeError\u001b[0m                                 Traceback (most recent call last)",
      "\u001b[1;32mc:\\d\\11\\75-days-of-code\\day39\\day39.ipynb Cell 15\u001b[0m line \u001b[0;36m3\n\u001b[0;32m      <a href='vscode-notebook-cell:/c%3A/d/11/75-days-of-code/day39/day39.ipynb#X20sZmlsZQ%3D%3D?line=0'>1</a>\u001b[0m \u001b[39m#STRING MUTABILITY\u001b[39;00m\n\u001b[0;32m      <a href='vscode-notebook-cell:/c%3A/d/11/75-days-of-code/day39/day39.ipynb#X20sZmlsZQ%3D%3D?line=1'>2</a>\u001b[0m message \u001b[39m=\u001b[39m \u001b[39m\"\u001b[39m\u001b[39msee you soon\u001b[39m\u001b[39m\"\u001b[39m\n\u001b[1;32m----> <a href='vscode-notebook-cell:/c%3A/d/11/75-days-of-code/day39/day39.ipynb#X20sZmlsZQ%3D%3D?line=2'>3</a>\u001b[0m message[\u001b[39m2\u001b[39;49m] \u001b[39m=\u001b[39m \u001b[39m\"\u001b[39m\u001b[39me\u001b[39m\u001b[39m\"\u001b[39m\n\u001b[0;32m      <a href='vscode-notebook-cell:/c%3A/d/11/75-days-of-code/day39/day39.ipynb#X20sZmlsZQ%3D%3D?line=3'>4</a>\u001b[0m \u001b[39mprint\u001b[39m(message)\n",
      "\u001b[1;31mTypeError\u001b[0m: 'str' object does not support item assignment"
     ]
    }
   ],
   "source": [
    "#STRING MUTABILITY\n",
    "message = \"see you soon\"\n",
    "message[2] = \"e\"\n",
    "print(message)"
   ]
  }
 ],
 "metadata": {
  "kernelspec": {
   "display_name": "Python 3",
   "language": "python",
   "name": "python3"
  },
  "language_info": {
   "codemirror_mode": {
    "name": "ipython",
    "version": 3
   },
   "file_extension": ".py",
   "mimetype": "text/x-python",
   "name": "python",
   "nbconvert_exporter": "python",
   "pygments_lexer": "ipython3",
   "version": "3.11.5"
  },
  "orig_nbformat": 4
 },
 "nbformat": 4,
 "nbformat_minor": 2
}
