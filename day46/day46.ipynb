{
 "cells": [
  {
   "cell_type": "code",
   "execution_count": null,
   "metadata": {},
   "outputs": [],
   "source": [
    "L = [1, \"two\", 9, 5.09, \"Three\", -558, \"four\", -93.7, \"six\"]\n",
    "\n",
    "#Write your code here\n",
    "L1 = int(input())\n",
    "L2 = int(input())\n",
    "a = L[L1]\n",
    "b = L[L2]\n",
    "L[L1] = b \n",
    "L[L2] = a \n",
    "print(L)"
   ]
  },
  {
   "cell_type": "code",
   "execution_count": null,
   "metadata": {},
   "outputs": [],
   "source": [
    "n = int(input())\n",
    "t = int(input())\n",
    "list_ = []\n",
    "for i in range(1, n+1):\n",
    "    n_input = int(input())\n",
    "    list_ = list_ + [n_input]\n",
    "for i in range(1, t+1):\n",
    "    k_input = int(input())\n",
    "    print(list_[k_input])"
   ]
  },
  {
   "cell_type": "code",
   "execution_count": null,
   "metadata": {},
   "outputs": [],
   "source": [
    "n = int(input())\n",
    "list_ = []\n",
    "for i in range(1, n+1):\n",
    "    n_input = int(input())\n",
    "    if i == 1 or i ==2 or i == (n-1) or i == n :\n",
    "        list_ = list_ + [n_input]\n",
    "print(list_)"
   ]
  }
 ],
 "metadata": {
  "language_info": {
   "name": "python"
  },
  "orig_nbformat": 4
 },
 "nbformat": 4,
 "nbformat_minor": 2
}
