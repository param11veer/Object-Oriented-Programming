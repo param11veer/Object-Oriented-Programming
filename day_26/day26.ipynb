{
 "cells": [
  {
   "cell_type": "code",
   "execution_count": 4,
   "metadata": {},
   "outputs": [
    {
     "name": "stdout",
     "output_type": "stream",
     "text": [
      "1 2 3 4 5 \n",
      "6     9 \n",
      "10   12 \n",
      "13 14 \n",
      "15\n"
     ]
    }
   ],
   "source": [
    "n = int(input())\n",
    "\n",
    "start_number = 1\n",
    "\n",
    "for row in range(1, n + 1):\n",
    "    if row == 1:\n",
    "        first_row = \"\"\n",
    "        for column in range(n):\n",
    "            first_row += str(start_number) + \" \"\n",
    "            start_number += 1\n",
    "        print(first_row)\n",
    "    elif row == n:\n",
    "        last_row = str(start_number)\n",
    "        print(last_row)\n",
    "    else:\n",
    "        each_row = str(start_number) + \" \"\n",
    "        hollow_spaces = \"  \" * (n - row - 1)\n",
    "        each_row += hollow_spaces\n",
    "        start_number += int(len(hollow_spaces) / 2) + 1\n",
    "        each_row += str(start_number) + \" \"\n",
    "        start_number += 1\n",
    "        print(each_row)"
   ]
  },
  {
   "attachments": {},
   "cell_type": "markdown",
   "metadata": {},
   "source": [
    "WAP to print an inverted hollow right angled triangle of\n",
    "n rows starting from s."
   ]
  },
  {
   "cell_type": "code",
   "execution_count": 2,
   "metadata": {},
   "outputs": [
    {
     "name": "stdout",
     "output_type": "stream",
     "text": [
      "2 3 4 5 \n",
      "  6   7 \n",
      "    8 9 \n",
      "      10\n"
     ]
    }
   ],
   "source": [
    "#WAP to print an inverted hollow right angled triangle of n rows starting from s.\n",
    "\n",
    "s = int(input())\n",
    "n = int(input())\n",
    "start_number = s \n",
    "left_spaces = 1\n",
    "\n",
    "for i in range(1, n+1):\n",
    "    if i == 1 :\n",
    "        for i in range(1, n+1):\n",
    "            print(start_number, end=\" \")\n",
    "            start_number += 1 \n",
    "        print()\n",
    "    elif i == n :\n",
    "        print(\"  \"*(n-1) + (str(start_number)))\n",
    "    else :\n",
    "        # start_number -= 1 \n",
    "        count = start_number\n",
    "        count += 1 \n",
    "        left_hollow_spaces = \"  \"*left_spaces\n",
    "        middle_hollow_spaces = \"  \"*(n-i-1)\n",
    "        print(left_hollow_spaces + (str(start_number) + \" \") + middle_hollow_spaces + (str(count)+\" \"))\n",
    "        start_number += 2 \n",
    "        left_spaces += 1 "
   ]
  },
  {
   "cell_type": "code",
   "execution_count": null,
   "metadata": {},
   "outputs": [],
   "source": [
    "#Wap to print a Hollow Square of N rows and columns starting from S\n",
    "\n",
    "s = int(input())\n",
    "n = int(input())\n",
    "start_number = s \n",
    "for i in range(1, n+1):\n",
    "    if i == 1 :\n",
    "        for i in range(1, n+1):\n",
    "            print(start_number, end=\" \")\n",
    "            start_number += 1 \n",
    "        print()\n",
    "    elif i == n :\n",
    "        for i in range(1, n+1):\n",
    "            print(start_number, end=\" \")\n",
    "            start_number += 1 \n",
    "        print()\n",
    "    else :\n",
    "        hollow_spaces = \"  \"*(n-2)\n",
    "        count = start_number\n",
    "        count = count + (n-1) \n",
    "        print((str(start_number)+\" \")+hollow_spaces+((str(count)+\" \")))\n",
    "        start_number = start_number + n"
   ]
  },
  {
   "cell_type": "code",
   "execution_count": 4,
   "metadata": {},
   "outputs": [
    {
     "name": "stdout",
     "output_type": "stream",
     "text": [
      "10 9 8 7 \n",
      "6  5 \n",
      "4 3 \n",
      "1 \n"
     ]
    }
   ],
   "source": [
    "n = int(input())\n",
    "total_count = 0\n",
    "\n",
    "for nums in range(n):\n",
    "    each_row_count = n - nums \n",
    "    total_count += each_row_count \n",
    "    \n",
    "for row in range(1, n+1):\n",
    "    if row == 1 :\n",
    "        first_row = \"\"\n",
    "        for column in range(n):\n",
    "            first_row += str(total_count)+\" \"\n",
    "            total_count -= 1 \n",
    "        print(first_row)\n",
    "    elif row == n:\n",
    "        last_row = str(1) + \" \"\n",
    "        print(last_row)\n",
    "    else :\n",
    "        each_row = str(total_count) + \" \"\n",
    "        hollow_spaces = \"  \"*(n-row-1)\n",
    "        each_row += hollow_spaces\n",
    "        total_count -= int(len(hollow_spaces) / 2) + 1\n",
    "        each_row += str(total_count) + \" \"\n",
    "        total_count -= 1 \n",
    "        print(each_row)"
   ]
  },
  {
   "cell_type": "code",
   "execution_count": null,
   "metadata": {},
   "outputs": [],
   "source": [
    "#Wap to print a hollow Right angled triangle of N rows using numbers starting from s\n",
    "\n",
    "s = int(input())\n",
    "n = int(input())\n",
    "start_count = s+1\n",
    "space_count = 0\n",
    "for i in range(1, n+1):\n",
    "    if i == 1 :\n",
    "        print(str(s) + \" \")\n",
    "        # print()\n",
    "    elif i == n :\n",
    "        for i in range(1, n+1):\n",
    "            print(start_count, end=\" \")\n",
    "            start_count += 1 \n",
    "        print()\n",
    "    else :\n",
    "        count = start_count\n",
    "        count += 1 \n",
    "        hollow_spaces = \"  \"*space_count\n",
    "        print((str(start_count)+\" \")+ hollow_spaces + (str(count)+\" \"))\n",
    "        start_count += 2 \n",
    "        space_count += 1 "
   ]
  },
  {
   "cell_type": "code",
   "execution_count": null,
   "metadata": {},
   "outputs": [],
   "source": [
    "#Wap to print a hollow rectangle of M rows and N columns that contains\n",
    "#numbers starting from k where k = (m*n)\n",
    "\n",
    "m = int(input())\n",
    "n = int(input())\n",
    "k = (m*n)\n",
    "start_count = k\n",
    "for i in range(1, m+1):\n",
    "    if i == 1 :\n",
    "        for i in range(1, n+1):\n",
    "            print(start_count, end=\" \")\n",
    "            start_count -= 1 \n",
    "        print()\n",
    "    elif i == m :\n",
    "        for i in range(1, n+1):\n",
    "            print(start_count, end=\" \")\n",
    "            start_count -= 1 \n",
    "        print()\n",
    "    else:\n",
    "        count = start_count\n",
    "        count = count - (n-1)\n",
    "        hollow_spaces = \"  \"*(n-2)\n",
    "        print((str(start_count)+\" \") + hollow_spaces + (str(count)+\" \"))\n",
    "        start_count = start_count - n"
   ]
  },
  {
   "cell_type": "code",
   "execution_count": null,
   "metadata": {},
   "outputs": [],
   "source": [
    "#Wap to print the armstrong number from 1 to n\n",
    "n = int(input())\n",
    "\n",
    "for each_number in range(n):\n",
    "    value = int(input())\n",
    "    \n",
    "    string = str(value)\n",
    "    power = len(string)\n",
    "    sum_of_digits = 0\n",
    "    \n",
    "    for integer_char in string:\n",
    "        sum_of_digits = sum_of_digits + int(integer_char) ** power\n",
    "    \n",
    "    if sum_of_digits == value:\n",
    "        print(value)"
   ]
  },
  {
   "cell_type": "code",
   "execution_count": null,
   "metadata": {},
   "outputs": [],
   "source": [
    "m = int(input())\n",
    "n = int(input())\n",
    "\n",
    "sum_of_prime_numbers = 0\n",
    "\n",
    "for i in range(m, n + 1):\n",
    "    factors = 0\n",
    "\n",
    "    for j in range(2, i):\n",
    "        if i % j == 0:\n",
    "            factors = factors + 1\n",
    "    \n",
    "    if factors == 0:\n",
    "        sum_of_prime_numbers = sum_of_prime_numbers + i\n",
    "\n",
    "print(sum_of_prime_numbers)"
   ]
  },
  {
   "cell_type": "code",
   "execution_count": null,
   "metadata": {},
   "outputs": [],
   "source": [
    "#Wap to print the sum of prime numbers among the given n numbers\n",
    "n = int(input())\n",
    "sum = 0\n",
    "for i in range(1, n+1):\n",
    "    factors = 0\n",
    "    number = int(input())\n",
    "    for j in range(2, number):\n",
    "        if number%j == 0:\n",
    "            factors = factors + 1\n",
    "    if number == 1 :\n",
    "        factors = 1         \n",
    "    if factors == 0:\n",
    "        sum = sum + number\n",
    "print(sum)"
   ]
  }
 ],
 "metadata": {
  "kernelspec": {
   "display_name": "Python 3",
   "language": "python",
   "name": "python3"
  },
  "language_info": {
   "codemirror_mode": {
    "name": "ipython",
    "version": 3
   },
   "file_extension": ".py",
   "mimetype": "text/x-python",
   "name": "python",
   "nbconvert_exporter": "python",
   "pygments_lexer": "ipython3",
   "version": "3.11.4"
  },
  "orig_nbformat": 4
 },
 "nbformat": 4,
 "nbformat_minor": 2
}
