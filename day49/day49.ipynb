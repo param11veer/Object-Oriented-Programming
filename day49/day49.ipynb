{
 "cells": [
  {
   "cell_type": "code",
   "execution_count": null,
   "metadata": {},
   "outputs": [],
   "source": [
    "sentence  = input()\n",
    "\n",
    "words_list = sentence.split()\n",
    "\n",
    "print(words_list)"
   ]
  },
  {
   "cell_type": "code",
   "execution_count": null,
   "metadata": {},
   "outputs": [],
   "source": [
    "sentence = input()\n",
    "words_list = sentence.split()\n",
    "for word in words_list:\n",
    "    print(word)"
   ]
  },
  {
   "cell_type": "code",
   "execution_count": null,
   "metadata": {},
   "outputs": [],
   "source": [
    "numbers = input()\n",
    "\n",
    "numbers_list = numbers.split()\n",
    "\n",
    "resultant_list = []\n",
    "\n",
    "for number in numbers_list:\n",
    "    number = int(number)\n",
    "\n",
    "    resultant_list += [number]\n",
    "\n",
    "print(resultant_list)"
   ]
  },
  {
   "cell_type": "code",
   "execution_count": null,
   "metadata": {},
   "outputs": [],
   "source": [
    "numbers = input()\n",
    "num_list = numbers.split()\n",
    "\n",
    "list_sum = 0\n",
    "for number in num_list:\n",
    "    list_sum = list_sum + int(number)\n",
    "\n",
    "print(list_sum)"
   ]
  },
  {
   "cell_type": "code",
   "execution_count": null,
   "metadata": {},
   "outputs": [],
   "source": [
    "numbers = input()\n",
    "numbers_list = numbers.split()\n",
    "divisible_by_3_list = []\n",
    "\n",
    "for number in numbers_list:\n",
    "    number = int(number)\n",
    "\n",
    "    if number % 3 == 0:\n",
    "        divisible_by_3_list += [number]\n",
    "\n",
    "print(divisible_by_3_list)"
   ]
  },
  {
   "cell_type": "code",
   "execution_count": null,
   "metadata": {},
   "outputs": [],
   "source": [
    "numbers = input()\n",
    "numbers_list = numbers.split()\n",
    "smallest_number = int(numbers_list[0])\n",
    "\n",
    "for number in numbers_list:\n",
    "    number = int(number)\n",
    "\n",
    "    if number < smallest_number:\n",
    "        smallest_number = number\n",
    "\n",
    "print(smallest_number)"
   ]
  },
  {
   "cell_type": "code",
   "execution_count": null,
   "metadata": {},
   "outputs": [],
   "source": [
    "string = input()\n",
    "\n",
    "words_list = string.split()\n",
    "words_joined_by_dot = \".\".join(words_list)\n",
    "\n",
    "print(words_joined_by_dot)"
   ]
  },
  {
   "cell_type": "code",
   "execution_count": null,
   "metadata": {},
   "outputs": [],
   "source": [
    "numbers = input()\n",
    "\n",
    "numbers_list = numbers.split()\n",
    "numbers_joined_by_comma = \",\".join(numbers_list)\n",
    "\n",
    "print(numbers_joined_by_comma)"
   ]
  },
  {
   "cell_type": "code",
   "execution_count": null,
   "metadata": {},
   "outputs": [],
   "source": [
    "sentence = input()\n",
    "\n",
    "string_list = sentence.split()\n",
    "\n",
    "result = []\n",
    "\n",
    "for word in string_list:\n",
    "    if (len(word) > 2):\n",
    "        character = word[2]\n",
    "        result += [character]\n",
    "\n",
    "character_joined_by_comma = \",\".join(result)\n",
    "\n",
    "print(character_joined_by_comma)"
   ]
  }
 ],
 "metadata": {
  "language_info": {
   "name": "python"
  },
  "orig_nbformat": 4
 },
 "nbformat": 4,
 "nbformat_minor": 2
}
