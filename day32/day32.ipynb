{
 "cells": [
  {
   "cell_type": "code",
   "execution_count": 1,
   "metadata": {},
   "outputs": [
    {
     "name": "stdout",
     "output_type": "stream",
     "text": [
      "3\n"
     ]
    }
   ],
   "source": [
    "n = int(input())\n",
    "k = int(input())\n",
    "\n",
    "for i in range(n):\n",
    "    if n%(n-i) == 0:\n",
    "        largest_factor = n-i\n",
    "        k = k - 1 \n",
    "    if k== 0:\n",
    "        break\n",
    "print(largest_factor)"
   ]
  },
  {
   "cell_type": "code",
   "execution_count": null,
   "metadata": {},
   "outputs": [],
   "source": [
    "#WAP to print the Kth largest factor of the number N\n",
    "n = int(input())\n",
    "k = int(input())\n",
    "count = n\n",
    "counting = n+1\n",
    "for i in range(1, n+1):\n",
    "    counting -= 1\n",
    "    if n%counting == 0:\n",
    "        factors = counting\n",
    "        k = k - 1 \n",
    "        # counting -= 1\n",
    "    if k == 0 :\n",
    "        print(counting)\n",
    "        break\n",
    "if k!=0:\n",
    "    print(\"1\")"
   ]
  },
  {
   "cell_type": "code",
   "execution_count": null,
   "metadata": {},
   "outputs": [],
   "source": [
    "#WAP to print the first PRIME NUMBER among the given N inputs\n",
    "n = int(input())\n",
    "for i in range(1, n+1):\n",
    "    count = 0\n",
    "    n_input = int(input())\n",
    "    for j in range(2, n_input):\n",
    "        if n_input%j == 0 :\n",
    "            count += 1\n",
    "    if n_input>1 and count == 0:\n",
    "        print(n_input)\n",
    "        break\n",
    "    if n_input == 2:\n",
    "        print(\"2\")\n",
    "        break\n",
    "        "
   ]
  },
  {
   "cell_type": "code",
   "execution_count": null,
   "metadata": {},
   "outputs": [],
   "source": [
    "#WAP to read N inputs and print the given numbers until you encounter a multiple of 5, each on a new line.\n",
    "n = int(input())\n",
    "for i in range(1, n+1):\n",
    "    n_input = int(input())\n",
    "    if n_input%5==0 :\n",
    "        break\n",
    "    else :\n",
    "        print(n_input, end=\" \")\n",
    "    print()"
   ]
  },
  {
   "cell_type": "code",
   "execution_count": null,
   "metadata": {},
   "outputs": [],
   "source": [
    "#WAP to read N inputs and print the numbers that are multiple of 3 among the given N inputs\n",
    "n = int(input())\n",
    "for i in range(1, n+1):\n",
    "    n_input = int(input())\n",
    "    if n_input % 3 == 0:\n",
    "        print(n_input)\n",
    "        "
   ]
  },
  {
   "cell_type": "code",
   "execution_count": 2,
   "metadata": {},
   "outputs": [
    {
     "name": "stdout",
     "output_type": "stream",
     "text": [
      "A\n"
     ]
    }
   ],
   "source": [
    "#WAP to print a Right Angled Triangle of N rows using alphabets starting from A\n",
    "n = int(input())\n",
    "string = \"ABCDEFGHIJKLMNOPQRSTUVWXYZ\"\n",
    "space_count = n \n",
    "space = \"  \"\n",
    "alpha = \"\"\n",
    "for i in range(n):\n",
    "    space_count -= 1 \n",
    "    alpha = alpha + string[i] + \" \"\n",
    "    # row = row + ((space_count)*(space)) + string[i] + \" \"\n",
    "    print((space_count*space) + alpha)"
   ]
  },
  {
   "cell_type": "code",
   "execution_count": null,
   "metadata": {},
   "outputs": [],
   "source": []
  }
 ],
 "metadata": {
  "kernelspec": {
   "display_name": "Python 3",
   "language": "python",
   "name": "python3"
  },
  "language_info": {
   "codemirror_mode": {
    "name": "ipython",
    "version": 3
   },
   "file_extension": ".py",
   "mimetype": "text/x-python",
   "name": "python",
   "nbconvert_exporter": "python",
   "pygments_lexer": "ipython3",
   "version": "3.11.4"
  },
  "orig_nbformat": 4
 },
 "nbformat": 4,
 "nbformat_minor": 2
}
