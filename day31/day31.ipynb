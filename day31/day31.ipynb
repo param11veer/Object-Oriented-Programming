{
 "cells": [
  {
   "cell_type": "code",
   "execution_count": null,
   "metadata": {},
   "outputs": [],
   "source": [
    "#WAP the uppercase letter that appears first in the string\n",
    "s = input()\n",
    "length = len(s)\n",
    "for i in range(length) :\n",
    "    if s[i].isupper():\n",
    "        break\n",
    "print(s[i])"
   ]
  },
  {
   "cell_type": "code",
   "execution_count": null,
   "metadata": {},
   "outputs": [],
   "source": [
    "#WAP to print a new sentence by changing all the letters of the first word to UPPERCASE\n",
    "s = input()\n",
    "new_word = \"\"\n",
    "word = \"\"\n",
    "length = len(s)\n",
    "count = -1\n",
    "for i in s :\n",
    "    if i == \" \":\n",
    "        break \n",
    "    else :\n",
    "        new_word = new_word + i\n",
    "        count += 1 \n",
    "new_word = new_word.upper()\n",
    "# for i in range(count, length):\n",
    "#     word = word + s[i]\n",
    "    \n",
    "# print(new_word+word)\n",
    "new_sentence = new_word+s[count+1:]\n",
    "print(new_sentence)"
   ]
  },
  {
   "cell_type": "code",
   "execution_count": null,
   "metadata": {},
   "outputs": [],
   "source": [
    "#WAP to print the first negative number among the n integer inputs\n",
    "n = int(input())\n",
    "for i in range(1, n+1):\n",
    "    n_input = int(input())\n",
    "    if n_input < 0 :\n",
    "        break \n",
    "print(n_input)"
   ]
  },
  {
   "cell_type": "code",
   "execution_count": null,
   "metadata": {},
   "outputs": [],
   "source": [
    "#WAP to print the first EVEN number among the n given inputs\n",
    "n = int(input())\n",
    "for i in range(1, n+1):\n",
    "    n_input = int(input())\n",
    "    if n_input%2==0 :\n",
    "        break \n",
    "print(n_input)"
   ]
  },
  {
   "cell_type": "code",
   "execution_count": null,
   "metadata": {},
   "outputs": [],
   "source": [
    "#WAP to print the first prime number among range m to n\n",
    "m = int(input())\n",
    "n = int(input())\n",
    "\n",
    "if not (m > 1):\n",
    "    m = 2\n",
    "\n",
    "no_primes = True\n",
    "\n",
    "for i in range(m, n + 1):\n",
    "    is_prime = True\n",
    "    for j in range(2, i):\n",
    "        if i % j == 0:\n",
    "            is_prime = False\n",
    "            break\n",
    "    if is_prime:\n",
    "        print(i)\n",
    "        no_primes = False\n",
    "        break\n",
    "\n",
    "if no_primes:\n",
    "    print(\"No prime numbers in the given range\")"
   ]
  },
  {
   "cell_type": "code",
   "execution_count": null,
   "metadata": {},
   "outputs": [],
   "source": [
    "m = int(input())\n",
    "n = int(input())\n",
    "if m > n:\n",
    "  smallest_number = n\n",
    "else:\n",
    "  smallest_number = m\n",
    "gcd = smallest_number\n",
    "\n",
    "for i in range(1, smallest_number+1):\n",
    "  if ((m % i) == 0) and ((n % i) == 0):\n",
    "    print(gcd)"
   ]
  },
  {
   "cell_type": "code",
   "execution_count": 7,
   "metadata": {},
   "outputs": [
    {
     "name": "stdout",
     "output_type": "stream",
     "text": [
      "36\n"
     ]
    }
   ],
   "source": [
    "m = int(input())\n",
    "n = int(input())\n",
    "\n",
    "if m > n:\n",
    "    smallest_number = n\n",
    "else:\n",
    "    smallest_number = m\n",
    "gcd = smallest_number\n",
    "\n",
    "for i in range(1, smallest_number + 1):\n",
    "    if ((m % i) == 0) and ((n % i) == 0):\n",
    "        gcd = i\n",
    "print(gcd)"
   ]
  },
  {
   "cell_type": "code",
   "execution_count": null,
   "metadata": {},
   "outputs": [],
   "source": [
    "#WAP to print the LCM of the numbers M and N\n",
    "m = int(input())\n",
    "n = int(input())\n",
    "\n",
    "if m > n:\n",
    "    max_num = m \n",
    "    min_num = n\n",
    "else :\n",
    "    max_num = n \n",
    "    min_num = m\n",
    "# LCM = max_num\n",
    "\n",
    "for i in range(1, max_num+1):\n",
    "    product = min_num*i \n",
    "    if product%max_num == 0 :\n",
    "        LCM = product\n",
    "        break \n",
    "print(LCM)\n",
    "        "
   ]
  },
  {
   "cell_type": "code",
   "execution_count": null,
   "metadata": {},
   "outputs": [],
   "source": [
    "#WAP to print a new sentence by removing vowels from the given sentence S\n",
    "s = input()\n",
    "vowels = \"AEIOUaeiou\"\n",
    "for i in s:\n",
    "    for j in vowels:\n",
    "        if i == j :\n",
    "            s = s.replace(j,\"\")\n",
    "print(s)"
   ]
  },
  {
   "cell_type": "code",
   "execution_count": null,
   "metadata": {},
   "outputs": [],
   "source": [
    "\n",
    "n = int(input())\n",
    "is_prime = True\n",
    "for i in range(2, n):\n",
    "    if (n % i) == 0:\n",
    "        is_prime = False\n",
    "        break\n",
    "print(is_prime)\n"
   ]
  }
 ],
 "metadata": {
  "kernelspec": {
   "display_name": "Python 3",
   "language": "python",
   "name": "python3"
  },
  "language_info": {
   "codemirror_mode": {
    "name": "ipython",
    "version": 3
   },
   "file_extension": ".py",
   "mimetype": "text/x-python",
   "name": "python",
   "nbconvert_exporter": "python",
   "pygments_lexer": "ipython3",
   "version": "3.11.4"
  },
  "orig_nbformat": 4
 },
 "nbformat": 4,
 "nbformat_minor": 2
}
